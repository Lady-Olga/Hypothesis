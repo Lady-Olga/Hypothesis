{
 "cells": [
  {
   "cell_type": "markdown",
   "metadata": {},
   "source": [
    "# [Принятие решений в бизнесе](#1)"
   ]
  },
  {
   "cell_type": "markdown",
   "metadata": {},
   "source": [
    "**Имеется список гипотез для увеличения выручки. Необходимо их приоритизировать, запустить A/B-тест и проанализировать результаты.**\n",
    "\n",
    "Описание данных:\n",
    "\n",
    "Файл /datasets/hypothesis.csv\n",
    "* Hypothesis — краткое описание гипотезы;\n",
    "* Reach — охват пользователей по 10-балльной шкале;\n",
    "* Impact — влияние на пользователей по 10-балльной шкале;\n",
    "* Confidence — уверенность в гипотезе по 10-балльной шкале;\n",
    "* Efforts — затраты ресурсов на проверку гипотезы по 10-балльной шкале. Чем больше значение Efforts, тем дороже проверка гипотезы.\n",
    "\n",
    "Файл /datasets/orders.csv\n",
    "* transactionId — идентификатор заказа;\n",
    "* visitorId — идентификатор пользователя, совершившего заказ;\n",
    "* date — дата, когда был совершён заказ;\n",
    "* revenue — выручка заказа;\n",
    "* group — группа A/B-теста, в которую попал заказ.\n",
    "\n",
    "Файл /datasets/visitors.csv\n",
    "* date — дата;\n",
    "* group — группа A/B-теста;\n",
    "* visitors — количество пользователей в указанную дату в указанной группе A/B-теста"
   ]
  },
  {
   "cell_type": "markdown",
   "metadata": {},
   "source": [
    "***Оглавление***\n",
    "\n",
    "**[Приоритизация гипотез](#0)**\n",
    "\n",
    "[Предобработаем данные](#1)\n",
    "\n",
    "[Применяем фреймворк ICE для приоритизации гипотез. Отсортируем их по убыванию приоритета](#2)\n",
    "\n",
    "[Применяем фреймворк RICE для приоритизации гипотез. Отсортируем их по убыванию приоритета](#3)\n",
    "\n",
    "[Узнаем, как изменилась приоритизация гипотез при применении RICE вместо ICE](#4)\n",
    "\n",
    "**[Анализ A/B-теста](#5)**\n",
    "\n",
    "[График кумулятивной выручки по группам](#6)\n",
    "\n",
    "[График кумулятивного среднего чека по группам](#7)\n",
    "\n",
    "[График относительного изменения кумулятивного среднего чека группы B к группе A](#8)\n",
    "\n",
    "[График кумулятивного среднего количества заказов на посетителя по группам](#9)\n",
    "\n",
    "[График относительного изменения кумулятивного среднего количества заказов на посетителя группы B к группе A](#10)\n",
    "\n",
    "[Точечный график количества заказов по пользователям](#11)\n",
    "\n",
    "[95-й и 99-й перцентили количества заказов на пользователя](#12)\n",
    "\n",
    "[Точечный график стоимостей заказов](#13)\n",
    "\n",
    "[95-й и 99-й перцентили стоимости заказов](#14)\n",
    "\n",
    "[Cтатистическая значимость различий в среднем количестве заказов на посетителя между группами по «сырым» данным](#15)\n",
    "\n",
    "[Статистическая значимость различий в среднем чеке заказа между группами по «сырым» данным](#16)\n",
    "\n",
    "[Статистическая значимость различий в среднем количестве заказов на посетителя между группами по «очищенным» данным](#17)\n",
    "\n",
    "[Статистическая значимость различий в среднем чеке заказа между группами по «очищенным» данным](#18)\n",
    "\n",
    "**[Выводы](#19)**"
   ]
  },
  {
   "cell_type": "markdown",
   "metadata": {},
   "source": [
    "<a id='0'></a>\n",
    "## Приоритизация гипотез.\n",
    "Задачи:\n",
    "\n",
    "* Применить фреймворк ICE для приоритизации гипотез. Отсортировать их по убыванию приоритета.\n",
    "* Применить фреймворк RICE для приоритизации гипотез. Отсортировать их по убыванию приоритета.\n",
    "* Указать, как изменилась приоритизация гипотез при применении RICE вместо ICE. Объяснить, почему так произошло."
   ]
  },
  {
   "cell_type": "markdown",
   "metadata": {},
   "source": [
    "<a id='1'></a>\n",
    "### Предобработаем данные"
   ]
  },
  {
   "cell_type": "markdown",
   "metadata": {},
   "source": [
    "Импортируем библиотеки, необходимые для работы"
   ]
  },
  {
   "cell_type": "code",
   "execution_count": 1,
   "metadata": {},
   "outputs": [],
   "source": [
    "import pandas as pd\n",
    "import matplotlib.pyplot as plt\n",
    "import datetime as dt\n",
    "import numpy as np\n",
    "import scipy.stats as stats\n",
    "import math"
   ]
  },
  {
   "cell_type": "markdown",
   "metadata": {},
   "source": [
    "Открываем файлы"
   ]
  },
  {
   "cell_type": "code",
   "execution_count": 2,
   "metadata": {},
   "outputs": [],
   "source": [
    "hypothesis = pd.read_csv('/datasets/hypothesis.csv')\n",
    "orders = pd.read_csv('/datasets/orders.csv')\n",
    "visitors = pd.read_csv('/datasets/visitors.csv')"
   ]
  },
  {
   "cell_type": "markdown",
   "metadata": {},
   "source": [
    "Просматриваем файлы"
   ]
  },
  {
   "cell_type": "code",
   "execution_count": 3,
   "metadata": {},
   "outputs": [
    {
     "data": {
      "text/html": [
       "<div>\n",
       "<style scoped>\n",
       "    .dataframe tbody tr th:only-of-type {\n",
       "        vertical-align: middle;\n",
       "    }\n",
       "\n",
       "    .dataframe tbody tr th {\n",
       "        vertical-align: top;\n",
       "    }\n",
       "\n",
       "    .dataframe thead th {\n",
       "        text-align: right;\n",
       "    }\n",
       "</style>\n",
       "<table border=\"1\" class=\"dataframe\">\n",
       "  <thead>\n",
       "    <tr style=\"text-align: right;\">\n",
       "      <th></th>\n",
       "      <th>Hypothesis</th>\n",
       "      <th>Reach</th>\n",
       "      <th>Impact</th>\n",
       "      <th>Confidence</th>\n",
       "      <th>Efforts</th>\n",
       "    </tr>\n",
       "  </thead>\n",
       "  <tbody>\n",
       "    <tr>\n",
       "      <th>4</th>\n",
       "      <td>Изменить цвет фона главной страницы, чтобы уве...</td>\n",
       "      <td>3</td>\n",
       "      <td>1</td>\n",
       "      <td>1</td>\n",
       "      <td>1</td>\n",
       "    </tr>\n",
       "    <tr>\n",
       "      <th>3</th>\n",
       "      <td>Изменить структура категорий, что увеличит кон...</td>\n",
       "      <td>8</td>\n",
       "      <td>3</td>\n",
       "      <td>3</td>\n",
       "      <td>8</td>\n",
       "    </tr>\n",
       "    <tr>\n",
       "      <th>1</th>\n",
       "      <td>Запустить собственную службу доставки, что сок...</td>\n",
       "      <td>2</td>\n",
       "      <td>5</td>\n",
       "      <td>4</td>\n",
       "      <td>10</td>\n",
       "    </tr>\n",
       "    <tr>\n",
       "      <th>5</th>\n",
       "      <td>Добавить страницу отзывов клиентов о магазине,...</td>\n",
       "      <td>3</td>\n",
       "      <td>2</td>\n",
       "      <td>2</td>\n",
       "      <td>3</td>\n",
       "    </tr>\n",
       "    <tr>\n",
       "      <th>6</th>\n",
       "      <td>Показать на главной странице баннеры с актуаль...</td>\n",
       "      <td>5</td>\n",
       "      <td>3</td>\n",
       "      <td>8</td>\n",
       "      <td>3</td>\n",
       "    </tr>\n",
       "  </tbody>\n",
       "</table>\n",
       "</div>"
      ],
      "text/plain": [
       "                                          Hypothesis  Reach  Impact  \\\n",
       "4  Изменить цвет фона главной страницы, чтобы уве...      3       1   \n",
       "3  Изменить структура категорий, что увеличит кон...      8       3   \n",
       "1  Запустить собственную службу доставки, что сок...      2       5   \n",
       "5  Добавить страницу отзывов клиентов о магазине,...      3       2   \n",
       "6  Показать на главной странице баннеры с актуаль...      5       3   \n",
       "\n",
       "   Confidence  Efforts  \n",
       "4           1        1  \n",
       "3           3        8  \n",
       "1           4       10  \n",
       "5           2        3  \n",
       "6           8        3  "
      ]
     },
     "execution_count": 3,
     "metadata": {},
     "output_type": "execute_result"
    }
   ],
   "source": [
    "hypothesis.sample(5, random_state=13)"
   ]
  },
  {
   "cell_type": "markdown",
   "metadata": {},
   "source": [
    "Изучаем информацию о типах данных"
   ]
  },
  {
   "cell_type": "code",
   "execution_count": 4,
   "metadata": {},
   "outputs": [
    {
     "name": "stdout",
     "output_type": "stream",
     "text": [
      "<class 'pandas.core.frame.DataFrame'>\n",
      "RangeIndex: 9 entries, 0 to 8\n",
      "Data columns (total 5 columns):\n",
      " #   Column      Non-Null Count  Dtype \n",
      "---  ------      --------------  ----- \n",
      " 0   Hypothesis  9 non-null      object\n",
      " 1   Reach       9 non-null      int64 \n",
      " 2   Impact      9 non-null      int64 \n",
      " 3   Confidence  9 non-null      int64 \n",
      " 4   Efforts     9 non-null      int64 \n",
      "dtypes: int64(4), object(1)\n",
      "memory usage: 488.0+ bytes\n"
     ]
    }
   ],
   "source": [
    "hypothesis.info()"
   ]
  },
  {
   "cell_type": "markdown",
   "metadata": {},
   "source": [
    "Выявляем пропуски и дубликаты"
   ]
  },
  {
   "cell_type": "code",
   "execution_count": 5,
   "metadata": {},
   "outputs": [
    {
     "data": {
      "text/html": [
       "<div>\n",
       "<style scoped>\n",
       "    .dataframe tbody tr th:only-of-type {\n",
       "        vertical-align: middle;\n",
       "    }\n",
       "\n",
       "    .dataframe tbody tr th {\n",
       "        vertical-align: top;\n",
       "    }\n",
       "\n",
       "    .dataframe thead th {\n",
       "        text-align: right;\n",
       "    }\n",
       "</style>\n",
       "<table border=\"1\" class=\"dataframe\">\n",
       "  <thead>\n",
       "    <tr style=\"text-align: right;\">\n",
       "      <th></th>\n",
       "      <th>0</th>\n",
       "    </tr>\n",
       "  </thead>\n",
       "  <tbody>\n",
       "    <tr>\n",
       "      <th>Hypothesis</th>\n",
       "      <td>0.0</td>\n",
       "    </tr>\n",
       "    <tr>\n",
       "      <th>Reach</th>\n",
       "      <td>0.0</td>\n",
       "    </tr>\n",
       "    <tr>\n",
       "      <th>Impact</th>\n",
       "      <td>0.0</td>\n",
       "    </tr>\n",
       "    <tr>\n",
       "      <th>Confidence</th>\n",
       "      <td>0.0</td>\n",
       "    </tr>\n",
       "    <tr>\n",
       "      <th>Efforts</th>\n",
       "      <td>0.0</td>\n",
       "    </tr>\n",
       "  </tbody>\n",
       "</table>\n",
       "</div>"
      ],
      "text/plain": [
       "              0\n",
       "Hypothesis  0.0\n",
       "Reach       0.0\n",
       "Impact      0.0\n",
       "Confidence  0.0\n",
       "Efforts     0.0"
      ]
     },
     "execution_count": 5,
     "metadata": {},
     "output_type": "execute_result"
    }
   ],
   "source": [
    "pd.DataFrame(round(hypothesis.isna().mean()*100,1))"
   ]
  },
  {
   "cell_type": "code",
   "execution_count": 6,
   "metadata": {},
   "outputs": [
    {
     "data": {
      "text/plain": [
       "0"
      ]
     },
     "execution_count": 6,
     "metadata": {},
     "output_type": "execute_result"
    }
   ],
   "source": [
    "hypothesis.duplicated().sum()"
   ]
  },
  {
   "cell_type": "markdown",
   "metadata": {},
   "source": [
    "Приводим названия столбцов к общепринятому формату согласно правилам хорошего стиля"
   ]
  },
  {
   "cell_type": "code",
   "execution_count": 7,
   "metadata": {},
   "outputs": [],
   "source": [
    "hypothesis.columns = hypothesis.columns.str.lower()"
   ]
  },
  {
   "cell_type": "markdown",
   "metadata": {},
   "source": [
    "Аналогично действуем с оставшимися двумя файлами данных"
   ]
  },
  {
   "cell_type": "code",
   "execution_count": 8,
   "metadata": {},
   "outputs": [
    {
     "data": {
      "text/html": [
       "<div>\n",
       "<style scoped>\n",
       "    .dataframe tbody tr th:only-of-type {\n",
       "        vertical-align: middle;\n",
       "    }\n",
       "\n",
       "    .dataframe tbody tr th {\n",
       "        vertical-align: top;\n",
       "    }\n",
       "\n",
       "    .dataframe thead th {\n",
       "        text-align: right;\n",
       "    }\n",
       "</style>\n",
       "<table border=\"1\" class=\"dataframe\">\n",
       "  <thead>\n",
       "    <tr style=\"text-align: right;\">\n",
       "      <th></th>\n",
       "      <th>transactionId</th>\n",
       "      <th>visitorId</th>\n",
       "      <th>date</th>\n",
       "      <th>revenue</th>\n",
       "      <th>group</th>\n",
       "    </tr>\n",
       "  </thead>\n",
       "  <tbody>\n",
       "    <tr>\n",
       "      <th>103</th>\n",
       "      <td>2951399376</td>\n",
       "      <td>2019355024</td>\n",
       "      <td>2019-08-01</td>\n",
       "      <td>2550</td>\n",
       "      <td>B</td>\n",
       "    </tr>\n",
       "    <tr>\n",
       "      <th>107</th>\n",
       "      <td>1524568202</td>\n",
       "      <td>1722579998</td>\n",
       "      <td>2019-08-16</td>\n",
       "      <td>8390</td>\n",
       "      <td>A</td>\n",
       "    </tr>\n",
       "    <tr>\n",
       "      <th>275</th>\n",
       "      <td>26423654</td>\n",
       "      <td>1229866403</td>\n",
       "      <td>2019-08-23</td>\n",
       "      <td>1940</td>\n",
       "      <td>A</td>\n",
       "    </tr>\n",
       "    <tr>\n",
       "      <th>1102</th>\n",
       "      <td>1941707234</td>\n",
       "      <td>199603092</td>\n",
       "      <td>2019-08-12</td>\n",
       "      <td>6438</td>\n",
       "      <td>A</td>\n",
       "    </tr>\n",
       "    <tr>\n",
       "      <th>960</th>\n",
       "      <td>2012277167</td>\n",
       "      <td>2999642019</td>\n",
       "      <td>2019-08-10</td>\n",
       "      <td>28750</td>\n",
       "      <td>B</td>\n",
       "    </tr>\n",
       "  </tbody>\n",
       "</table>\n",
       "</div>"
      ],
      "text/plain": [
       "      transactionId   visitorId        date  revenue group\n",
       "103      2951399376  2019355024  2019-08-01     2550     B\n",
       "107      1524568202  1722579998  2019-08-16     8390     A\n",
       "275        26423654  1229866403  2019-08-23     1940     A\n",
       "1102     1941707234   199603092  2019-08-12     6438     A\n",
       "960      2012277167  2999642019  2019-08-10    28750     B"
      ]
     },
     "execution_count": 8,
     "metadata": {},
     "output_type": "execute_result"
    }
   ],
   "source": [
    "orders.sample(5, random_state=13)"
   ]
  },
  {
   "cell_type": "code",
   "execution_count": 9,
   "metadata": {
    "scrolled": true
   },
   "outputs": [
    {
     "name": "stdout",
     "output_type": "stream",
     "text": [
      "<class 'pandas.core.frame.DataFrame'>\n",
      "RangeIndex: 1197 entries, 0 to 1196\n",
      "Data columns (total 5 columns):\n",
      " #   Column         Non-Null Count  Dtype \n",
      "---  ------         --------------  ----- \n",
      " 0   transactionId  1197 non-null   int64 \n",
      " 1   visitorId      1197 non-null   int64 \n",
      " 2   date           1197 non-null   object\n",
      " 3   revenue        1197 non-null   int64 \n",
      " 4   group          1197 non-null   object\n",
      "dtypes: int64(3), object(2)\n",
      "memory usage: 46.9+ KB\n"
     ]
    }
   ],
   "source": [
    "orders.info()"
   ]
  },
  {
   "cell_type": "code",
   "execution_count": 10,
   "metadata": {},
   "outputs": [],
   "source": [
    "orders['date'] = pd.to_datetime(orders['date']).dt.date "
   ]
  },
  {
   "cell_type": "code",
   "execution_count": 11,
   "metadata": {},
   "outputs": [
    {
     "data": {
      "text/html": [
       "<div>\n",
       "<style scoped>\n",
       "    .dataframe tbody tr th:only-of-type {\n",
       "        vertical-align: middle;\n",
       "    }\n",
       "\n",
       "    .dataframe tbody tr th {\n",
       "        vertical-align: top;\n",
       "    }\n",
       "\n",
       "    .dataframe thead th {\n",
       "        text-align: right;\n",
       "    }\n",
       "</style>\n",
       "<table border=\"1\" class=\"dataframe\">\n",
       "  <thead>\n",
       "    <tr style=\"text-align: right;\">\n",
       "      <th></th>\n",
       "      <th>0</th>\n",
       "    </tr>\n",
       "  </thead>\n",
       "  <tbody>\n",
       "    <tr>\n",
       "      <th>transactionId</th>\n",
       "      <td>0.0</td>\n",
       "    </tr>\n",
       "    <tr>\n",
       "      <th>visitorId</th>\n",
       "      <td>0.0</td>\n",
       "    </tr>\n",
       "    <tr>\n",
       "      <th>date</th>\n",
       "      <td>0.0</td>\n",
       "    </tr>\n",
       "    <tr>\n",
       "      <th>revenue</th>\n",
       "      <td>0.0</td>\n",
       "    </tr>\n",
       "    <tr>\n",
       "      <th>group</th>\n",
       "      <td>0.0</td>\n",
       "    </tr>\n",
       "  </tbody>\n",
       "</table>\n",
       "</div>"
      ],
      "text/plain": [
       "                 0\n",
       "transactionId  0.0\n",
       "visitorId      0.0\n",
       "date           0.0\n",
       "revenue        0.0\n",
       "group          0.0"
      ]
     },
     "execution_count": 11,
     "metadata": {},
     "output_type": "execute_result"
    }
   ],
   "source": [
    "pd.DataFrame(round(orders.isna().mean()*100,1))"
   ]
  },
  {
   "cell_type": "code",
   "execution_count": 12,
   "metadata": {},
   "outputs": [
    {
     "data": {
      "text/plain": [
       "0"
      ]
     },
     "execution_count": 12,
     "metadata": {},
     "output_type": "execute_result"
    }
   ],
   "source": [
    "orders.duplicated().sum()"
   ]
  },
  {
   "cell_type": "code",
   "execution_count": 13,
   "metadata": {
    "scrolled": true
   },
   "outputs": [
    {
     "data": {
      "text/html": [
       "<div>\n",
       "<style scoped>\n",
       "    .dataframe tbody tr th:only-of-type {\n",
       "        vertical-align: middle;\n",
       "    }\n",
       "\n",
       "    .dataframe tbody tr th {\n",
       "        vertical-align: top;\n",
       "    }\n",
       "\n",
       "    .dataframe thead th {\n",
       "        text-align: right;\n",
       "    }\n",
       "</style>\n",
       "<table border=\"1\" class=\"dataframe\">\n",
       "  <thead>\n",
       "    <tr style=\"text-align: right;\">\n",
       "      <th></th>\n",
       "      <th>date</th>\n",
       "      <th>group</th>\n",
       "      <th>visitors</th>\n",
       "    </tr>\n",
       "  </thead>\n",
       "  <tbody>\n",
       "    <tr>\n",
       "      <th>55</th>\n",
       "      <td>2019-08-25</td>\n",
       "      <td>B</td>\n",
       "      <td>679</td>\n",
       "    </tr>\n",
       "    <tr>\n",
       "      <th>4</th>\n",
       "      <td>2019-08-05</td>\n",
       "      <td>A</td>\n",
       "      <td>756</td>\n",
       "    </tr>\n",
       "    <tr>\n",
       "      <th>42</th>\n",
       "      <td>2019-08-12</td>\n",
       "      <td>B</td>\n",
       "      <td>543</td>\n",
       "    </tr>\n",
       "    <tr>\n",
       "      <th>14</th>\n",
       "      <td>2019-08-15</td>\n",
       "      <td>A</td>\n",
       "      <td>628</td>\n",
       "    </tr>\n",
       "    <tr>\n",
       "      <th>0</th>\n",
       "      <td>2019-08-01</td>\n",
       "      <td>A</td>\n",
       "      <td>719</td>\n",
       "    </tr>\n",
       "  </tbody>\n",
       "</table>\n",
       "</div>"
      ],
      "text/plain": [
       "          date group  visitors\n",
       "55  2019-08-25     B       679\n",
       "4   2019-08-05     A       756\n",
       "42  2019-08-12     B       543\n",
       "14  2019-08-15     A       628\n",
       "0   2019-08-01     A       719"
      ]
     },
     "execution_count": 13,
     "metadata": {},
     "output_type": "execute_result"
    }
   ],
   "source": [
    "visitors.sample(5, random_state=13)"
   ]
  },
  {
   "cell_type": "code",
   "execution_count": 14,
   "metadata": {
    "scrolled": true
   },
   "outputs": [
    {
     "name": "stdout",
     "output_type": "stream",
     "text": [
      "<class 'pandas.core.frame.DataFrame'>\n",
      "RangeIndex: 62 entries, 0 to 61\n",
      "Data columns (total 3 columns):\n",
      " #   Column    Non-Null Count  Dtype \n",
      "---  ------    --------------  ----- \n",
      " 0   date      62 non-null     object\n",
      " 1   group     62 non-null     object\n",
      " 2   visitors  62 non-null     int64 \n",
      "dtypes: int64(1), object(2)\n",
      "memory usage: 1.6+ KB\n"
     ]
    }
   ],
   "source": [
    "visitors.info()"
   ]
  },
  {
   "cell_type": "code",
   "execution_count": 15,
   "metadata": {},
   "outputs": [],
   "source": [
    "visitors['date'] = pd.to_datetime(visitors['date']).dt.date "
   ]
  },
  {
   "cell_type": "code",
   "execution_count": 16,
   "metadata": {},
   "outputs": [
    {
     "data": {
      "text/html": [
       "<div>\n",
       "<style scoped>\n",
       "    .dataframe tbody tr th:only-of-type {\n",
       "        vertical-align: middle;\n",
       "    }\n",
       "\n",
       "    .dataframe tbody tr th {\n",
       "        vertical-align: top;\n",
       "    }\n",
       "\n",
       "    .dataframe thead th {\n",
       "        text-align: right;\n",
       "    }\n",
       "</style>\n",
       "<table border=\"1\" class=\"dataframe\">\n",
       "  <thead>\n",
       "    <tr style=\"text-align: right;\">\n",
       "      <th></th>\n",
       "      <th>0</th>\n",
       "    </tr>\n",
       "  </thead>\n",
       "  <tbody>\n",
       "    <tr>\n",
       "      <th>date</th>\n",
       "      <td>0.0</td>\n",
       "    </tr>\n",
       "    <tr>\n",
       "      <th>group</th>\n",
       "      <td>0.0</td>\n",
       "    </tr>\n",
       "    <tr>\n",
       "      <th>visitors</th>\n",
       "      <td>0.0</td>\n",
       "    </tr>\n",
       "  </tbody>\n",
       "</table>\n",
       "</div>"
      ],
      "text/plain": [
       "            0\n",
       "date      0.0\n",
       "group     0.0\n",
       "visitors  0.0"
      ]
     },
     "execution_count": 16,
     "metadata": {},
     "output_type": "execute_result"
    }
   ],
   "source": [
    "pd.DataFrame(round(visitors.isna().mean()*100,1))"
   ]
  },
  {
   "cell_type": "code",
   "execution_count": 17,
   "metadata": {
    "scrolled": true
   },
   "outputs": [
    {
     "data": {
      "text/plain": [
       "0"
      ]
     },
     "execution_count": 17,
     "metadata": {},
     "output_type": "execute_result"
    }
   ],
   "source": [
    "visitors.duplicated().sum()"
   ]
  },
  {
   "cell_type": "markdown",
   "metadata": {},
   "source": [
    "Убедимся в равномерном распределении пользователей по группам"
   ]
  },
  {
   "cell_type": "code",
   "execution_count": 18,
   "metadata": {},
   "outputs": [
    {
     "data": {
      "text/plain": [
       "B    31\n",
       "A    31\n",
       "Name: group, dtype: int64"
      ]
     },
     "execution_count": 18,
     "metadata": {},
     "output_type": "execute_result"
    }
   ],
   "source": [
    "visitors['group'].value_counts()"
   ]
  },
  {
   "cell_type": "markdown",
   "metadata": {},
   "source": [
    "Найдём срок проведения теста"
   ]
  },
  {
   "cell_type": "code",
   "execution_count": 19,
   "metadata": {},
   "outputs": [
    {
     "name": "stdout",
     "output_type": "stream",
     "text": [
      "Тест проводился с 2019-08-01 по 2019-08-31\n"
     ]
    }
   ],
   "source": [
    "print('Тест проводился с', min(orders['date']), 'по', max(orders['date']))"
   ]
  },
  {
   "cell_type": "markdown",
   "metadata": {},
   "source": [
    "Выясним, не попадают ли какие-то пользователи в обе группы"
   ]
  },
  {
   "cell_type": "code",
   "execution_count": 20,
   "metadata": {},
   "outputs": [
    {
     "data": {
      "text/html": [
       "<div>\n",
       "<style scoped>\n",
       "    .dataframe tbody tr th:only-of-type {\n",
       "        vertical-align: middle;\n",
       "    }\n",
       "\n",
       "    .dataframe tbody tr th {\n",
       "        vertical-align: top;\n",
       "    }\n",
       "\n",
       "    .dataframe thead th {\n",
       "        text-align: right;\n",
       "    }\n",
       "</style>\n",
       "<table border=\"1\" class=\"dataframe\">\n",
       "  <thead>\n",
       "    <tr style=\"text-align: right;\">\n",
       "      <th></th>\n",
       "      <th>transactionId</th>\n",
       "      <th>visitorId</th>\n",
       "      <th>date</th>\n",
       "      <th>revenue</th>\n",
       "      <th>group</th>\n",
       "    </tr>\n",
       "  </thead>\n",
       "  <tbody>\n",
       "  </tbody>\n",
       "</table>\n",
       "</div>"
      ],
      "text/plain": [
       "Empty DataFrame\n",
       "Columns: [transactionId, visitorId, date, revenue, group]\n",
       "Index: []"
      ]
     },
     "execution_count": 20,
     "metadata": {},
     "output_type": "execute_result"
    }
   ],
   "source": [
    "duplicates = orders.duplicated(subset=['transactionId','visitorId'])\n",
    "orders[duplicates == True]"
   ]
  },
  {
   "cell_type": "code",
   "execution_count": 21,
   "metadata": {
    "scrolled": true
   },
   "outputs": [
    {
     "data": {
      "text/html": [
       "<div>\n",
       "<style scoped>\n",
       "    .dataframe tbody tr th:only-of-type {\n",
       "        vertical-align: middle;\n",
       "    }\n",
       "\n",
       "    .dataframe tbody tr th {\n",
       "        vertical-align: top;\n",
       "    }\n",
       "\n",
       "    .dataframe thead th {\n",
       "        text-align: right;\n",
       "    }\n",
       "</style>\n",
       "<table border=\"1\" class=\"dataframe\">\n",
       "  <thead>\n",
       "    <tr style=\"text-align: right;\">\n",
       "      <th></th>\n",
       "      <th>visitorId</th>\n",
       "      <th>group</th>\n",
       "    </tr>\n",
       "  </thead>\n",
       "  <tbody>\n",
       "    <tr>\n",
       "      <th>2</th>\n",
       "      <td>8300375</td>\n",
       "      <td>2</td>\n",
       "    </tr>\n",
       "    <tr>\n",
       "      <th>44</th>\n",
       "      <td>199603092</td>\n",
       "      <td>2</td>\n",
       "    </tr>\n",
       "    <tr>\n",
       "      <th>51</th>\n",
       "      <td>232979603</td>\n",
       "      <td>2</td>\n",
       "    </tr>\n",
       "    <tr>\n",
       "      <th>55</th>\n",
       "      <td>237748145</td>\n",
       "      <td>2</td>\n",
       "    </tr>\n",
       "    <tr>\n",
       "      <th>66</th>\n",
       "      <td>276558944</td>\n",
       "      <td>2</td>\n",
       "    </tr>\n",
       "    <tr>\n",
       "      <th>84</th>\n",
       "      <td>351125977</td>\n",
       "      <td>2</td>\n",
       "    </tr>\n",
       "    <tr>\n",
       "      <th>97</th>\n",
       "      <td>393266494</td>\n",
       "      <td>2</td>\n",
       "    </tr>\n",
       "    <tr>\n",
       "      <th>114</th>\n",
       "      <td>457167155</td>\n",
       "      <td>2</td>\n",
       "    </tr>\n",
       "    <tr>\n",
       "      <th>119</th>\n",
       "      <td>471551937</td>\n",
       "      <td>2</td>\n",
       "    </tr>\n",
       "    <tr>\n",
       "      <th>122</th>\n",
       "      <td>477780734</td>\n",
       "      <td>2</td>\n",
       "    </tr>\n",
       "    <tr>\n",
       "      <th>192</th>\n",
       "      <td>818047933</td>\n",
       "      <td>2</td>\n",
       "    </tr>\n",
       "    <tr>\n",
       "      <th>236</th>\n",
       "      <td>963407295</td>\n",
       "      <td>2</td>\n",
       "    </tr>\n",
       "    <tr>\n",
       "      <th>299</th>\n",
       "      <td>1230306981</td>\n",
       "      <td>2</td>\n",
       "    </tr>\n",
       "    <tr>\n",
       "      <th>311</th>\n",
       "      <td>1294878855</td>\n",
       "      <td>2</td>\n",
       "    </tr>\n",
       "    <tr>\n",
       "      <th>316</th>\n",
       "      <td>1316129916</td>\n",
       "      <td>2</td>\n",
       "    </tr>\n",
       "    <tr>\n",
       "      <th>318</th>\n",
       "      <td>1333886533</td>\n",
       "      <td>2</td>\n",
       "    </tr>\n",
       "    <tr>\n",
       "      <th>340</th>\n",
       "      <td>1404934699</td>\n",
       "      <td>2</td>\n",
       "    </tr>\n",
       "    <tr>\n",
       "      <th>386</th>\n",
       "      <td>1602967004</td>\n",
       "      <td>2</td>\n",
       "    </tr>\n",
       "    <tr>\n",
       "      <th>393</th>\n",
       "      <td>1614305549</td>\n",
       "      <td>2</td>\n",
       "    </tr>\n",
       "    <tr>\n",
       "      <th>402</th>\n",
       "      <td>1648269707</td>\n",
       "      <td>2</td>\n",
       "    </tr>\n",
       "    <tr>\n",
       "      <th>406</th>\n",
       "      <td>1668030113</td>\n",
       "      <td>2</td>\n",
       "    </tr>\n",
       "    <tr>\n",
       "      <th>422</th>\n",
       "      <td>1738359350</td>\n",
       "      <td>2</td>\n",
       "    </tr>\n",
       "    <tr>\n",
       "      <th>436</th>\n",
       "      <td>1801183820</td>\n",
       "      <td>2</td>\n",
       "    </tr>\n",
       "    <tr>\n",
       "      <th>469</th>\n",
       "      <td>1959144690</td>\n",
       "      <td>2</td>\n",
       "    </tr>\n",
       "    <tr>\n",
       "      <th>487</th>\n",
       "      <td>2038680547</td>\n",
       "      <td>2</td>\n",
       "    </tr>\n",
       "    <tr>\n",
       "      <th>491</th>\n",
       "      <td>2044997962</td>\n",
       "      <td>2</td>\n",
       "    </tr>\n",
       "    <tr>\n",
       "      <th>569</th>\n",
       "      <td>2378935119</td>\n",
       "      <td>2</td>\n",
       "    </tr>\n",
       "    <tr>\n",
       "      <th>591</th>\n",
       "      <td>2458001652</td>\n",
       "      <td>2</td>\n",
       "    </tr>\n",
       "    <tr>\n",
       "      <th>614</th>\n",
       "      <td>2579882178</td>\n",
       "      <td>2</td>\n",
       "    </tr>\n",
       "    <tr>\n",
       "      <th>619</th>\n",
       "      <td>2587333274</td>\n",
       "      <td>2</td>\n",
       "    </tr>\n",
       "    <tr>\n",
       "      <th>622</th>\n",
       "      <td>2600415354</td>\n",
       "      <td>2</td>\n",
       "    </tr>\n",
       "    <tr>\n",
       "      <th>639</th>\n",
       "      <td>2654030115</td>\n",
       "      <td>2</td>\n",
       "    </tr>\n",
       "    <tr>\n",
       "      <th>648</th>\n",
       "      <td>2686716486</td>\n",
       "      <td>2</td>\n",
       "    </tr>\n",
       "    <tr>\n",
       "      <th>661</th>\n",
       "      <td>2712142231</td>\n",
       "      <td>2</td>\n",
       "    </tr>\n",
       "    <tr>\n",
       "      <th>662</th>\n",
       "      <td>2716752286</td>\n",
       "      <td>2</td>\n",
       "    </tr>\n",
       "    <tr>\n",
       "      <th>677</th>\n",
       "      <td>2780786433</td>\n",
       "      <td>2</td>\n",
       "    </tr>\n",
       "    <tr>\n",
       "      <th>710</th>\n",
       "      <td>2927087541</td>\n",
       "      <td>2</td>\n",
       "    </tr>\n",
       "    <tr>\n",
       "      <th>715</th>\n",
       "      <td>2949041841</td>\n",
       "      <td>2</td>\n",
       "    </tr>\n",
       "    <tr>\n",
       "      <th>718</th>\n",
       "      <td>2954449915</td>\n",
       "      <td>2</td>\n",
       "    </tr>\n",
       "    <tr>\n",
       "      <th>744</th>\n",
       "      <td>3062433592</td>\n",
       "      <td>2</td>\n",
       "    </tr>\n",
       "    <tr>\n",
       "      <th>784</th>\n",
       "      <td>3202540741</td>\n",
       "      <td>2</td>\n",
       "    </tr>\n",
       "    <tr>\n",
       "      <th>792</th>\n",
       "      <td>3234906277</td>\n",
       "      <td>2</td>\n",
       "    </tr>\n",
       "    <tr>\n",
       "      <th>884</th>\n",
       "      <td>3656415546</td>\n",
       "      <td>2</td>\n",
       "    </tr>\n",
       "    <tr>\n",
       "      <th>897</th>\n",
       "      <td>3717692402</td>\n",
       "      <td>2</td>\n",
       "    </tr>\n",
       "    <tr>\n",
       "      <th>909</th>\n",
       "      <td>3766097110</td>\n",
       "      <td>2</td>\n",
       "    </tr>\n",
       "    <tr>\n",
       "      <th>917</th>\n",
       "      <td>3803269165</td>\n",
       "      <td>2</td>\n",
       "    </tr>\n",
       "    <tr>\n",
       "      <th>932</th>\n",
       "      <td>3891541246</td>\n",
       "      <td>2</td>\n",
       "    </tr>\n",
       "    <tr>\n",
       "      <th>950</th>\n",
       "      <td>3941795274</td>\n",
       "      <td>2</td>\n",
       "    </tr>\n",
       "    <tr>\n",
       "      <th>954</th>\n",
       "      <td>3951559397</td>\n",
       "      <td>2</td>\n",
       "    </tr>\n",
       "    <tr>\n",
       "      <th>957</th>\n",
       "      <td>3957174400</td>\n",
       "      <td>2</td>\n",
       "    </tr>\n",
       "    <tr>\n",
       "      <th>958</th>\n",
       "      <td>3963646447</td>\n",
       "      <td>2</td>\n",
       "    </tr>\n",
       "    <tr>\n",
       "      <th>960</th>\n",
       "      <td>3972127743</td>\n",
       "      <td>2</td>\n",
       "    </tr>\n",
       "    <tr>\n",
       "      <th>963</th>\n",
       "      <td>3984495233</td>\n",
       "      <td>2</td>\n",
       "    </tr>\n",
       "    <tr>\n",
       "      <th>984</th>\n",
       "      <td>4069496402</td>\n",
       "      <td>2</td>\n",
       "    </tr>\n",
       "    <tr>\n",
       "      <th>992</th>\n",
       "      <td>4120364173</td>\n",
       "      <td>2</td>\n",
       "    </tr>\n",
       "    <tr>\n",
       "      <th>1009</th>\n",
       "      <td>4186807279</td>\n",
       "      <td>2</td>\n",
       "    </tr>\n",
       "    <tr>\n",
       "      <th>1023</th>\n",
       "      <td>4256040402</td>\n",
       "      <td>2</td>\n",
       "    </tr>\n",
       "    <tr>\n",
       "      <th>1026</th>\n",
       "      <td>4266935830</td>\n",
       "      <td>2</td>\n",
       "    </tr>\n",
       "  </tbody>\n",
       "</table>\n",
       "</div>"
      ],
      "text/plain": [
       "       visitorId  group\n",
       "2        8300375      2\n",
       "44     199603092      2\n",
       "51     232979603      2\n",
       "55     237748145      2\n",
       "66     276558944      2\n",
       "84     351125977      2\n",
       "97     393266494      2\n",
       "114    457167155      2\n",
       "119    471551937      2\n",
       "122    477780734      2\n",
       "192    818047933      2\n",
       "236    963407295      2\n",
       "299   1230306981      2\n",
       "311   1294878855      2\n",
       "316   1316129916      2\n",
       "318   1333886533      2\n",
       "340   1404934699      2\n",
       "386   1602967004      2\n",
       "393   1614305549      2\n",
       "402   1648269707      2\n",
       "406   1668030113      2\n",
       "422   1738359350      2\n",
       "436   1801183820      2\n",
       "469   1959144690      2\n",
       "487   2038680547      2\n",
       "491   2044997962      2\n",
       "569   2378935119      2\n",
       "591   2458001652      2\n",
       "614   2579882178      2\n",
       "619   2587333274      2\n",
       "622   2600415354      2\n",
       "639   2654030115      2\n",
       "648   2686716486      2\n",
       "661   2712142231      2\n",
       "662   2716752286      2\n",
       "677   2780786433      2\n",
       "710   2927087541      2\n",
       "715   2949041841      2\n",
       "718   2954449915      2\n",
       "744   3062433592      2\n",
       "784   3202540741      2\n",
       "792   3234906277      2\n",
       "884   3656415546      2\n",
       "897   3717692402      2\n",
       "909   3766097110      2\n",
       "917   3803269165      2\n",
       "932   3891541246      2\n",
       "950   3941795274      2\n",
       "954   3951559397      2\n",
       "957   3957174400      2\n",
       "958   3963646447      2\n",
       "960   3972127743      2\n",
       "963   3984495233      2\n",
       "984   4069496402      2\n",
       "992   4120364173      2\n",
       "1009  4186807279      2\n",
       "1023  4256040402      2\n",
       "1026  4266935830      2"
      ]
     },
     "execution_count": 21,
     "metadata": {},
     "output_type": "execute_result"
    }
   ],
   "source": [
    "groups_df = orders.groupby('visitorId')['group'].nunique().reset_index()\n",
    "result_df = groups_df.query('group > 1')\n",
    "result_df"
   ]
  },
  {
   "cell_type": "code",
   "execution_count": 22,
   "metadata": {},
   "outputs": [],
   "source": [
    "excluded_ids = result_df['visitorId'].unique()\n",
    "orders = orders[~orders['visitorId'].isin(excluded_ids)]"
   ]
  },
  {
   "cell_type": "markdown",
   "metadata": {},
   "source": [
    "**Вывод**\n",
    "\n",
    "Мы загрузили данные из CSV-файлов в переменные. Изучили их и выполнили предобработку. Убедились, что в данных отсутсвуют пропуски и дубликаты. Скорректировали типы данных в столбцах с датой и временем."
   ]
  },
  {
   "cell_type": "markdown",
   "metadata": {},
   "source": [
    "### Применяем фреймворк ICE для приоритизации гипотез. Отсортируем их по убыванию приоритета\n",
    "<a id='2'></a>"
   ]
  },
  {
   "cell_type": "code",
   "execution_count": 23,
   "metadata": {},
   "outputs": [
    {
     "data": {
      "text/html": [
       "<style  type=\"text/css\" >\n",
       "#T_e9bbf_row0_col1{\n",
       "            background-color:  #b40426;\n",
       "            color:  #f1f1f1;\n",
       "        }#T_e9bbf_row1_col1{\n",
       "            background-color:  #ec7f63;\n",
       "            color:  #000000;\n",
       "        }#T_e9bbf_row2_col1{\n",
       "            background-color:  #f7b79b;\n",
       "            color:  #000000;\n",
       "        }#T_e9bbf_row3_col1{\n",
       "            background-color:  #d2dbe8;\n",
       "            color:  #000000;\n",
       "        }#T_e9bbf_row4_col1{\n",
       "            background-color:  #bfd3f6;\n",
       "            color:  #000000;\n",
       "        }#T_e9bbf_row5_col1{\n",
       "            background-color:  #4e68d8;\n",
       "            color:  #000000;\n",
       "        }#T_e9bbf_row6_col1{\n",
       "            background-color:  #4055c8;\n",
       "            color:  #f1f1f1;\n",
       "        }#T_e9bbf_row7_col1{\n",
       "            background-color:  #3d50c3;\n",
       "            color:  #f1f1f1;\n",
       "        }#T_e9bbf_row8_col1{\n",
       "            background-color:  #3b4cc0;\n",
       "            color:  #f1f1f1;\n",
       "        }</style><table id=\"T_e9bbf_\" ><thead>    <tr>        <th class=\"blank level0\" ></th>        <th class=\"col_heading level0 col0\" >hypothesis</th>        <th class=\"col_heading level0 col1\" >ICE</th>    </tr></thead><tbody>\n",
       "                <tr>\n",
       "                        <th id=\"T_e9bbf_level0_row0\" class=\"row_heading level0 row0\" >8</th>\n",
       "                        <td id=\"T_e9bbf_row0_col0\" class=\"data row0 col0\" >Запустить акцию, дающую скидку на товар в день рождения</td>\n",
       "                        <td id=\"T_e9bbf_row0_col1\" class=\"data row0 col1\" >16.20</td>\n",
       "            </tr>\n",
       "            <tr>\n",
       "                        <th id=\"T_e9bbf_level0_row1\" class=\"row_heading level0 row1\" >0</th>\n",
       "                        <td id=\"T_e9bbf_row1_col0\" class=\"data row1 col0\" >Добавить два новых канала привлечения трафика, что позволит привлекать на 30% больше пользователей</td>\n",
       "                        <td id=\"T_e9bbf_row1_col1\" class=\"data row1 col1\" >13.33</td>\n",
       "            </tr>\n",
       "            <tr>\n",
       "                        <th id=\"T_e9bbf_level0_row2\" class=\"row_heading level0 row2\" >7</th>\n",
       "                        <td id=\"T_e9bbf_row2_col0\" class=\"data row2 col0\" >Добавить форму подписки на все основные страницы, чтобы собрать базу клиентов для email-рассылок</td>\n",
       "                        <td id=\"T_e9bbf_row2_col1\" class=\"data row2 col1\" >11.20</td>\n",
       "            </tr>\n",
       "            <tr>\n",
       "                        <th id=\"T_e9bbf_level0_row3\" class=\"row_heading level0 row3\" >6</th>\n",
       "                        <td id=\"T_e9bbf_row3_col0\" class=\"data row3 col0\" >Показать на главной странице баннеры с актуальными акциями и распродажами, чтобы увеличить конверсию</td>\n",
       "                        <td id=\"T_e9bbf_row3_col1\" class=\"data row3 col1\" >8.00</td>\n",
       "            </tr>\n",
       "            <tr>\n",
       "                        <th id=\"T_e9bbf_level0_row4\" class=\"row_heading level0 row4\" >2</th>\n",
       "                        <td id=\"T_e9bbf_row4_col0\" class=\"data row4 col0\" >Добавить блоки рекомендаций товаров на сайт интернет магазина, чтобы повысить конверсию и средний чек заказа</td>\n",
       "                        <td id=\"T_e9bbf_row4_col1\" class=\"data row4 col1\" >7.00</td>\n",
       "            </tr>\n",
       "            <tr>\n",
       "                        <th id=\"T_e9bbf_level0_row5\" class=\"row_heading level0 row5\" >1</th>\n",
       "                        <td id=\"T_e9bbf_row5_col0\" class=\"data row5 col0\" >Запустить собственную службу доставки, что сократит срок доставки заказов</td>\n",
       "                        <td id=\"T_e9bbf_row5_col1\" class=\"data row5 col1\" >2.00</td>\n",
       "            </tr>\n",
       "            <tr>\n",
       "                        <th id=\"T_e9bbf_level0_row6\" class=\"row_heading level0 row6\" >5</th>\n",
       "                        <td id=\"T_e9bbf_row6_col0\" class=\"data row6 col0\" >Добавить страницу отзывов клиентов о магазине, что позволит увеличить количество заказов</td>\n",
       "                        <td id=\"T_e9bbf_row6_col1\" class=\"data row6 col1\" >1.33</td>\n",
       "            </tr>\n",
       "            <tr>\n",
       "                        <th id=\"T_e9bbf_level0_row7\" class=\"row_heading level0 row7\" >3</th>\n",
       "                        <td id=\"T_e9bbf_row7_col0\" class=\"data row7 col0\" >Изменить структура категорий, что увеличит конверсию, т.к. пользователи быстрее найдут нужный товар</td>\n",
       "                        <td id=\"T_e9bbf_row7_col1\" class=\"data row7 col1\" >1.12</td>\n",
       "            </tr>\n",
       "            <tr>\n",
       "                        <th id=\"T_e9bbf_level0_row8\" class=\"row_heading level0 row8\" >4</th>\n",
       "                        <td id=\"T_e9bbf_row8_col0\" class=\"data row8 col0\" >Изменить цвет фона главной страницы, чтобы увеличить вовлеченность пользователей</td>\n",
       "                        <td id=\"T_e9bbf_row8_col1\" class=\"data row8 col1\" >1.00</td>\n",
       "            </tr>\n",
       "    </tbody></table>"
      ],
      "text/plain": [
       "<pandas.io.formats.style.Styler at 0x7fc74e2a3bb0>"
      ]
     },
     "execution_count": 23,
     "metadata": {},
     "output_type": "execute_result"
    }
   ],
   "source": [
    "hypothesis['ICE'] = (hypothesis['impact'] * hypothesis['confidence'])/hypothesis['efforts']\n",
    "hypothesis[['hypothesis','ICE']].sort_values(by='ICE', ascending=False).style.format({'ICE': '{:.2f}'}).background_gradient('coolwarm')"
   ]
  },
  {
   "cell_type": "markdown",
   "metadata": {},
   "source": [
    "<a id='3'></a>\n",
    "### Применяем фреймворк RICE для приоритизации гипотез. Отсортируем их по убыванию приоритета"
   ]
  },
  {
   "cell_type": "code",
   "execution_count": 24,
   "metadata": {},
   "outputs": [
    {
     "data": {
      "text/html": [
       "<style  type=\"text/css\" >\n",
       "#T_1acba_row0_col1{\n",
       "            background-color:  #b40426;\n",
       "            color:  #f1f1f1;\n",
       "        }#T_1acba_row1_col1{\n",
       "            background-color:  #d9dce1;\n",
       "            color:  #000000;\n",
       "        }#T_1acba_row2_col1,#T_1acba_row3_col1{\n",
       "            background-color:  #abc8fd;\n",
       "            color:  #000000;\n",
       "        }#T_1acba_row4_col1{\n",
       "            background-color:  #6180e9;\n",
       "            color:  #000000;\n",
       "        }#T_1acba_row5_col1{\n",
       "            background-color:  #4b64d5;\n",
       "            color:  #f1f1f1;\n",
       "        }#T_1acba_row6_col1,#T_1acba_row7_col1{\n",
       "            background-color:  #3d50c3;\n",
       "            color:  #f1f1f1;\n",
       "        }#T_1acba_row8_col1{\n",
       "            background-color:  #3b4cc0;\n",
       "            color:  #f1f1f1;\n",
       "        }</style><table id=\"T_1acba_\" ><thead>    <tr>        <th class=\"blank level0\" ></th>        <th class=\"col_heading level0 col0\" >hypothesis</th>        <th class=\"col_heading level0 col1\" >RICE</th>    </tr></thead><tbody>\n",
       "                <tr>\n",
       "                        <th id=\"T_1acba_level0_row0\" class=\"row_heading level0 row0\" >7</th>\n",
       "                        <td id=\"T_1acba_row0_col0\" class=\"data row0 col0\" >Добавить форму подписки на все основные страницы, чтобы собрать базу клиентов для email-рассылок</td>\n",
       "                        <td id=\"T_1acba_row0_col1\" class=\"data row0 col1\" >112.00</td>\n",
       "            </tr>\n",
       "            <tr>\n",
       "                        <th id=\"T_1acba_level0_row1\" class=\"row_heading level0 row1\" >2</th>\n",
       "                        <td id=\"T_1acba_row1_col0\" class=\"data row1 col0\" >Добавить блоки рекомендаций товаров на сайт интернет магазина, чтобы повысить конверсию и средний чек заказа</td>\n",
       "                        <td id=\"T_1acba_row1_col1\" class=\"data row1 col1\" >56.00</td>\n",
       "            </tr>\n",
       "            <tr>\n",
       "                        <th id=\"T_1acba_level0_row2\" class=\"row_heading level0 row2\" >0</th>\n",
       "                        <td id=\"T_1acba_row2_col0\" class=\"data row2 col0\" >Добавить два новых канала привлечения трафика, что позволит привлекать на 30% больше пользователей</td>\n",
       "                        <td id=\"T_1acba_row2_col1\" class=\"data row2 col1\" >40.00</td>\n",
       "            </tr>\n",
       "            <tr>\n",
       "                        <th id=\"T_1acba_level0_row3\" class=\"row_heading level0 row3\" >6</th>\n",
       "                        <td id=\"T_1acba_row3_col0\" class=\"data row3 col0\" >Показать на главной странице баннеры с актуальными акциями и распродажами, чтобы увеличить конверсию</td>\n",
       "                        <td id=\"T_1acba_row3_col1\" class=\"data row3 col1\" >40.00</td>\n",
       "            </tr>\n",
       "            <tr>\n",
       "                        <th id=\"T_1acba_level0_row4\" class=\"row_heading level0 row4\" >8</th>\n",
       "                        <td id=\"T_1acba_row4_col0\" class=\"data row4 col0\" >Запустить акцию, дающую скидку на товар в день рождения</td>\n",
       "                        <td id=\"T_1acba_row4_col1\" class=\"data row4 col1\" >16.20</td>\n",
       "            </tr>\n",
       "            <tr>\n",
       "                        <th id=\"T_1acba_level0_row5\" class=\"row_heading level0 row5\" >3</th>\n",
       "                        <td id=\"T_1acba_row5_col0\" class=\"data row5 col0\" >Изменить структура категорий, что увеличит конверсию, т.к. пользователи быстрее найдут нужный товар</td>\n",
       "                        <td id=\"T_1acba_row5_col1\" class=\"data row5 col1\" >9.00</td>\n",
       "            </tr>\n",
       "            <tr>\n",
       "                        <th id=\"T_1acba_level0_row6\" class=\"row_heading level0 row6\" >1</th>\n",
       "                        <td id=\"T_1acba_row6_col0\" class=\"data row6 col0\" >Запустить собственную службу доставки, что сократит срок доставки заказов</td>\n",
       "                        <td id=\"T_1acba_row6_col1\" class=\"data row6 col1\" >4.00</td>\n",
       "            </tr>\n",
       "            <tr>\n",
       "                        <th id=\"T_1acba_level0_row7\" class=\"row_heading level0 row7\" >5</th>\n",
       "                        <td id=\"T_1acba_row7_col0\" class=\"data row7 col0\" >Добавить страницу отзывов клиентов о магазине, что позволит увеличить количество заказов</td>\n",
       "                        <td id=\"T_1acba_row7_col1\" class=\"data row7 col1\" >4.00</td>\n",
       "            </tr>\n",
       "            <tr>\n",
       "                        <th id=\"T_1acba_level0_row8\" class=\"row_heading level0 row8\" >4</th>\n",
       "                        <td id=\"T_1acba_row8_col0\" class=\"data row8 col0\" >Изменить цвет фона главной страницы, чтобы увеличить вовлеченность пользователей</td>\n",
       "                        <td id=\"T_1acba_row8_col1\" class=\"data row8 col1\" >3.00</td>\n",
       "            </tr>\n",
       "    </tbody></table>"
      ],
      "text/plain": [
       "<pandas.io.formats.style.Styler at 0x7fc74e34ad00>"
      ]
     },
     "execution_count": 24,
     "metadata": {},
     "output_type": "execute_result"
    }
   ],
   "source": [
    "hypothesis['RICE'] = (hypothesis['reach'] * hypothesis['impact'] * hypothesis['confidence'])/hypothesis['efforts']\n",
    "hypothesis[['hypothesis','RICE']].sort_values(by='RICE', ascending=False).style.format({'RICE': '{:.2f}'}).background_gradient('coolwarm')"
   ]
  },
  {
   "cell_type": "markdown",
   "metadata": {},
   "source": [
    "<a id='4'></a>\n",
    "### Узнаем, как изменилась приоритизация гипотез при применении RICE вместо ICE"
   ]
  },
  {
   "cell_type": "markdown",
   "metadata": {},
   "source": [
    "Согласно способу приоритизации ICE в топ-3 попали гипотезы \"Запустить акцию, дающую скидку на товар в день рождения\", \"Добавить два новых канала привлечения трафика, что позволит привлекать на 30% больше пользователей\" и \"Добавить форму подписки на все основные страницы, чтобы собрать базу клиентов для email-рассылок\". Однако при применени способа RICE порядок приоритета слегка изменился: \"Добавить форму подписки на все основные страницы, чтобы собрать базу клиентов для email-рассылок\", \"Добавить блоки рекомендаций товаров на сайт интернет магазина, чтобы повысить конверсию и средний чек заказа\" и \"Добавить два новых канала привлечения трафика, что позволит привлекать на 30% больше пользователей\". Это объясняется тем, что в случае использования метода ICE мы не учитывали охват изменений, что в конечном результате и повлияло на приоритизацию."
   ]
  },
  {
   "cell_type": "markdown",
   "metadata": {},
   "source": [
    "<a id='5'></a>\n",
    "\n",
    "## Анализ A/B-теста"
   ]
  },
  {
   "cell_type": "markdown",
   "metadata": {},
   "source": [
    "Задачи:\n",
    "\n",
    "Проанализируйте A/B-тест:\n",
    "* Построить график кумулятивной выручки по группам. Сделать выводы и предположения.\n",
    "* Построить график кумулятивного среднего чека по группам. Сделать выводы и предположения.\n",
    "* Построить график относительного изменения кумулятивного среднего чека группы B к группе A. Сделать выводы и предположения.\n",
    "* Построить график кумулятивного среднего количества заказов на посетителя по группам. Сделать выводы и предположения.\n",
    "* Построить график относительного изменения кумулятивного среднего количества заказов на посетителя группы B к группе A. Сделать выводы и предположения.\n",
    "* Построить точечный график количества заказов по пользователям. Сделать выводы и предположения.\n",
    "* Посчитайте 95-й и 99-й перцентили количества заказов на пользователя. Выбрать границу для определения аномальных пользователей.\n",
    "* Построить точечный график стоимостей заказов. Сделать выводы и предположения.\n",
    "* Посчитать 95-й и 99-й перцентили стоимости заказов. Выбрать границу для определения аномальных заказов.\n",
    "* Посчитать статистическую значимость различий в среднем количестве заказов на посетителя между группами по «сырым» данным. Сделать выводы и предположения.\n",
    "* Посчитать статистическую значимость различий в среднем чеке заказа между группами по «сырым» данным. Сделать выводы и предположения.\n",
    "* Посчитать статистическую значимость различий в среднем количестве заказов на посетителя между группами по «очищенным» данным. Сделать выводы и предположения.\n",
    "* Посчитать статистическую значимость различий в среднем чеке заказа между группами по «очищенным» данным. Сделать выводы и предположения.\n",
    "* Принять решение по результатам теста и объяснить его. Варианты решений:\n",
    "   1. Остановить тест, зафиксировать победу одной из групп.\n",
    "   2. Остановить тест, зафиксировать отсутствие различий между группами.\n",
    "   3. Продолжить тест."
   ]
  },
  {
   "cell_type": "markdown",
   "metadata": {},
   "source": [
    "<a id='6'></a>\n",
    "### График кумулятивной выручки по группам"
   ]
  },
  {
   "cell_type": "code",
   "execution_count": 25,
   "metadata": {},
   "outputs": [
    {
     "data": {
      "text/plain": [
       "<matplotlib.legend.Legend at 0x7fc74e047df0>"
      ]
     },
     "execution_count": 25,
     "metadata": {},
     "output_type": "execute_result"
    },
    {
     "data": {
      "image/png": "[encoded data removed]",
      "text/plain": [
       "<Figure size 936x504 with 1 Axes>"
      ]
     },
     "metadata": {
      "needs_background": "light"
     },
     "output_type": "display_data"
    }
   ],
   "source": [
    "datesGroups = orders[['date', 'group']].drop_duplicates()\n",
    "ordersAggregated = datesGroups.apply(\n",
    "    lambda x: orders[np.logical_and(orders['date'] <= x['date'], orders['group'] == x['group'])].agg({\n",
    "'date' : 'max',\n",
    "'group' : 'max',\n",
    "'transactionId' : pd.Series.nunique,\n",
    "'visitorId' : pd.Series.nunique,\n",
    "'revenue' : 'sum'}), axis=1).sort_values(by=['date','group'])\n",
    "\n",
    "visitorsAggregated = datesGroups.apply(lambda x: visitors[np.logical_and(visitors['date'] <= x['date'], visitors['group'] == x['group'])].agg({'date' : 'max', 'group' : 'max', 'visitors' : 'sum'}), axis=1).sort_values(by=['date','group'])\n",
    "\n",
    "cumulativeData = ordersAggregated.merge(visitorsAggregated, left_on=['date', 'group'], right_on=['date', 'group'])\n",
    "cumulativeData.rename(columns = {'transactionId' : 'orders', 'visitorId' : 'buyers'}, inplace = True)\n",
    "cumulativeRevenueA = cumulativeData[cumulativeData['group']=='A'][['date','revenue', 'orders']]\n",
    "cumulativeRevenueB = cumulativeData[cumulativeData['group']=='B'][['date','revenue', 'orders']]\n",
    "plt.figure(figsize=(13, 7))\n",
    "plt.plot(cumulativeRevenueA['date'], cumulativeRevenueA['revenue'], label='A')\n",
    "plt.plot(cumulativeRevenueB['date'], cumulativeRevenueB['revenue'], label='B')\n",
    "plt.title('График кумулятивной выручки по группам')\n",
    "plt.xlabel('Дата')\n",
    "plt.ylabel(\"Выручка\")\n",
    "plt.legend()"
   ]
  },
  {
   "cell_type": "markdown",
   "metadata": {},
   "source": [
    "Выручка увеличивается в течение всего теста. Однако группа B стабильно показывает большую выручку, нежели группа A. Также, если группа А демонстрирует достаточно линейный рост, то в группе B наблюдается резкий подскок, похожий на выброс."
   ]
  },
  {
   "cell_type": "markdown",
   "metadata": {},
   "source": [
    "<a id='7'></a>\n",
    "### График кумулятивного среднего чека по группам"
   ]
  },
  {
   "cell_type": "code",
   "execution_count": 26,
   "metadata": {},
   "outputs": [
    {
     "data": {
      "text/plain": [
       "<matplotlib.legend.Legend at 0x7fc74d8764c0>"
      ]
     },
     "execution_count": 26,
     "metadata": {},
     "output_type": "execute_result"
    },
    {
     "data": {
      "image/png": "[encoded data removed]",
      "text/plain": [
       "<Figure size 936x504 with 1 Axes>"
      ]
     },
     "metadata": {
      "needs_background": "light"
     },
     "output_type": "display_data"
    }
   ],
   "source": [
    "plt.figure(figsize=(13, 7))\n",
    "plt.plot(cumulativeRevenueA['date'], cumulativeRevenueA['revenue']/cumulativeRevenueA['orders'], label='A')\n",
    "plt.plot(cumulativeRevenueB['date'], cumulativeRevenueB['revenue']/cumulativeRevenueB['orders'], label='B')\n",
    "plt.title('График кумулятивного среднего чека по группам')\n",
    "plt.xlabel('Дата')\n",
    "plt.ylabel(\"Средний чек\")\n",
    "plt.legend()"
   ]
  },
  {
   "cell_type": "markdown",
   "metadata": {},
   "source": [
    "Средний чек группы В на графике также демонстрирует резкий скачок. Возможно, попали крупные заказы."
   ]
  },
  {
   "cell_type": "markdown",
   "metadata": {},
   "source": [
    "<a id='8'></a>\n",
    "### График относительного изменения кумулятивного среднего чека группы B к группе A"
   ]
  },
  {
   "cell_type": "code",
   "execution_count": 27,
   "metadata": {},
   "outputs": [
    {
     "data": {
      "text/plain": [
       "Text(0.5, 0, 'Дата')"
      ]
     },
     "execution_count": 27,
     "metadata": {},
     "output_type": "execute_result"
    },
    {
     "data": {
      "image/png": "[encoded data removed]",
      "text/plain": [
       "<Figure size 936x504 with 1 Axes>"
      ]
     },
     "metadata": {
      "needs_background": "light"
     },
     "output_type": "display_data"
    }
   ],
   "source": [
    "mergedCumulativeRevenue = cumulativeRevenueA.merge(cumulativeRevenueB, left_on='date', right_on='date', how='left', suffixes=['A', 'B'])\n",
    "plt.figure(figsize=(13, 7))\n",
    "plt.plot(mergedCumulativeRevenue['date'], (mergedCumulativeRevenue['revenueB']/mergedCumulativeRevenue['ordersB'])/(mergedCumulativeRevenue['revenueA']/mergedCumulativeRevenue['ordersA'])-1)\n",
    "plt.axhline(y=0, color='black', linestyle='--')\n",
    "plt.title('График относительного изменения кумулятивного среднего чека группы B к группе A')\n",
    "plt.xlabel('Дата')"
   ]
  },
  {
   "cell_type": "markdown",
   "metadata": {},
   "source": [
    "Три вышеуказанных графика иллюстрируют, что первого августа группа А лидировала, затем группа В стала демонстрировать более высокие показатели, однако 13 августа группа А снова стала лидером. Однако потом в группе В произошёл резкий рост, возможно, обусловленный аномалией"
   ]
  },
  {
   "cell_type": "markdown",
   "metadata": {},
   "source": [
    "<a id='9'></a>\n",
    "### График кумулятивного среднего количества заказов на посетителя по группам"
   ]
  },
  {
   "cell_type": "code",
   "execution_count": 28,
   "metadata": {},
   "outputs": [
    {
     "data": {
      "text/plain": [
       "<matplotlib.legend.Legend at 0x7fc74dc07a90>"
      ]
     },
     "execution_count": 28,
     "metadata": {},
     "output_type": "execute_result"
    },
    {
     "data": {
      "image/png": "[encoded data removed]",
      "text/plain": [
       "<Figure size 936x504 with 1 Axes>"
      ]
     },
     "metadata": {
      "needs_background": "light"
     },
     "output_type": "display_data"
    }
   ],
   "source": [
    "cumulativeData['conversion'] = cumulativeData['orders']/cumulativeData['visitors']\n",
    "cumulativeDataA = cumulativeData[cumulativeData['group']=='A']\n",
    "cumulativeDataB = cumulativeData[cumulativeData['group']=='B']\n",
    "plt.figure(figsize=(13, 7))\n",
    "plt.plot(cumulativeDataA['date'], cumulativeDataA['conversion'], label='A')\n",
    "plt.plot(cumulativeDataB['date'], cumulativeDataB['conversion'], label='B')\n",
    "plt.title('График кумулятивного среднего количества заказов на посетителя по группам')\n",
    "plt.xlabel('Дата')\n",
    "plt.ylabel(\"Конверсия\")\n",
    "plt.legend()"
   ]
  },
  {
   "cell_type": "markdown",
   "metadata": {},
   "source": [
    "Поначалу конверсия достаточно сильно колебалась, после девятого августа немного стабилизировалась. Причём конверсия группы В значительно выше конверсии группы А"
   ]
  },
  {
   "cell_type": "markdown",
   "metadata": {},
   "source": [
    "<a id='10'></a>\n",
    "### График относительного изменения кумулятивного среднего количества заказов на посетителя группы B к группе A"
   ]
  },
  {
   "cell_type": "code",
   "execution_count": 29,
   "metadata": {},
   "outputs": [
    {
     "name": "stderr",
     "output_type": "stream",
     "text": [
      "No handles with labels found to put in legend.\n"
     ]
    },
    {
     "data": {
      "text/plain": [
       "Text(0, 0.5, 'Конверсия')"
      ]
     },
     "execution_count": 29,
     "metadata": {},
     "output_type": "execute_result"
    },
    {
     "data": {
      "image/png": "[encoded data removed]",
      "text/plain": [
       "<Figure size 936x504 with 1 Axes>"
      ]
     },
     "metadata": {
      "needs_background": "light"
     },
     "output_type": "display_data"
    }
   ],
   "source": [
    "mergedCumulativeConversions = cumulativeDataA[['date','conversion']].merge(cumulativeDataB[['date','conversion']], left_on='date', right_on='date', how='left', suffixes=['A', 'B'])\n",
    "plt.figure(figsize=(13, 7))\n",
    "plt.plot(mergedCumulativeConversions['date'], mergedCumulativeConversions['conversionB']/mergedCumulativeConversions['conversionA']-1)\n",
    "plt.legend()\n",
    "plt.axhline(y=0, color='black', linestyle='--')\n",
    "plt.axhline(y=-0.1, color='grey', linestyle='--')\n",
    "plt.axhline(y=0.1, color='grey', linestyle='--')\n",
    "plt.title('График относительного изменения кумулятивного среднего количества заказов на посетителя группы B к группе A')\n",
    "plt.xlabel('Дата')\n",
    "plt.ylabel(\"Конверсия\")"
   ]
  },
  {
   "cell_type": "markdown",
   "metadata": {},
   "source": [
    "Подавляющее большинство времени конверсия группы В превышает конверсию группы А больше чем на 10%"
   ]
  },
  {
   "cell_type": "markdown",
   "metadata": {},
   "source": [
    "<a id='11'></a>\n",
    "### Точечный график количества заказов по пользователям"
   ]
  },
  {
   "cell_type": "code",
   "execution_count": 30,
   "metadata": {},
   "outputs": [
    {
     "data": {
      "text/plain": [
       "Text(0, 0.5, 'Количество заказов')"
      ]
     },
     "execution_count": 30,
     "metadata": {},
     "output_type": "execute_result"
    },
    {
     "data": {
      "image/png": "[encoded data removed]",
      "text/plain": [
       "<Figure size 936x504 with 1 Axes>"
      ]
     },
     "metadata": {
      "needs_background": "light"
     },
     "output_type": "display_data"
    }
   ],
   "source": [
    "ordersByUsers = (\n",
    "    orders.groupby('visitorId', as_index=False)\n",
    "    .agg({'transactionId': 'nunique'}))\n",
    "ordersByUsers.columns = ['userId', 'orders']\n",
    "\n",
    "x_values = pd.Series(range(0, len(ordersByUsers)))\n",
    "\n",
    "plt.figure(figsize=(13, 7))\n",
    "plt.scatter(x_values, ordersByUsers['orders'])\n",
    "plt.title('Точечный график количества заказов по пользователям')\n",
    "plt.xlabel('Количество пользователей')\n",
    "plt.ylabel(\"Количество заказов\")"
   ]
  },
  {
   "cell_type": "markdown",
   "metadata": {},
   "source": [
    "Большинство клиентов делает по одному заказу, однако два-три заказа также являются нормой. Кроме того, есть и сделавшие более 10 заказов."
   ]
  },
  {
   "cell_type": "markdown",
   "metadata": {},
   "source": [
    "<a id='12'></a>\n",
    "### 95-й и 99-й перцентили количества заказов на пользователя"
   ]
  },
  {
   "cell_type": "code",
   "execution_count": 31,
   "metadata": {},
   "outputs": [
    {
     "name": "stdout",
     "output_type": "stream",
     "text": [
      "95-й перцентиль количества заказов на пользователя:  1.0\n",
      "99-й перцентиль количества заказов на пользователя:  2.0\n"
     ]
    }
   ],
   "source": [
    "perc_95_count = np.percentile(ordersByUsers['orders'], 95)\n",
    "perc_99_count = np.percentile(ordersByUsers['orders'], 99)\n",
    "print ('95-й перцентиль количества заказов на пользователя: ', perc_95_count)\n",
    "print ('99-й перцентиль количества заказов на пользователя: ', perc_99_count)"
   ]
  },
  {
   "cell_type": "markdown",
   "metadata": {},
   "source": [
    "Всего лишь 5% пользователей совершают больше 2 заказов, и только 1% - больше 4.\n",
    "\n",
    "Отсекаем 1% аномалий - свыше 4 заказов"
   ]
  },
  {
   "cell_type": "markdown",
   "metadata": {},
   "source": [
    "<a id='13'></a>\n",
    "### Точечный график стоимостей заказов"
   ]
  },
  {
   "cell_type": "code",
   "execution_count": 32,
   "metadata": {
    "scrolled": true
   },
   "outputs": [
    {
     "data": {
      "image/png": "[encoded data removed]",
      "text/plain": [
       "<Figure size 936x504 with 1 Axes>"
      ]
     },
     "metadata": {
      "needs_background": "light"
     },
     "output_type": "display_data"
    }
   ],
   "source": [
    "x_values = pd.Series(range(0,len(orders['revenue'])))\n",
    "plt.figure(figsize=(13, 7))\n",
    "plt.scatter(x_values, orders['revenue'])\n",
    "plt.title('Точечный график стоимостей заказов')\n",
    "plt.xlabel('Количество пользователей')\n",
    "plt.ylabel(\"Сумма\")\n",
    "plt.show()"
   ]
  },
  {
   "cell_type": "code",
   "execution_count": 33,
   "metadata": {},
   "outputs": [
    {
     "data": {
      "image/png": "[encoded data removed]",
      "text/plain": [
       "<Figure size 936x504 with 1 Axes>"
      ]
     },
     "metadata": {
      "needs_background": "light"
     },
     "output_type": "display_data"
    }
   ],
   "source": [
    "x_values = pd.Series(range(0,len(orders['revenue'])))\n",
    "plt.figure(figsize=(13, 7))\n",
    "plt.scatter(x_values, orders['revenue'])\n",
    "plt.ylim([0, 10000])\n",
    "plt.title('Точечный график стоимостей заказов')\n",
    "plt.xlabel('Количество пользователей')\n",
    "plt.ylabel(\"Сумма\")\n",
    "plt.show()\n"
   ]
  },
  {
   "cell_type": "markdown",
   "metadata": {},
   "source": [
    "Основная масса клиентов делает покупки стоимостью до 10 тысяч. Имеется один заказ на ~ 20 тысяч, и один на ~ 120 тысяч. Вероятно, второй и является тем фактором, который обуславливает скачок на графиках группы В"
   ]
  },
  {
   "cell_type": "markdown",
   "metadata": {},
   "source": [
    "<a id='14'></a>\n",
    "### 95-й и 99-й перцентили стоимости заказов"
   ]
  },
  {
   "cell_type": "code",
   "execution_count": 34,
   "metadata": {},
   "outputs": [
    {
     "name": "stdout",
     "output_type": "stream",
     "text": [
      "95-й перцентиль стоимости заказов:  26785.0\n",
      "99-й перцентиль стоимости заказов:  53904.0\n"
     ]
    }
   ],
   "source": [
    "perc_95_sum = np.percentile(orders['revenue'], 95)\n",
    "perc_99_sum = np.percentile(orders['revenue'], 99)\n",
    "print ('95-й перцентиль стоимости заказов: ', perc_95_sum)\n",
    "print ('99-й перцентиль стоимости заказов: ', perc_99_sum)"
   ]
  },
  {
   "cell_type": "markdown",
   "metadata": {},
   "source": [
    "Всего лишь 5% заказов дороже 28000, и только 1% - дороже 58 тысяч\n",
    "\n",
    "Отсекаем 1% аномалий - заказы свыше 58233.2"
   ]
  },
  {
   "cell_type": "markdown",
   "metadata": {},
   "source": [
    "<a id='15'></a>\n",
    "### Cтатистическая значимость различий в среднем количестве заказов на посетителя между группами по «сырым» данным"
   ]
  },
  {
   "cell_type": "markdown",
   "metadata": {},
   "source": [
    "Сформулируем гипотезу, которую необходимо проверить:\n",
    "\n",
    "Гипотеза Н0: среднее количество заказов на посетителя между группами по «сырым» данным равно.\n",
    "\n",
    "Гипотеза Н1: среднее количество заказов на посетителя между группами по «сырым» данным не равно.\n",
    "\n",
    "Используем Непараметрический тест Уилкоксона-Манна-Уитни. \n",
    "\n",
    "Зададим параметр альфа"
   ]
  },
  {
   "cell_type": "code",
   "execution_count": 35,
   "metadata": {},
   "outputs": [],
   "source": [
    "alpha = 0.05"
   ]
  },
  {
   "cell_type": "code",
   "execution_count": 36,
   "metadata": {},
   "outputs": [
    {
     "name": "stdout",
     "output_type": "stream",
     "text": [
      "P-value =  0.011\n",
      "Разница статистически значима\n",
      "Относительное различие в среднем между группами = 0.160\n"
     ]
    }
   ],
   "source": [
    "\n",
    "visitorsADaily = visitors[visitors['group'] == 'A'][['date', 'visitors']]\n",
    "visitorsADaily.columns = ['date', 'visitorsPerDateA']\n",
    "\n",
    "visitorsACummulative = visitorsADaily.apply(\n",
    "    lambda x: visitorsADaily[visitorsADaily['date'] <= x['date']].agg(\n",
    "        {'date': 'max', 'visitorsPerDateA': 'sum'}\n",
    "    ),\n",
    "    axis=1,\n",
    ")\n",
    "visitorsACummulative.columns = ['date', 'visitorsCummulativeA']\n",
    "\n",
    "visitorsBDaily = visitors[visitors['group'] == 'B'][['date', 'visitors']]\n",
    "visitorsBDaily.columns = ['date', 'visitorsPerDateB']\n",
    "\n",
    "visitorsBCummulative = visitorsBDaily.apply(\n",
    "    lambda x: visitorsBDaily[visitorsBDaily['date'] <= x['date']].agg(\n",
    "        {'date': 'max', 'visitorsPerDateB': 'sum'}\n",
    "    ),\n",
    "    axis=1,\n",
    ")\n",
    "visitorsBCummulative.columns = ['date', 'visitorsCummulativeB']\n",
    "\n",
    "ordersADaily = (\n",
    "    orders[orders['group'] == 'A'][['date', 'transactionId', 'visitorId', 'revenue']]\n",
    "    .groupby('date', as_index=False)\n",
    "    .agg({'transactionId': pd.Series.nunique, 'revenue': 'sum'})\n",
    ")\n",
    "ordersADaily.columns = ['date', 'ordersPerDateA', 'revenuePerDateA']\n",
    "\n",
    "ordersACummulative = ordersADaily.apply(\n",
    "    lambda x: ordersADaily[ordersADaily['date'] <= x['date']].agg(\n",
    "        {'date': 'max', 'ordersPerDateA': 'sum', 'revenuePerDateA': 'sum'}\n",
    "    ),\n",
    "    axis=1,\n",
    ").sort_values(by=['date'])\n",
    "ordersACummulative.columns = [\n",
    "    'date',\n",
    "    'ordersCummulativeA',\n",
    "    'revenueCummulativeA',\n",
    "]\n",
    "\n",
    "ordersBDaily = (\n",
    "    orders[orders['group'] == 'B'][['date', 'transactionId', 'visitorId', 'revenue']]\n",
    "    .groupby('date', as_index=False)\n",
    "    .agg({'transactionId': pd.Series.nunique, 'revenue': 'sum'})\n",
    ")\n",
    "ordersBDaily.columns = ['date', 'ordersPerDateB', 'revenuePerDateB']\n",
    "\n",
    "ordersBCummulative = ordersBDaily.apply(\n",
    "    lambda x: ordersBDaily[ordersBDaily['date'] <= x['date']].agg(\n",
    "        {'date': 'max', 'ordersPerDateB': 'sum', 'revenuePerDateB': 'sum'}\n",
    "    ),\n",
    "    axis=1,\n",
    ").sort_values(by=['date'])\n",
    "ordersBCummulative.columns = [\n",
    "    'date',\n",
    "    'ordersCummulativeB',\n",
    "    'revenueCummulativeB',\n",
    "]\n",
    "\n",
    "data = (\n",
    "    ordersADaily.merge(\n",
    "        ordersBDaily, left_on='date', right_on='date', how='left'\n",
    "    )\n",
    "    .merge(ordersACummulative, left_on='date', right_on='date', how='left')\n",
    "    .merge(ordersBCummulative, left_on='date', right_on='date', how='left')\n",
    "    .merge(visitorsADaily, left_on='date', right_on='date', how='left')\n",
    "    .merge(visitorsBDaily, left_on='date', right_on='date', how='left')\n",
    "    .merge(visitorsACummulative, left_on='date', right_on='date', how='left')\n",
    "    .merge(visitorsBCummulative, left_on='date', right_on='date', how='left')\n",
    ")\n",
    "\n",
    "ordersByUsersA = (\n",
    "    orders[orders['group'] == 'A']\n",
    "    .groupby('visitorId', as_index=False)\n",
    "    .agg({'transactionId': pd.Series.nunique})\n",
    ")\n",
    "ordersByUsersA.columns = ['userId', 'orders']\n",
    "\n",
    "ordersByUsersB = (\n",
    "    orders[orders['group'] == 'B']\n",
    "    .groupby('visitorId', as_index=False)\n",
    "    .agg({'transactionId': pd.Series.nunique})\n",
    ")\n",
    "ordersByUsersB.columns = ['visitorId', 'orders']\n",
    "\n",
    "pd.Series(0, index=np.arange(data['visitorsPerDateA'].sum() - len(ordersByUsersA['orders'])), name='orders')\n",
    " \n",
    "[ordersByUsersA['orders'],pd.Series(0, index=np.arange(data['visitorsPerDateA'].sum() - len(ordersByUsersA['orders'])), name='orders')]\n",
    "\n",
    "sampleA = pd.concat([ordersByUsersA['orders'],pd.Series(0, index=np.arange(data['visitorsPerDateA'].sum() - len(ordersByUsersA['orders'])), name='orders')],axis=0)\n",
    "\n",
    "sampleB = pd.concat([ordersByUsersB['orders'],pd.Series(0, index=np.arange(data['visitorsPerDateB'].sum() - len(ordersByUsersB['orders'])), name='orders')],axis=0)\n",
    "\n",
    "ordersByUsersA = (\n",
    "    orders[orders['group'] == 'A']\n",
    "    .groupby('visitorId', as_index=False)\n",
    "    .agg({'transactionId': pd.Series.nunique})\n",
    ")\n",
    "ordersByUsersA.columns = ['userId', 'orders']\n",
    "\n",
    "ordersByUsersB = (\n",
    "    orders[orders['group'] == 'B']\n",
    "    .groupby('visitorId', as_index=False)\n",
    "    .agg({'transactionId': pd.Series.nunique})\n",
    ")\n",
    "ordersByUsersB.columns = ['userId', 'orders']\n",
    "\n",
    "sampleA = pd.concat(\n",
    "    [\n",
    "        ordersByUsersA['orders'],\n",
    "        pd.Series(\n",
    "            0,\n",
    "            index=np.arange(\n",
    "                data['visitorsPerDateA'].sum() - len(ordersByUsersA['orders'])\n",
    "            ),\n",
    "            name='orders',\n",
    "        ),\n",
    "    ],\n",
    "    axis=0,\n",
    ")\n",
    "\n",
    "sampleB = pd.concat(\n",
    "    [\n",
    "        ordersByUsersB['orders'],\n",
    "        pd.Series(\n",
    "            0,\n",
    "            index=np.arange(\n",
    "                data['visitorsPerDateB'].sum() - len(ordersByUsersB['orders'])\n",
    "            ),\n",
    "            name='orders',\n",
    "        ),\n",
    "    ],\n",
    "    axis=0,\n",
    ")\n",
    "results = stats.mannwhitneyu(sampleA, sampleB)\n",
    "print ('P-value = ', round(results.pvalue, 3))\n",
    "if results.pvalue < alpha:\n",
    "    print('Разница статистически значима')\n",
    "else:\n",
    "    print('Разница статистически не значима')\n",
    "\n",
    "print('Относительное различие в среднем между группами = '\"{0:.3f}\".format(sampleB.mean() / sampleA.mean() - 1))\n"
   ]
  },
  {
   "cell_type": "markdown",
   "metadata": {},
   "source": [
    "Мы отвергаем гипотезу Н0, таким образом, среднее количество заказов на посетителя между группами по «сырым» данным не равно"
   ]
  },
  {
   "cell_type": "markdown",
   "metadata": {},
   "source": [
    "<a id='16'></a>\n",
    "###  Статистическая значимость различий в среднем чеке заказа между группами по «сырым» данным"
   ]
  },
  {
   "cell_type": "markdown",
   "metadata": {},
   "source": [
    "Сформулируем гипотезу, которую необходимо проверить:\n",
    "\n",
    "Гипотеза Н0: средняя сумма чеков между группами по «сырым» данным равны.\n",
    "\n",
    "Гипотеза Н1: средняя сумма чеков между группами по «сырым» данным не равны."
   ]
  },
  {
   "cell_type": "code",
   "execution_count": 37,
   "metadata": {
    "scrolled": false
   },
   "outputs": [
    {
     "name": "stdout",
     "output_type": "stream",
     "text": [
      "P-value =  0.829\n",
      "Разница статистически не значима\n",
      "Относительное различие в средних чеках между группами = 0.287\n"
     ]
    }
   ],
   "source": [
    "visitorsADaily = visitors[visitors['group'] == 'A'][['date', 'visitors']]\n",
    "visitorsADaily.columns = ['date', 'visitorsPerDateA']\n",
    "\n",
    "visitorsACummulative = visitorsADaily.apply(\n",
    "    lambda x: visitorsADaily[visitorsADaily['date'] <= x['date']].agg(\n",
    "        {'date': 'max', 'visitorsPerDateA': 'sum'}\n",
    "    ),\n",
    "    axis=1,\n",
    ")\n",
    "visitorsACummulative.columns = ['date', 'visitorsCummulativeA']\n",
    "\n",
    "visitorsBDaily = visitors[visitors['group'] == 'B'][['date', 'visitors']]\n",
    "visitorsBDaily.columns = ['date', 'visitorsPerDateB']\n",
    "\n",
    "visitorsBCummulative = visitorsBDaily.apply(\n",
    "    lambda x: visitorsBDaily[visitorsBDaily['date'] <= x['date']].agg(\n",
    "        {'date': 'max', 'visitorsPerDateB': 'sum'}\n",
    "    ),\n",
    "    axis=1,\n",
    ")\n",
    "visitorsBCummulative.columns = ['date', 'visitorsCummulativeB']\n",
    "\n",
    "ordersADaily = (\n",
    "    orders[orders['group'] == 'A'][['date', 'transactionId', 'visitorId', 'revenue']]\n",
    "    .groupby('date', as_index=False)\n",
    "    .agg({'transactionId': pd.Series.nunique, 'revenue': 'sum'})\n",
    ")\n",
    "ordersADaily.columns = ['date', 'ordersPerDateA', 'revenuePerDateA']\n",
    "\n",
    "ordersACummulative = ordersADaily.apply(\n",
    "    lambda x: ordersADaily[ordersADaily['date'] <= x['date']].agg(\n",
    "        {'date': 'max', 'ordersPerDateA': 'sum', 'revenuePerDateA': 'sum'}\n",
    "    ),\n",
    "    axis=1,\n",
    ").sort_values(by=['date'])\n",
    "ordersACummulative.columns = [\n",
    "    'date',\n",
    "    'ordersCummulativeA',\n",
    "    'revenueCummulativeA',\n",
    "]\n",
    "\n",
    "ordersBDaily = (\n",
    "    orders[orders['group'] == 'B'][['date', 'transactionId', 'visitorId', 'revenue']]\n",
    "    .groupby('date', as_index=False)\n",
    "    .agg({'transactionId': pd.Series.nunique, 'revenue': 'sum'})\n",
    ")\n",
    "ordersBDaily.columns = ['date', 'ordersPerDateB', 'revenuePerDateB']\n",
    "\n",
    "ordersBCummulative = ordersBDaily.apply(\n",
    "    lambda x: ordersBDaily[ordersBDaily['date'] <= x['date']].agg(\n",
    "        {'date': 'max', 'ordersPerDateB': 'sum', 'revenuePerDateB': 'sum'}\n",
    "    ),\n",
    "    axis=1,\n",
    ").sort_values(by=['date'])\n",
    "ordersBCummulative.columns = [\n",
    "    'date',\n",
    "    'ordersCummulativeB',\n",
    "    'revenueCummulativeB',\n",
    "]\n",
    "\n",
    "data = (\n",
    "    ordersADaily.merge(\n",
    "        ordersBDaily, left_on='date', right_on='date', how='left'\n",
    "    )\n",
    "    .merge(ordersACummulative, left_on='date', right_on='date', how='left')\n",
    "    .merge(ordersBCummulative, left_on='date', right_on='date', how='left')\n",
    "    .merge(visitorsADaily, left_on='date', right_on='date', how='left')\n",
    "    .merge(visitorsBDaily, left_on='date', right_on='date', how='left')\n",
    "    .merge(visitorsACummulative, left_on='date', right_on='date', how='left')\n",
    "    .merge(visitorsBCummulative, left_on='date', right_on='date', how='left')\n",
    ")\n",
    "\n",
    "ordersByUsersA = (\n",
    "    orders[orders['group'] == 'A']\n",
    "    .groupby('visitorId', as_index=False)\n",
    "    .agg({'transactionId': pd.Series.nunique})\n",
    ")\n",
    "ordersByUsersA.columns = ['visitorId', 'orders']\n",
    "\n",
    "ordersByUsersB = (\n",
    "    orders[orders['group'] == 'B']\n",
    "    .groupby('visitorId', as_index=False)\n",
    "    .agg({'transactionId': pd.Series.nunique})\n",
    ")\n",
    "ordersByUsersB.columns = ['visitorId', 'orders']\n",
    "\n",
    "pd.Series(0, index=np.arange(data['visitorsPerDateA'].sum() - len(ordersByUsersA['orders'])), name='orders')\n",
    " \n",
    "[ordersByUsersA['orders'],pd.Series(0, index=np.arange(data['visitorsPerDateA'].sum() - len(ordersByUsersA['orders'])), name='orders')]\n",
    "\n",
    "sampleA = pd.concat([ordersByUsersA['orders'],pd.Series(0, index=np.arange(data['visitorsPerDateA'].sum() - len(ordersByUsersA['orders'])), name='orders')],axis=0)\n",
    "\n",
    "sampleB = pd.concat([ordersByUsersB['orders'],pd.Series(0, index=np.arange(data['visitorsPerDateB'].sum() - len(ordersByUsersB['orders'])), name='orders')],axis=0)\n",
    "\n",
    "ordersByUsersA = (\n",
    "    orders[orders['group'] == 'A']\n",
    "    .groupby('visitorId', as_index=False)\n",
    "    .agg({'transactionId': pd.Series.nunique})\n",
    ")\n",
    "ordersByUsersA.columns = ['userId', 'orders']\n",
    "\n",
    "ordersByUsersB = (\n",
    "    orders[orders['group'] == 'B']\n",
    "    .groupby('visitorId', as_index=False)\n",
    "    .agg({'transactionId': pd.Series.nunique})\n",
    ")\n",
    "ordersByUsersB.columns = ['userId', 'orders']\n",
    "\n",
    "sampleA = pd.concat(\n",
    "    [\n",
    "        ordersByUsersA['orders'],\n",
    "        pd.Series(\n",
    "            0,\n",
    "            index=np.arange(\n",
    "                data['visitorsPerDateA'].sum() - len(ordersByUsersA['orders'])\n",
    "            ),\n",
    "            name='orders',\n",
    "        ),\n",
    "    ],\n",
    "    axis=0,\n",
    ")\n",
    "\n",
    "sampleB = pd.concat(\n",
    "    [\n",
    "        ordersByUsersB['orders'],\n",
    "        pd.Series(\n",
    "            0,\n",
    "            index=np.arange(\n",
    "                data['visitorsPerDateB'].sum() - len(ordersByUsersB['orders'])\n",
    "            ),\n",
    "            name='orders',\n",
    "        ),\n",
    "    ],\n",
    "    axis=0,\n",
    ")\n",
    "\n",
    "results = stats.mannwhitneyu(orders[orders['group']=='A']['revenue'], orders[orders['group']=='B']['revenue'])\n",
    "\n",
    "print ('P-value = ', round(results.pvalue, 3))\n",
    "\n",
    "if results.pvalue < alpha:\n",
    "    print('Разница статистически значима')\n",
    "else:\n",
    "    print('Разница статистически не значима')\n",
    "\n",
    "print('Относительное различие в средних чеках между группами = ''{0:.3f}'.format(orders[orders['group']=='B']['revenue'].mean()/orders[orders['group']=='A']['revenue'].mean()-1))\n"
   ]
  },
  {
   "cell_type": "markdown",
   "metadata": {},
   "source": [
    "Не получилось отвергнуть нулевую гипотезу, вывод о различии сделать нельзя "
   ]
  },
  {
   "cell_type": "markdown",
   "metadata": {},
   "source": [
    "<a id='17'></a>\n",
    "### Статистическая значимость различий в среднем количестве заказов на посетителя между группами по «очищенным» данным"
   ]
  },
  {
   "cell_type": "markdown",
   "metadata": {},
   "source": [
    "Сформулируем гипотезу, которую необходимо проверить:\n",
    "\n",
    "Гипотеза Н0: среднее количество заказов на посетителя между группами по «очищенным» данным равно.\n",
    "\n",
    "Гипотеза Н1: среднее количество заказов на посетителя между группами по «очищенным» данным не равно."
   ]
  },
  {
   "cell_type": "code",
   "execution_count": 38,
   "metadata": {},
   "outputs": [],
   "source": [
    "usersWithManyOrders = pd.concat(\n",
    "    [\n",
    "        ordersByUsersA[ordersByUsersA['orders'] > perc_99_count]['userId'],\n",
    "        ordersByUsersB[ordersByUsersB['orders'] > perc_99_count]['userId'],\n",
    "    ],\n",
    "    axis=0,\n",
    ")\n",
    "usersWithExpensiveOrders = orders[orders['revenue'] > perc_99_sum]['visitorId']\n",
    "abnormalUsers = (\n",
    "    pd.concat([usersWithManyOrders, usersWithExpensiveOrders], axis=0)\n",
    "    .drop_duplicates()\n",
    "    .sort_values()\n",
    ")"
   ]
  },
  {
   "cell_type": "code",
   "execution_count": 39,
   "metadata": {},
   "outputs": [
    {
     "name": "stdout",
     "output_type": "stream",
     "text": [
      "P-value =  0.007\n",
      "Разница статистически значима\n",
      "Относительное различие в среднем между группами = 0.189\n"
     ]
    }
   ],
   "source": [
    "sampleAFiltered = pd.concat(\n",
    "    [\n",
    "        ordersByUsersA[\n",
    "            np.logical_not(ordersByUsersA['userId'].isin(abnormalUsers))\n",
    "        ]['orders'],\n",
    "        pd.Series(\n",
    "            0,\n",
    "            index=np.arange(\n",
    "                data['visitorsPerDateA'].sum() - len(ordersByUsersA['orders'])\n",
    "            ),\n",
    "            name='orders',\n",
    "        ),\n",
    "    ],\n",
    "    axis=0,\n",
    ")\n",
    "\n",
    "sampleBFiltered = pd.concat(\n",
    "    [\n",
    "        ordersByUsersB[\n",
    "            np.logical_not(ordersByUsersB['userId'].isin(abnormalUsers))\n",
    "        ]['orders'],\n",
    "        pd.Series(\n",
    "            0,\n",
    "            index=np.arange(\n",
    "                data['visitorsPerDateB'].sum() - len(ordersByUsersB['orders'])\n",
    "            ),\n",
    "            name='orders',\n",
    "        ),\n",
    "    ],\n",
    "    axis=0,\n",
    ")\n",
    "results = stats.mannwhitneyu(sampleAFiltered, sampleBFiltered)\n",
    "\n",
    "print ('P-value = ', round(results.pvalue, 3))\n",
    "\n",
    "if results.pvalue < alpha:\n",
    "    print('Разница статистически значима')\n",
    "else:\n",
    "    print('Разница статистически не значима')\n",
    "\n",
    "print('Относительное различие в среднем между группами = '\"{0:.3f}\".format(sampleBFiltered.mean() / sampleAFiltered.mean() - 1))\n"
   ]
  },
  {
   "cell_type": "markdown",
   "metadata": {},
   "source": [
    "Мы отвергаем гипотезу Н0, таким образом, среднее количество заказов на посетителя между группами по «очищенным» данным не равно"
   ]
  },
  {
   "cell_type": "markdown",
   "metadata": {},
   "source": [
    "<a id='18'></a>\n",
    "### Статистическая значимость различий в среднем чеке заказа между группами по «очищенным» данным"
   ]
  },
  {
   "cell_type": "markdown",
   "metadata": {},
   "source": [
    "Сформулируем гипотезу, которую необходимо проверить:\n",
    "\n",
    "Гипотеза Н0: средняя сумма чеков между группами по «очищенным» данным равны.\n",
    "\n",
    "Гипотеза Н1: средняя сумма чеков между группами по «очищенным» данным не равны."
   ]
  },
  {
   "cell_type": "code",
   "execution_count": 40,
   "metadata": {},
   "outputs": [
    {
     "name": "stdout",
     "output_type": "stream",
     "text": [
      "P-value =  0.788\n",
      "Разница статистически не значима\n",
      "Относительное различие в средних чеках между группами = -0.032\n"
     ]
    }
   ],
   "source": [
    "results = stats.mannwhitneyu(orders[np.logical_and(orders['group']=='A', np.logical_not(orders['visitorId'].isin(abnormalUsers)))]['revenue'],\n",
    "                             orders[np.logical_and(orders['group']=='B', np.logical_not(orders['visitorId'].isin(abnormalUsers)))]['revenue'])\n",
    "\n",
    "print ('P-value = ', round(results.pvalue, 3))\n",
    "\n",
    "\n",
    "if results.pvalue < alpha:\n",
    "    print('Разница статистически значима')\n",
    "else:\n",
    "    print('Разница статистически не значима')\n",
    "\n",
    "print('Относительное различие в средних чеках между группами = '\"{0:.3f}\".format(\n",
    "        orders[\n",
    "            np.logical_and(\n",
    "                orders['group'] == 'B',\n",
    "                np.logical_not(orders['visitorId'].isin(abnormalUsers)),\n",
    "            )\n",
    "        ]['revenue'].mean()\n",
    "        / orders[\n",
    "            np.logical_and(\n",
    "                orders['group'] == 'A',\n",
    "                np.logical_not(orders['visitorId'].isin(abnormalUsers)),\n",
    "            )\n",
    "        ]['revenue'].mean()\n",
    "        - 1\n",
    "    )\n",
    ")"
   ]
  },
  {
   "cell_type": "markdown",
   "metadata": {},
   "source": [
    "Не получилось отвергнуть нулевую гипотезу, вывод о различии сделать нельзя."
   ]
  },
  {
   "cell_type": "markdown",
   "metadata": {},
   "source": [
    "<a id='19'></a>\n",
    "### Выводы"
   ]
  },
  {
   "cell_type": "markdown",
   "metadata": {},
   "source": [
    "Исходя из проведённого ислледования, можно зафиксировать:\n",
    "* Пользователи равномерно распределены по группам (корректное деление трафика теста)\n",
    "* Разница в среднем количестве заказов на посетителя между группами как по \"сырым\", так и по \"очищенным\" данным статистически значима (13% и 15% соответственно)\n",
    "* Разница в среднем чеке заказа между группами как по \"сырым\", так и по \"очищенным\" данным статистически не значима\n",
    "* Срок проводимого тестирования - месяц (август). Так как наш товар не подвержен сезонности, а тест проводился не в праздничное время, можно сказать, что данного срока вполне достаточно для корректного анализа\n",
    "\n",
    "Таким образом, можно остановить тест, зафиксировав победу группы В по показателю конверсии."
   ]
  }
 ],
 "metadata": {
  "ExecuteTimeLog": [
   {
    "duration": 901,
    "start_time": "2023-04-27T13:13:21.224Z"
   },
   {
    "duration": 215,
    "start_time": "2023-04-27T13:13:22.128Z"
   },
   {
    "duration": 32,
    "start_time": "2023-04-27T13:16:24.827Z"
   },
   {
    "duration": 26,
    "start_time": "2023-04-27T13:16:45.676Z"
   },
   {
    "duration": 12,
    "start_time": "2023-04-27T13:16:46.345Z"
   },
   {
    "duration": 12,
    "start_time": "2023-04-27T13:17:39.106Z"
   },
   {
    "duration": 21,
    "start_time": "2023-04-27T13:17:59.880Z"
   },
   {
    "duration": 89,
    "start_time": "2023-04-27T13:18:39.921Z"
   },
   {
    "duration": 8,
    "start_time": "2023-04-27T13:18:58.440Z"
   },
   {
    "duration": 6,
    "start_time": "2023-04-27T13:19:16.371Z"
   },
   {
    "duration": 84,
    "start_time": "2023-04-27T13:19:56.583Z"
   },
   {
    "duration": 4,
    "start_time": "2023-04-27T13:20:01.546Z"
   },
   {
    "duration": 707,
    "start_time": "2023-04-27T13:22:18.000Z"
   },
   {
    "duration": 81,
    "start_time": "2023-04-27T13:22:18.709Z"
   },
   {
    "duration": 16,
    "start_time": "2023-04-27T13:22:18.792Z"
   },
   {
    "duration": 26,
    "start_time": "2023-04-27T13:22:18.809Z"
   },
   {
    "duration": 15,
    "start_time": "2023-04-27T13:22:18.839Z"
   },
   {
    "duration": 6,
    "start_time": "2023-04-27T13:22:18.856Z"
   },
   {
    "duration": 7,
    "start_time": "2023-04-27T13:22:18.864Z"
   },
   {
    "duration": 31,
    "start_time": "2023-04-27T13:22:18.872Z"
   },
   {
    "duration": 15,
    "start_time": "2023-04-27T13:22:18.905Z"
   },
   {
    "duration": 63,
    "start_time": "2023-04-27T13:22:18.922Z"
   },
   {
    "duration": 13,
    "start_time": "2023-04-27T13:22:18.990Z"
   },
   {
    "duration": 3,
    "start_time": "2023-04-27T13:22:19.005Z"
   },
   {
    "duration": 4010,
    "start_time": "2023-04-27T13:22:19.010Z"
   },
   {
    "duration": 0,
    "start_time": "2023-04-27T13:22:23.022Z"
   },
   {
    "duration": 693,
    "start_time": "2023-04-27T13:24:17.717Z"
   },
   {
    "duration": 87,
    "start_time": "2023-04-27T13:24:18.413Z"
   },
   {
    "duration": 15,
    "start_time": "2023-04-27T13:24:18.503Z"
   },
   {
    "duration": 52,
    "start_time": "2023-04-27T13:24:18.520Z"
   },
   {
    "duration": 58,
    "start_time": "2023-04-27T13:24:18.576Z"
   },
   {
    "duration": 68,
    "start_time": "2023-04-27T13:24:18.636Z"
   },
   {
    "duration": 16,
    "start_time": "2023-04-27T13:24:18.706Z"
   },
   {
    "duration": 33,
    "start_time": "2023-04-27T13:24:18.724Z"
   },
   {
    "duration": 36,
    "start_time": "2023-04-27T13:24:18.759Z"
   },
   {
    "duration": 57,
    "start_time": "2023-04-27T13:24:18.797Z"
   },
   {
    "duration": 62,
    "start_time": "2023-04-27T13:24:18.856Z"
   },
   {
    "duration": 73,
    "start_time": "2023-04-27T13:24:18.919Z"
   },
   {
    "duration": 77,
    "start_time": "2023-04-27T13:24:18.994Z"
   },
   {
    "duration": 43,
    "start_time": "2023-04-27T13:24:19.074Z"
   },
   {
    "duration": 62,
    "start_time": "2023-04-27T13:24:19.119Z"
   },
   {
    "duration": 38,
    "start_time": "2023-04-27T13:24:19.183Z"
   },
   {
    "duration": 643,
    "start_time": "2023-04-27T13:24:50.506Z"
   },
   {
    "duration": 82,
    "start_time": "2023-04-27T13:24:51.151Z"
   },
   {
    "duration": 12,
    "start_time": "2023-04-27T13:24:51.235Z"
   },
   {
    "duration": 25,
    "start_time": "2023-04-27T13:24:51.248Z"
   },
   {
    "duration": 36,
    "start_time": "2023-04-27T13:24:51.275Z"
   },
   {
    "duration": 31,
    "start_time": "2023-04-27T13:24:51.313Z"
   },
   {
    "duration": 26,
    "start_time": "2023-04-27T13:24:51.346Z"
   },
   {
    "duration": 49,
    "start_time": "2023-04-27T13:24:51.374Z"
   },
   {
    "duration": 56,
    "start_time": "2023-04-27T13:24:51.424Z"
   },
   {
    "duration": 50,
    "start_time": "2023-04-27T13:24:51.481Z"
   },
   {
    "duration": 29,
    "start_time": "2023-04-27T13:24:51.533Z"
   },
   {
    "duration": 29,
    "start_time": "2023-04-27T13:24:51.564Z"
   },
   {
    "duration": 41,
    "start_time": "2023-04-27T13:24:51.599Z"
   },
   {
    "duration": 30,
    "start_time": "2023-04-27T13:24:51.643Z"
   },
   {
    "duration": 43,
    "start_time": "2023-04-27T13:24:51.674Z"
   },
   {
    "duration": 24,
    "start_time": "2023-04-27T13:24:51.719Z"
   },
   {
    "duration": 6,
    "start_time": "2023-04-27T13:28:08.646Z"
   },
   {
    "duration": 755,
    "start_time": "2023-04-27T13:28:34.207Z"
   },
   {
    "duration": 155,
    "start_time": "2023-04-27T13:28:34.965Z"
   },
   {
    "duration": 15,
    "start_time": "2023-04-27T13:28:35.122Z"
   },
   {
    "duration": 12,
    "start_time": "2023-04-27T13:28:35.139Z"
   },
   {
    "duration": 15,
    "start_time": "2023-04-27T13:28:35.153Z"
   },
   {
    "duration": 5,
    "start_time": "2023-04-27T13:28:35.170Z"
   },
   {
    "duration": 13,
    "start_time": "2023-04-27T13:28:35.177Z"
   },
   {
    "duration": 33,
    "start_time": "2023-04-27T13:28:35.191Z"
   },
   {
    "duration": 16,
    "start_time": "2023-04-27T13:28:35.226Z"
   },
   {
    "duration": 10,
    "start_time": "2023-04-27T13:28:35.244Z"
   },
   {
    "duration": 14,
    "start_time": "2023-04-27T13:28:35.256Z"
   },
   {
    "duration": 8,
    "start_time": "2023-04-27T13:28:35.272Z"
   },
   {
    "duration": 23,
    "start_time": "2023-04-27T13:28:35.285Z"
   },
   {
    "duration": 14,
    "start_time": "2023-04-27T13:28:35.311Z"
   },
   {
    "duration": 11,
    "start_time": "2023-04-27T13:28:35.327Z"
   },
   {
    "duration": 12,
    "start_time": "2023-04-27T13:28:35.339Z"
   },
   {
    "duration": 9,
    "start_time": "2023-04-27T13:28:35.352Z"
   },
   {
    "duration": 14,
    "start_time": "2023-04-27T13:30:16.917Z"
   },
   {
    "duration": 56,
    "start_time": "2023-04-27T13:33:11.438Z"
   },
   {
    "duration": 27,
    "start_time": "2023-04-27T13:34:12.273Z"
   },
   {
    "duration": 13,
    "start_time": "2023-04-27T13:34:22.200Z"
   },
   {
    "duration": 15,
    "start_time": "2023-04-27T13:35:54.149Z"
   },
   {
    "duration": 14,
    "start_time": "2023-04-27T13:37:09.945Z"
   },
   {
    "duration": 18,
    "start_time": "2023-04-27T13:37:24.963Z"
   },
   {
    "duration": 15,
    "start_time": "2023-04-27T13:37:35.833Z"
   },
   {
    "duration": 92,
    "start_time": "2023-04-27T13:38:57.838Z"
   },
   {
    "duration": 14,
    "start_time": "2023-04-27T13:39:02.801Z"
   },
   {
    "duration": 15,
    "start_time": "2023-04-27T13:50:31.462Z"
   },
   {
    "duration": 14,
    "start_time": "2023-04-27T13:50:51.751Z"
   },
   {
    "duration": 197,
    "start_time": "2023-04-27T13:54:53.951Z"
   },
   {
    "duration": 19,
    "start_time": "2023-04-27T14:06:56.803Z"
   },
   {
    "duration": 18,
    "start_time": "2023-04-27T14:11:21.812Z"
   },
   {
    "duration": 18,
    "start_time": "2023-04-27T14:12:16.403Z"
   },
   {
    "duration": 209,
    "start_time": "2023-04-27T14:12:51.930Z"
   },
   {
    "duration": 143,
    "start_time": "2023-04-27T14:13:10.854Z"
   },
   {
    "duration": 802,
    "start_time": "2023-04-27T14:15:59.906Z"
   },
   {
    "duration": 119,
    "start_time": "2023-04-27T14:16:00.715Z"
   },
   {
    "duration": 16,
    "start_time": "2023-04-27T14:16:00.836Z"
   },
   {
    "duration": 57,
    "start_time": "2023-04-27T14:16:00.854Z"
   },
   {
    "duration": 40,
    "start_time": "2023-04-27T14:16:00.919Z"
   },
   {
    "duration": 63,
    "start_time": "2023-04-27T14:16:00.960Z"
   },
   {
    "duration": 32,
    "start_time": "2023-04-27T14:16:01.026Z"
   },
   {
    "duration": 38,
    "start_time": "2023-04-27T14:16:01.060Z"
   },
   {
    "duration": 52,
    "start_time": "2023-04-27T14:16:01.105Z"
   },
   {
    "duration": 17,
    "start_time": "2023-04-27T14:16:01.159Z"
   },
   {
    "duration": 47,
    "start_time": "2023-04-27T14:16:01.179Z"
   },
   {
    "duration": 49,
    "start_time": "2023-04-27T14:16:01.228Z"
   },
   {
    "duration": 80,
    "start_time": "2023-04-27T14:16:01.279Z"
   },
   {
    "duration": 61,
    "start_time": "2023-04-27T14:16:01.362Z"
   },
   {
    "duration": 57,
    "start_time": "2023-04-27T14:16:01.425Z"
   },
   {
    "duration": 62,
    "start_time": "2023-04-27T14:16:01.488Z"
   },
   {
    "duration": 66,
    "start_time": "2023-04-27T14:16:01.552Z"
   },
   {
    "duration": 89,
    "start_time": "2023-04-27T14:16:01.620Z"
   },
   {
    "duration": 21,
    "start_time": "2023-04-27T14:16:01.725Z"
   },
   {
    "duration": 14,
    "start_time": "2023-04-27T14:16:21.148Z"
   },
   {
    "duration": 194,
    "start_time": "2023-04-27T14:28:35.269Z"
   },
   {
    "duration": 98,
    "start_time": "2023-04-27T14:36:55.076Z"
   },
   {
    "duration": 6,
    "start_time": "2023-04-27T14:38:20.037Z"
   },
   {
    "duration": 708,
    "start_time": "2023-04-27T14:38:37.851Z"
   },
   {
    "duration": 102,
    "start_time": "2023-04-27T14:38:38.561Z"
   },
   {
    "duration": 13,
    "start_time": "2023-04-27T14:38:38.665Z"
   },
   {
    "duration": 45,
    "start_time": "2023-04-27T14:38:38.680Z"
   },
   {
    "duration": 18,
    "start_time": "2023-04-27T14:38:38.727Z"
   },
   {
    "duration": 5,
    "start_time": "2023-04-27T14:38:38.747Z"
   },
   {
    "duration": 16,
    "start_time": "2023-04-27T14:38:38.754Z"
   },
   {
    "duration": 34,
    "start_time": "2023-04-27T14:38:38.772Z"
   },
   {
    "duration": 17,
    "start_time": "2023-04-27T14:38:38.812Z"
   },
   {
    "duration": 7,
    "start_time": "2023-04-27T14:38:38.831Z"
   },
   {
    "duration": 4,
    "start_time": "2023-04-27T14:38:38.840Z"
   },
   {
    "duration": 13,
    "start_time": "2023-04-27T14:38:38.845Z"
   },
   {
    "duration": 8,
    "start_time": "2023-04-27T14:38:38.860Z"
   },
   {
    "duration": 8,
    "start_time": "2023-04-27T14:38:38.872Z"
   },
   {
    "duration": 18,
    "start_time": "2023-04-27T14:38:38.883Z"
   },
   {
    "duration": 25,
    "start_time": "2023-04-27T14:38:38.902Z"
   },
   {
    "duration": 15,
    "start_time": "2023-04-27T14:38:38.929Z"
   },
   {
    "duration": 8,
    "start_time": "2023-04-27T14:38:38.945Z"
   },
   {
    "duration": 66,
    "start_time": "2023-04-27T14:38:38.955Z"
   },
   {
    "duration": 14,
    "start_time": "2023-04-27T14:38:39.023Z"
   },
   {
    "duration": 102,
    "start_time": "2023-04-27T14:38:39.039Z"
   },
   {
    "duration": 745,
    "start_time": "2023-04-27T14:40:10.845Z"
   },
   {
    "duration": 80,
    "start_time": "2023-04-27T14:40:11.598Z"
   },
   {
    "duration": 22,
    "start_time": "2023-04-27T14:40:11.680Z"
   },
   {
    "duration": 32,
    "start_time": "2023-04-27T14:40:11.703Z"
   },
   {
    "duration": 15,
    "start_time": "2023-04-27T14:40:11.738Z"
   },
   {
    "duration": 6,
    "start_time": "2023-04-27T14:40:11.755Z"
   },
   {
    "duration": 9,
    "start_time": "2023-04-27T14:40:11.763Z"
   },
   {
    "duration": 19,
    "start_time": "2023-04-27T14:40:11.775Z"
   },
   {
    "duration": 42,
    "start_time": "2023-04-27T14:40:11.796Z"
   },
   {
    "duration": 11,
    "start_time": "2023-04-27T14:40:11.840Z"
   },
   {
    "duration": 14,
    "start_time": "2023-04-27T14:40:11.853Z"
   },
   {
    "duration": 14,
    "start_time": "2023-04-27T14:40:11.869Z"
   },
   {
    "duration": 45,
    "start_time": "2023-04-27T14:40:11.889Z"
   },
   {
    "duration": 16,
    "start_time": "2023-04-27T14:40:11.938Z"
   },
   {
    "duration": 10,
    "start_time": "2023-04-27T14:40:11.956Z"
   },
   {
    "duration": 19,
    "start_time": "2023-04-27T14:40:11.968Z"
   },
   {
    "duration": 34,
    "start_time": "2023-04-27T14:40:11.991Z"
   },
   {
    "duration": 82,
    "start_time": "2023-04-27T14:40:12.027Z"
   },
   {
    "duration": 15,
    "start_time": "2023-04-27T14:40:12.111Z"
   },
   {
    "duration": 83,
    "start_time": "2023-04-27T14:40:12.128Z"
   },
   {
    "duration": 23,
    "start_time": "2023-04-27T14:41:21.647Z"
   },
   {
    "duration": 766,
    "start_time": "2023-04-27T14:42:15.020Z"
   },
   {
    "duration": 92,
    "start_time": "2023-04-27T14:42:15.788Z"
   },
   {
    "duration": 18,
    "start_time": "2023-04-27T14:42:15.882Z"
   },
   {
    "duration": 37,
    "start_time": "2023-04-27T14:42:15.906Z"
   },
   {
    "duration": 25,
    "start_time": "2023-04-27T14:42:15.945Z"
   },
   {
    "duration": 44,
    "start_time": "2023-04-27T14:42:15.972Z"
   },
   {
    "duration": 30,
    "start_time": "2023-04-27T14:42:16.018Z"
   },
   {
    "duration": 52,
    "start_time": "2023-04-27T14:42:16.050Z"
   },
   {
    "duration": 35,
    "start_time": "2023-04-27T14:42:16.104Z"
   },
   {
    "duration": 25,
    "start_time": "2023-04-27T14:42:16.142Z"
   },
   {
    "duration": 59,
    "start_time": "2023-04-27T14:42:16.169Z"
   },
   {
    "duration": 30,
    "start_time": "2023-04-27T14:42:16.230Z"
   },
   {
    "duration": 36,
    "start_time": "2023-04-27T14:42:16.262Z"
   },
   {
    "duration": 42,
    "start_time": "2023-04-27T14:42:16.300Z"
   },
   {
    "duration": 21,
    "start_time": "2023-04-27T14:42:16.344Z"
   },
   {
    "duration": 55,
    "start_time": "2023-04-27T14:42:16.367Z"
   },
   {
    "duration": 30,
    "start_time": "2023-04-27T14:42:16.424Z"
   },
   {
    "duration": 82,
    "start_time": "2023-04-27T14:42:16.456Z"
   },
   {
    "duration": 19,
    "start_time": "2023-04-27T14:42:16.539Z"
   },
   {
    "duration": 147,
    "start_time": "2023-04-27T14:42:16.559Z"
   },
   {
    "duration": 0,
    "start_time": "2023-04-27T14:42:16.715Z"
   },
   {
    "duration": 346,
    "start_time": "2023-04-27T14:44:03.914Z"
   },
   {
    "duration": 277,
    "start_time": "2023-04-27T14:44:05.716Z"
   },
   {
    "duration": 531,
    "start_time": "2023-04-27T14:46:08.612Z"
   },
   {
    "duration": 669,
    "start_time": "2023-04-27T14:49:58.963Z"
   },
   {
    "duration": 593,
    "start_time": "2023-04-27T14:50:13.042Z"
   },
   {
    "duration": 209,
    "start_time": "2023-04-27T14:53:49.633Z"
   },
   {
    "duration": 297,
    "start_time": "2023-04-27T14:55:15.115Z"
   },
   {
    "duration": 311,
    "start_time": "2023-04-27T14:59:46.916Z"
   },
   {
    "duration": 290,
    "start_time": "2023-04-27T15:06:13.616Z"
   },
   {
    "duration": 346,
    "start_time": "2023-04-27T15:10:28.708Z"
   },
   {
    "duration": 426,
    "start_time": "2023-04-27T15:10:49.637Z"
   },
   {
    "duration": 387,
    "start_time": "2023-04-27T15:14:44.249Z"
   },
   {
    "duration": 634,
    "start_time": "2023-04-27T15:17:40.126Z"
   },
   {
    "duration": 95,
    "start_time": "2023-04-27T15:17:40.762Z"
   },
   {
    "duration": 17,
    "start_time": "2023-04-27T15:17:40.862Z"
   },
   {
    "duration": 21,
    "start_time": "2023-04-27T15:17:40.880Z"
   },
   {
    "duration": 16,
    "start_time": "2023-04-27T15:17:40.904Z"
   },
   {
    "duration": 5,
    "start_time": "2023-04-27T15:17:40.921Z"
   },
   {
    "duration": 6,
    "start_time": "2023-04-27T15:17:40.928Z"
   },
   {
    "duration": 11,
    "start_time": "2023-04-27T15:17:40.936Z"
   },
   {
    "duration": 15,
    "start_time": "2023-04-27T15:17:40.949Z"
   },
   {
    "duration": 33,
    "start_time": "2023-04-27T15:17:40.966Z"
   },
   {
    "duration": 12,
    "start_time": "2023-04-27T15:17:41.001Z"
   },
   {
    "duration": 9,
    "start_time": "2023-04-27T15:17:41.015Z"
   },
   {
    "duration": 15,
    "start_time": "2023-04-27T15:17:41.025Z"
   },
   {
    "duration": 13,
    "start_time": "2023-04-27T15:17:41.044Z"
   },
   {
    "duration": 9,
    "start_time": "2023-04-27T15:17:41.059Z"
   },
   {
    "duration": 17,
    "start_time": "2023-04-27T15:17:41.069Z"
   },
   {
    "duration": 13,
    "start_time": "2023-04-27T15:17:41.088Z"
   },
   {
    "duration": 68,
    "start_time": "2023-04-27T15:17:41.103Z"
   },
   {
    "duration": 29,
    "start_time": "2023-04-27T15:17:41.172Z"
   },
   {
    "duration": 628,
    "start_time": "2023-04-27T15:17:41.203Z"
   },
   {
    "duration": 265,
    "start_time": "2023-04-27T15:17:41.833Z"
   },
   {
    "duration": 383,
    "start_time": "2023-04-27T15:17:42.102Z"
   },
   {
    "duration": 275,
    "start_time": "2023-04-27T15:17:42.490Z"
   },
   {
    "duration": 383,
    "start_time": "2023-04-27T15:17:42.767Z"
   },
   {
    "duration": 83,
    "start_time": "2023-04-27T15:18:39.698Z"
   },
   {
    "duration": 2849,
    "start_time": "2023-04-27T15:19:45.740Z"
   },
   {
    "duration": 8,
    "start_time": "2023-04-27T15:22:59.398Z"
   },
   {
    "duration": 16,
    "start_time": "2023-04-27T15:24:11.307Z"
   },
   {
    "duration": 1664,
    "start_time": "2023-04-27T15:24:32.420Z"
   },
   {
    "duration": 121,
    "start_time": "2023-04-27T15:25:04.370Z"
   },
   {
    "duration": 143,
    "start_time": "2023-04-27T15:25:22.970Z"
   },
   {
    "duration": 147,
    "start_time": "2023-04-27T15:27:53.053Z"
   },
   {
    "duration": 180,
    "start_time": "2023-04-27T15:28:43.581Z"
   },
   {
    "duration": 6,
    "start_time": "2023-04-27T15:31:11.721Z"
   },
   {
    "duration": 5,
    "start_time": "2023-04-27T15:31:19.233Z"
   },
   {
    "duration": 119,
    "start_time": "2023-04-27T15:56:40.135Z"
   },
   {
    "duration": 126,
    "start_time": "2023-04-27T15:56:49.404Z"
   },
   {
    "duration": 10,
    "start_time": "2023-04-27T15:57:01.007Z"
   },
   {
    "duration": 7,
    "start_time": "2023-04-27T15:58:23.642Z"
   },
   {
    "duration": 6,
    "start_time": "2023-04-27T15:58:51.199Z"
   },
   {
    "duration": 170,
    "start_time": "2023-04-27T16:10:51.739Z"
   },
   {
    "duration": 137,
    "start_time": "2023-04-27T16:11:05.410Z"
   },
   {
    "duration": 145,
    "start_time": "2023-04-27T16:11:52.575Z"
   },
   {
    "duration": 636,
    "start_time": "2023-04-27T16:12:02.508Z"
   },
   {
    "duration": 75,
    "start_time": "2023-04-27T16:12:03.146Z"
   },
   {
    "duration": 15,
    "start_time": "2023-04-27T16:12:03.223Z"
   },
   {
    "duration": 51,
    "start_time": "2023-04-27T16:12:03.241Z"
   },
   {
    "duration": 41,
    "start_time": "2023-04-27T16:12:03.295Z"
   },
   {
    "duration": 28,
    "start_time": "2023-04-27T16:12:03.338Z"
   },
   {
    "duration": 53,
    "start_time": "2023-04-27T16:12:03.368Z"
   },
   {
    "duration": 44,
    "start_time": "2023-04-27T16:12:03.424Z"
   },
   {
    "duration": 51,
    "start_time": "2023-04-27T16:12:03.470Z"
   },
   {
    "duration": 38,
    "start_time": "2023-04-27T16:12:03.524Z"
   },
   {
    "duration": 36,
    "start_time": "2023-04-27T16:12:03.565Z"
   },
   {
    "duration": 15,
    "start_time": "2023-04-27T16:12:03.603Z"
   },
   {
    "duration": 27,
    "start_time": "2023-04-27T16:12:03.620Z"
   },
   {
    "duration": 24,
    "start_time": "2023-04-27T16:12:03.651Z"
   },
   {
    "duration": 25,
    "start_time": "2023-04-27T16:12:03.677Z"
   },
   {
    "duration": 18,
    "start_time": "2023-04-27T16:12:03.704Z"
   },
   {
    "duration": 51,
    "start_time": "2023-04-27T16:12:03.725Z"
   },
   {
    "duration": 129,
    "start_time": "2023-04-27T16:12:03.779Z"
   },
   {
    "duration": 41,
    "start_time": "2023-04-27T16:12:03.910Z"
   },
   {
    "duration": 642,
    "start_time": "2023-04-27T16:12:03.953Z"
   },
   {
    "duration": 246,
    "start_time": "2023-04-27T16:12:04.596Z"
   },
   {
    "duration": 426,
    "start_time": "2023-04-27T16:12:04.844Z"
   },
   {
    "duration": 372,
    "start_time": "2023-04-27T16:12:05.272Z"
   },
   {
    "duration": 491,
    "start_time": "2023-04-27T16:12:05.646Z"
   },
   {
    "duration": 243,
    "start_time": "2023-04-27T16:12:06.140Z"
   },
   {
    "duration": 7,
    "start_time": "2023-04-27T16:12:06.386Z"
   },
   {
    "duration": 227,
    "start_time": "2023-04-27T16:12:06.396Z"
   },
   {
    "duration": 737,
    "start_time": "2023-04-27T16:15:07.555Z"
   },
   {
    "duration": 75,
    "start_time": "2023-04-27T16:15:08.295Z"
   },
   {
    "duration": 13,
    "start_time": "2023-04-27T16:15:08.372Z"
   },
   {
    "duration": 17,
    "start_time": "2023-04-27T16:15:08.387Z"
   },
   {
    "duration": 34,
    "start_time": "2023-04-27T16:15:08.406Z"
   },
   {
    "duration": 6,
    "start_time": "2023-04-27T16:15:08.442Z"
   },
   {
    "duration": 13,
    "start_time": "2023-04-27T16:15:08.450Z"
   },
   {
    "duration": 19,
    "start_time": "2023-04-27T16:15:08.465Z"
   },
   {
    "duration": 16,
    "start_time": "2023-04-27T16:15:08.486Z"
   },
   {
    "duration": 17,
    "start_time": "2023-04-27T16:15:08.504Z"
   },
   {
    "duration": 27,
    "start_time": "2023-04-27T16:15:08.523Z"
   },
   {
    "duration": 24,
    "start_time": "2023-04-27T16:15:08.552Z"
   },
   {
    "duration": 12,
    "start_time": "2023-04-27T16:15:08.577Z"
   },
   {
    "duration": 17,
    "start_time": "2023-04-27T16:15:08.592Z"
   },
   {
    "duration": 13,
    "start_time": "2023-04-27T16:15:08.611Z"
   },
   {
    "duration": 22,
    "start_time": "2023-04-27T16:15:08.625Z"
   },
   {
    "duration": 30,
    "start_time": "2023-04-27T16:15:08.649Z"
   },
   {
    "duration": 107,
    "start_time": "2023-04-27T16:15:08.681Z"
   },
   {
    "duration": 14,
    "start_time": "2023-04-27T16:15:08.789Z"
   },
   {
    "duration": 664,
    "start_time": "2023-04-27T16:15:08.804Z"
   },
   {
    "duration": 244,
    "start_time": "2023-04-27T16:15:09.470Z"
   },
   {
    "duration": 420,
    "start_time": "2023-04-27T16:15:09.715Z"
   },
   {
    "duration": 293,
    "start_time": "2023-04-27T16:15:10.137Z"
   },
   {
    "duration": 462,
    "start_time": "2023-04-27T16:15:10.432Z"
   },
   {
    "duration": 181,
    "start_time": "2023-04-27T16:15:10.897Z"
   },
   {
    "duration": 7,
    "start_time": "2023-04-27T16:15:11.083Z"
   },
   {
    "duration": 149,
    "start_time": "2023-04-27T16:15:11.092Z"
   },
   {
    "duration": 6,
    "start_time": "2023-04-27T16:18:54.496Z"
   },
   {
    "duration": 94,
    "start_time": "2023-04-27T16:19:59.990Z"
   },
   {
    "duration": 140,
    "start_time": "2023-04-27T16:20:11.821Z"
   },
   {
    "duration": 138,
    "start_time": "2023-04-27T16:20:29.307Z"
   },
   {
    "duration": 187,
    "start_time": "2023-04-27T16:23:12.916Z"
   },
   {
    "duration": 175,
    "start_time": "2023-04-27T16:23:52.879Z"
   },
   {
    "duration": 189,
    "start_time": "2023-04-27T16:24:52.159Z"
   },
   {
    "duration": 70,
    "start_time": "2023-04-27T16:28:41.456Z"
   },
   {
    "duration": 166,
    "start_time": "2023-04-27T16:28:49.481Z"
   },
   {
    "duration": 6,
    "start_time": "2023-04-27T16:33:12.450Z"
   },
   {
    "duration": 5,
    "start_time": "2023-04-27T16:34:15.811Z"
   },
   {
    "duration": 667,
    "start_time": "2023-04-27T16:35:38.366Z"
   },
   {
    "duration": 76,
    "start_time": "2023-04-27T16:35:39.035Z"
   },
   {
    "duration": 13,
    "start_time": "2023-04-27T16:35:39.113Z"
   },
   {
    "duration": 15,
    "start_time": "2023-04-27T16:35:39.128Z"
   },
   {
    "duration": 18,
    "start_time": "2023-04-27T16:35:39.145Z"
   },
   {
    "duration": 6,
    "start_time": "2023-04-27T16:35:39.165Z"
   },
   {
    "duration": 19,
    "start_time": "2023-04-27T16:35:39.173Z"
   },
   {
    "duration": 32,
    "start_time": "2023-04-27T16:35:39.194Z"
   },
   {
    "duration": 38,
    "start_time": "2023-04-27T16:35:39.227Z"
   },
   {
    "duration": 25,
    "start_time": "2023-04-27T16:35:39.267Z"
   },
   {
    "duration": 23,
    "start_time": "2023-04-27T16:35:39.295Z"
   },
   {
    "duration": 21,
    "start_time": "2023-04-27T16:35:39.320Z"
   },
   {
    "duration": 17,
    "start_time": "2023-04-27T16:35:39.344Z"
   },
   {
    "duration": 22,
    "start_time": "2023-04-27T16:35:39.363Z"
   },
   {
    "duration": 14,
    "start_time": "2023-04-27T16:35:39.387Z"
   },
   {
    "duration": 15,
    "start_time": "2023-04-27T16:35:39.403Z"
   },
   {
    "duration": 20,
    "start_time": "2023-04-27T16:35:39.420Z"
   },
   {
    "duration": 97,
    "start_time": "2023-04-27T16:35:39.442Z"
   },
   {
    "duration": 15,
    "start_time": "2023-04-27T16:35:39.541Z"
   },
   {
    "duration": 673,
    "start_time": "2023-04-27T16:35:39.558Z"
   },
   {
    "duration": 253,
    "start_time": "2023-04-27T16:35:40.233Z"
   },
   {
    "duration": 474,
    "start_time": "2023-04-27T16:35:40.488Z"
   },
   {
    "duration": 274,
    "start_time": "2023-04-27T16:35:40.963Z"
   },
   {
    "duration": 506,
    "start_time": "2023-04-27T16:35:41.238Z"
   },
   {
    "duration": 214,
    "start_time": "2023-04-27T16:35:41.746Z"
   },
   {
    "duration": 6,
    "start_time": "2023-04-27T16:35:41.962Z"
   },
   {
    "duration": 210,
    "start_time": "2023-04-27T16:35:41.969Z"
   },
   {
    "duration": 10,
    "start_time": "2023-04-27T16:35:42.183Z"
   },
   {
    "duration": 191,
    "start_time": "2023-04-27T16:38:39.738Z"
   },
   {
    "duration": 121,
    "start_time": "2023-04-27T16:41:39.985Z"
   },
   {
    "duration": 172,
    "start_time": "2023-04-27T16:42:31.292Z"
   },
   {
    "duration": 260,
    "start_time": "2023-04-27T16:43:21.647Z"
   },
   {
    "duration": 225,
    "start_time": "2023-04-27T16:44:47.481Z"
   },
   {
    "duration": 789,
    "start_time": "2023-04-27T16:45:11.446Z"
   },
   {
    "duration": 644,
    "start_time": "2023-04-27T16:45:36.528Z"
   },
   {
    "duration": 679,
    "start_time": "2023-04-27T16:48:46.053Z"
   },
   {
    "duration": 81,
    "start_time": "2023-04-27T16:48:46.734Z"
   },
   {
    "duration": 13,
    "start_time": "2023-04-27T16:48:46.816Z"
   },
   {
    "duration": 11,
    "start_time": "2023-04-27T16:48:46.831Z"
   },
   {
    "duration": 14,
    "start_time": "2023-04-27T16:48:46.843Z"
   },
   {
    "duration": 5,
    "start_time": "2023-04-27T16:48:46.859Z"
   },
   {
    "duration": 6,
    "start_time": "2023-04-27T16:48:46.865Z"
   },
   {
    "duration": 12,
    "start_time": "2023-04-27T16:48:46.873Z"
   },
   {
    "duration": 30,
    "start_time": "2023-04-27T16:48:46.887Z"
   },
   {
    "duration": 8,
    "start_time": "2023-04-27T16:48:46.921Z"
   },
   {
    "duration": 16,
    "start_time": "2023-04-27T16:48:46.931Z"
   },
   {
    "duration": 9,
    "start_time": "2023-04-27T16:48:46.949Z"
   },
   {
    "duration": 9,
    "start_time": "2023-04-27T16:48:46.959Z"
   },
   {
    "duration": 34,
    "start_time": "2023-04-27T16:48:46.970Z"
   },
   {
    "duration": 5,
    "start_time": "2023-04-27T16:48:47.006Z"
   },
   {
    "duration": 10,
    "start_time": "2023-04-27T16:48:47.013Z"
   },
   {
    "duration": 10,
    "start_time": "2023-04-27T16:48:47.025Z"
   },
   {
    "duration": 70,
    "start_time": "2023-04-27T16:48:47.037Z"
   },
   {
    "duration": 16,
    "start_time": "2023-04-27T16:48:47.108Z"
   },
   {
    "duration": 670,
    "start_time": "2023-04-27T16:48:47.125Z"
   },
   {
    "duration": 267,
    "start_time": "2023-04-27T16:48:47.797Z"
   },
   {
    "duration": 383,
    "start_time": "2023-04-27T16:48:48.066Z"
   },
   {
    "duration": 276,
    "start_time": "2023-04-27T16:48:48.451Z"
   },
   {
    "duration": 350,
    "start_time": "2023-04-27T16:48:48.729Z"
   },
   {
    "duration": 175,
    "start_time": "2023-04-27T16:48:49.083Z"
   },
   {
    "duration": 6,
    "start_time": "2023-04-27T16:48:49.260Z"
   },
   {
    "duration": 189,
    "start_time": "2023-04-27T16:48:49.268Z"
   },
   {
    "duration": 6,
    "start_time": "2023-04-27T16:48:49.461Z"
   },
   {
    "duration": 1001,
    "start_time": "2023-04-27T16:48:49.487Z"
   },
   {
    "duration": 26,
    "start_time": "2023-04-27T16:50:44.104Z"
   },
   {
    "duration": 698,
    "start_time": "2023-04-27T16:51:05.019Z"
   },
   {
    "duration": 124,
    "start_time": "2023-04-27T16:52:57.468Z"
   },
   {
    "duration": 463,
    "start_time": "2023-04-27T16:55:44.975Z"
   },
   {
    "duration": 1140,
    "start_time": "2023-04-27T16:56:24.223Z"
   },
   {
    "duration": 75,
    "start_time": "2023-04-27T16:56:25.365Z"
   },
   {
    "duration": 17,
    "start_time": "2023-04-27T16:56:25.441Z"
   },
   {
    "duration": 11,
    "start_time": "2023-04-27T16:56:25.460Z"
   },
   {
    "duration": 14,
    "start_time": "2023-04-27T16:56:25.473Z"
   },
   {
    "duration": 9,
    "start_time": "2023-04-27T16:56:25.488Z"
   },
   {
    "duration": 5,
    "start_time": "2023-04-27T16:56:25.499Z"
   },
   {
    "duration": 13,
    "start_time": "2023-04-27T16:56:25.506Z"
   },
   {
    "duration": 14,
    "start_time": "2023-04-27T16:56:25.521Z"
   },
   {
    "duration": 9,
    "start_time": "2023-04-27T16:56:25.536Z"
   },
   {
    "duration": 15,
    "start_time": "2023-04-27T16:56:25.547Z"
   },
   {
    "duration": 20,
    "start_time": "2023-04-27T16:56:25.564Z"
   },
   {
    "duration": 29,
    "start_time": "2023-04-27T16:56:25.586Z"
   },
   {
    "duration": 24,
    "start_time": "2023-04-27T16:56:25.618Z"
   },
   {
    "duration": 25,
    "start_time": "2023-04-27T16:56:25.644Z"
   },
   {
    "duration": 13,
    "start_time": "2023-04-27T16:56:25.671Z"
   },
   {
    "duration": 29,
    "start_time": "2023-04-27T16:56:25.685Z"
   },
   {
    "duration": 71,
    "start_time": "2023-04-27T16:56:25.715Z"
   },
   {
    "duration": 12,
    "start_time": "2023-04-27T16:56:25.788Z"
   },
   {
    "duration": 581,
    "start_time": "2023-04-27T16:56:25.802Z"
   },
   {
    "duration": 229,
    "start_time": "2023-04-27T16:56:26.385Z"
   },
   {
    "duration": 317,
    "start_time": "2023-04-27T16:56:26.615Z"
   },
   {
    "duration": 241,
    "start_time": "2023-04-27T16:56:26.934Z"
   },
   {
    "duration": 357,
    "start_time": "2023-04-27T16:56:27.177Z"
   },
   {
    "duration": 164,
    "start_time": "2023-04-27T16:56:27.535Z"
   },
   {
    "duration": 6,
    "start_time": "2023-04-27T16:56:27.701Z"
   },
   {
    "duration": 176,
    "start_time": "2023-04-27T16:56:27.709Z"
   },
   {
    "duration": 7,
    "start_time": "2023-04-27T16:56:27.887Z"
   },
   {
    "duration": 817,
    "start_time": "2023-04-27T16:56:27.896Z"
   },
   {
    "duration": 0,
    "start_time": "2023-04-27T16:56:28.715Z"
   },
   {
    "duration": 491,
    "start_time": "2023-04-27T16:56:46.901Z"
   },
   {
    "duration": 548,
    "start_time": "2023-04-27T17:03:28.198Z"
   },
   {
    "duration": 501,
    "start_time": "2023-04-27T17:03:37.921Z"
   },
   {
    "duration": 538,
    "start_time": "2023-04-27T17:06:12.380Z"
   },
   {
    "duration": 486,
    "start_time": "2023-04-27T17:09:29.873Z"
   },
   {
    "duration": 439,
    "start_time": "2023-04-27T17:09:55.963Z"
   },
   {
    "duration": 520,
    "start_time": "2023-04-27T17:10:13.576Z"
   },
   {
    "duration": 499,
    "start_time": "2023-04-27T17:11:22.156Z"
   },
   {
    "duration": 449,
    "start_time": "2023-04-27T17:11:46.987Z"
   },
   {
    "duration": 502,
    "start_time": "2023-04-27T17:13:59.504Z"
   },
   {
    "duration": 467,
    "start_time": "2023-04-27T17:14:44.025Z"
   },
   {
    "duration": 1149,
    "start_time": "2023-04-27T17:15:21.403Z"
   },
   {
    "duration": 78,
    "start_time": "2023-04-27T17:15:22.555Z"
   },
   {
    "duration": 16,
    "start_time": "2023-04-27T17:15:22.635Z"
   },
   {
    "duration": 10,
    "start_time": "2023-04-27T17:15:22.655Z"
   },
   {
    "duration": 9,
    "start_time": "2023-04-27T17:15:22.669Z"
   },
   {
    "duration": 12,
    "start_time": "2023-04-27T17:15:22.680Z"
   },
   {
    "duration": 7,
    "start_time": "2023-04-27T17:15:22.694Z"
   },
   {
    "duration": 12,
    "start_time": "2023-04-27T17:15:22.703Z"
   },
   {
    "duration": 14,
    "start_time": "2023-04-27T17:15:22.716Z"
   },
   {
    "duration": 8,
    "start_time": "2023-04-27T17:15:22.732Z"
   },
   {
    "duration": 13,
    "start_time": "2023-04-27T17:15:22.742Z"
   },
   {
    "duration": 10,
    "start_time": "2023-04-27T17:15:22.757Z"
   },
   {
    "duration": 22,
    "start_time": "2023-04-27T17:15:22.768Z"
   },
   {
    "duration": 11,
    "start_time": "2023-04-27T17:15:22.793Z"
   },
   {
    "duration": 17,
    "start_time": "2023-04-27T17:15:22.806Z"
   },
   {
    "duration": 16,
    "start_time": "2023-04-27T17:15:22.824Z"
   },
   {
    "duration": 8,
    "start_time": "2023-04-27T17:15:22.841Z"
   },
   {
    "duration": 63,
    "start_time": "2023-04-27T17:15:22.851Z"
   },
   {
    "duration": 15,
    "start_time": "2023-04-27T17:15:22.916Z"
   },
   {
    "duration": 629,
    "start_time": "2023-04-27T17:15:22.933Z"
   },
   {
    "duration": 254,
    "start_time": "2023-04-27T17:15:23.564Z"
   },
   {
    "duration": 311,
    "start_time": "2023-04-27T17:15:23.820Z"
   },
   {
    "duration": 255,
    "start_time": "2023-04-27T17:15:24.133Z"
   },
   {
    "duration": 370,
    "start_time": "2023-04-27T17:15:24.389Z"
   },
   {
    "duration": 233,
    "start_time": "2023-04-27T17:15:24.761Z"
   },
   {
    "duration": 7,
    "start_time": "2023-04-27T17:15:24.997Z"
   },
   {
    "duration": 197,
    "start_time": "2023-04-27T17:15:25.006Z"
   },
   {
    "duration": 7,
    "start_time": "2023-04-27T17:15:25.205Z"
   },
   {
    "duration": 570,
    "start_time": "2023-04-27T17:15:25.214Z"
   },
   {
    "duration": 467,
    "start_time": "2023-04-27T17:15:25.786Z"
   },
   {
    "duration": 2170,
    "start_time": "2023-04-27T17:16:55.667Z"
   },
   {
    "duration": 80,
    "start_time": "2023-04-27T17:17:20.577Z"
   },
   {
    "duration": 2050,
    "start_time": "2023-04-27T17:17:44.192Z"
   },
   {
    "duration": 1313,
    "start_time": "2023-04-27T17:18:37.115Z"
   },
   {
    "duration": 10,
    "start_time": "2023-04-27T17:18:57.546Z"
   },
   {
    "duration": 7,
    "start_time": "2023-04-27T17:19:36.929Z"
   },
   {
    "duration": 45,
    "start_time": "2023-04-27T17:22:44.483Z"
   },
   {
    "duration": 28,
    "start_time": "2023-04-27T17:24:23.274Z"
   },
   {
    "duration": 1219,
    "start_time": "2023-04-27T17:26:32.944Z"
   },
   {
    "duration": 16,
    "start_time": "2023-04-27T17:27:11.761Z"
   },
   {
    "duration": 83,
    "start_time": "2023-04-27T17:28:01.976Z"
   },
   {
    "duration": 19,
    "start_time": "2023-04-27T17:28:13.682Z"
   },
   {
    "duration": 17,
    "start_time": "2023-04-27T17:29:28.581Z"
   },
   {
    "duration": 15,
    "start_time": "2023-04-27T17:30:05.607Z"
   },
   {
    "duration": 6,
    "start_time": "2023-04-27T17:39:18.149Z"
   },
   {
    "duration": 1194,
    "start_time": "2023-04-27T17:47:20.978Z"
   },
   {
    "duration": 83,
    "start_time": "2023-04-27T17:47:22.175Z"
   },
   {
    "duration": 12,
    "start_time": "2023-04-27T17:47:22.259Z"
   },
   {
    "duration": 36,
    "start_time": "2023-04-27T17:47:22.273Z"
   },
   {
    "duration": 24,
    "start_time": "2023-04-27T17:47:22.312Z"
   },
   {
    "duration": 34,
    "start_time": "2023-04-27T17:47:22.337Z"
   },
   {
    "duration": 13,
    "start_time": "2023-04-27T17:47:22.373Z"
   },
   {
    "duration": 41,
    "start_time": "2023-04-27T17:47:22.388Z"
   },
   {
    "duration": 27,
    "start_time": "2023-04-27T17:47:22.430Z"
   },
   {
    "duration": 15,
    "start_time": "2023-04-27T17:47:22.459Z"
   },
   {
    "duration": 44,
    "start_time": "2023-04-27T17:47:22.476Z"
   },
   {
    "duration": 10,
    "start_time": "2023-04-27T17:47:22.522Z"
   },
   {
    "duration": 18,
    "start_time": "2023-04-27T17:47:22.534Z"
   },
   {
    "duration": 7,
    "start_time": "2023-04-27T17:47:22.556Z"
   },
   {
    "duration": 19,
    "start_time": "2023-04-27T17:47:22.565Z"
   },
   {
    "duration": 19,
    "start_time": "2023-04-27T17:47:22.586Z"
   },
   {
    "duration": 18,
    "start_time": "2023-04-27T17:47:22.606Z"
   },
   {
    "duration": 24,
    "start_time": "2023-04-27T17:47:22.625Z"
   },
   {
    "duration": 67,
    "start_time": "2023-04-27T17:47:22.651Z"
   },
   {
    "duration": 14,
    "start_time": "2023-04-27T17:47:22.719Z"
   },
   {
    "duration": 644,
    "start_time": "2023-04-27T17:47:22.735Z"
   },
   {
    "duration": 261,
    "start_time": "2023-04-27T17:47:23.381Z"
   },
   {
    "duration": 392,
    "start_time": "2023-04-27T17:47:23.644Z"
   },
   {
    "duration": 339,
    "start_time": "2023-04-27T17:47:24.040Z"
   },
   {
    "duration": 389,
    "start_time": "2023-04-27T17:47:24.387Z"
   },
   {
    "duration": 236,
    "start_time": "2023-04-27T17:47:24.778Z"
   },
   {
    "duration": 5,
    "start_time": "2023-04-27T17:47:25.017Z"
   },
   {
    "duration": 205,
    "start_time": "2023-04-27T17:47:25.024Z"
   },
   {
    "duration": 6,
    "start_time": "2023-04-27T17:47:25.230Z"
   },
   {
    "duration": 618,
    "start_time": "2023-04-27T17:47:25.238Z"
   },
   {
    "duration": 494,
    "start_time": "2023-04-27T17:47:25.858Z"
   },
   {
    "duration": 8,
    "start_time": "2023-04-27T17:47:26.355Z"
   },
   {
    "duration": 48,
    "start_time": "2023-04-27T17:47:26.365Z"
   },
   {
    "duration": 21,
    "start_time": "2023-04-27T17:47:26.415Z"
   },
   {
    "duration": 1524,
    "start_time": "2023-04-28T05:35:36.327Z"
   },
   {
    "duration": 203,
    "start_time": "2023-04-28T05:35:37.854Z"
   },
   {
    "duration": 19,
    "start_time": "2023-04-28T05:35:38.060Z"
   },
   {
    "duration": 15,
    "start_time": "2023-04-28T05:35:38.082Z"
   },
   {
    "duration": 67,
    "start_time": "2023-04-28T05:35:38.099Z"
   },
   {
    "duration": 55,
    "start_time": "2023-04-28T05:35:38.168Z"
   },
   {
    "duration": 111,
    "start_time": "2023-04-28T05:35:38.225Z"
   },
   {
    "duration": 38,
    "start_time": "2023-04-28T05:35:38.338Z"
   },
   {
    "duration": 51,
    "start_time": "2023-04-28T05:35:38.378Z"
   },
   {
    "duration": 40,
    "start_time": "2023-04-28T05:35:38.432Z"
   },
   {
    "duration": 74,
    "start_time": "2023-04-28T05:35:38.474Z"
   },
   {
    "duration": 61,
    "start_time": "2023-04-28T05:35:38.550Z"
   },
   {
    "duration": 25,
    "start_time": "2023-04-28T05:35:38.613Z"
   },
   {
    "duration": 38,
    "start_time": "2023-04-28T05:35:38.640Z"
   },
   {
    "duration": 28,
    "start_time": "2023-04-28T05:35:38.679Z"
   },
   {
    "duration": 58,
    "start_time": "2023-04-28T05:35:38.709Z"
   },
   {
    "duration": 63,
    "start_time": "2023-04-28T05:35:38.769Z"
   },
   {
    "duration": 44,
    "start_time": "2023-04-28T05:35:38.835Z"
   },
   {
    "duration": 122,
    "start_time": "2023-04-28T05:35:38.881Z"
   },
   {
    "duration": 18,
    "start_time": "2023-04-28T05:35:39.005Z"
   },
   {
    "duration": 733,
    "start_time": "2023-04-28T05:35:39.026Z"
   },
   {
    "duration": 272,
    "start_time": "2023-04-28T05:35:39.761Z"
   },
   {
    "duration": 387,
    "start_time": "2023-04-28T05:35:40.042Z"
   },
   {
    "duration": 284,
    "start_time": "2023-04-28T05:35:40.431Z"
   },
   {
    "duration": 400,
    "start_time": "2023-04-28T05:35:40.718Z"
   },
   {
    "duration": 207,
    "start_time": "2023-04-28T05:35:41.121Z"
   },
   {
    "duration": 8,
    "start_time": "2023-04-28T05:35:41.341Z"
   },
   {
    "duration": 222,
    "start_time": "2023-04-28T05:35:41.354Z"
   },
   {
    "duration": 7,
    "start_time": "2023-04-28T05:35:41.578Z"
   },
   {
    "duration": 668,
    "start_time": "2023-04-28T05:35:41.587Z"
   },
   {
    "duration": 527,
    "start_time": "2023-04-28T05:35:42.258Z"
   },
   {
    "duration": 10,
    "start_time": "2023-04-28T05:35:42.787Z"
   },
   {
    "duration": 49,
    "start_time": "2023-04-28T05:35:42.799Z"
   },
   {
    "duration": 18,
    "start_time": "2023-04-28T05:35:42.850Z"
   },
   {
    "duration": 1134,
    "start_time": "2023-04-28T20:17:35.570Z"
   },
   {
    "duration": 202,
    "start_time": "2023-04-28T20:17:36.706Z"
   },
   {
    "duration": 11,
    "start_time": "2023-04-28T20:17:36.909Z"
   },
   {
    "duration": 9,
    "start_time": "2023-04-28T20:17:36.922Z"
   },
   {
    "duration": 9,
    "start_time": "2023-04-28T20:17:36.934Z"
   },
   {
    "duration": 4,
    "start_time": "2023-04-28T20:17:36.944Z"
   },
   {
    "duration": 5,
    "start_time": "2023-04-28T20:17:36.949Z"
   },
   {
    "duration": 10,
    "start_time": "2023-04-28T20:17:36.955Z"
   },
   {
    "duration": 11,
    "start_time": "2023-04-28T20:17:36.966Z"
   },
   {
    "duration": 5,
    "start_time": "2023-04-28T20:17:36.978Z"
   },
   {
    "duration": 10,
    "start_time": "2023-04-28T20:17:36.984Z"
   },
   {
    "duration": 7,
    "start_time": "2023-04-28T20:17:36.995Z"
   },
   {
    "duration": 31,
    "start_time": "2023-04-28T20:17:37.003Z"
   },
   {
    "duration": 10,
    "start_time": "2023-04-28T20:17:37.037Z"
   },
   {
    "duration": 9,
    "start_time": "2023-04-28T20:17:37.049Z"
   },
   {
    "duration": 5,
    "start_time": "2023-04-28T20:17:37.060Z"
   },
   {
    "duration": 13,
    "start_time": "2023-04-28T20:17:37.066Z"
   },
   {
    "duration": 9,
    "start_time": "2023-04-28T20:17:37.081Z"
   },
   {
    "duration": 54,
    "start_time": "2023-04-28T20:17:37.091Z"
   },
   {
    "duration": 12,
    "start_time": "2023-04-28T20:17:37.146Z"
   },
   {
    "duration": 544,
    "start_time": "2023-04-28T20:17:37.160Z"
   },
   {
    "duration": 202,
    "start_time": "2023-04-28T20:17:37.706Z"
   },
   {
    "duration": 363,
    "start_time": "2023-04-28T20:17:37.910Z"
   },
   {
    "duration": 210,
    "start_time": "2023-04-28T20:17:38.274Z"
   },
   {
    "duration": 323,
    "start_time": "2023-04-28T20:17:38.485Z"
   },
   {
    "duration": 145,
    "start_time": "2023-04-28T20:17:38.809Z"
   },
   {
    "duration": 4,
    "start_time": "2023-04-28T20:17:38.955Z"
   },
   {
    "duration": 156,
    "start_time": "2023-04-28T20:17:38.960Z"
   },
   {
    "duration": 5,
    "start_time": "2023-04-28T20:17:39.118Z"
   },
   {
    "duration": 483,
    "start_time": "2023-04-28T20:17:39.133Z"
   },
   {
    "duration": 419,
    "start_time": "2023-04-28T20:17:39.618Z"
   },
   {
    "duration": 8,
    "start_time": "2023-04-28T20:17:40.039Z"
   },
   {
    "duration": 65,
    "start_time": "2023-04-28T20:17:40.049Z"
   },
   {
    "duration": 17,
    "start_time": "2023-04-28T20:17:40.116Z"
   },
   {
    "duration": 1053,
    "start_time": "2023-04-28T20:54:27.626Z"
   },
   {
    "duration": 78,
    "start_time": "2023-04-28T20:54:28.681Z"
   },
   {
    "duration": 11,
    "start_time": "2023-04-28T20:54:28.760Z"
   },
   {
    "duration": 10,
    "start_time": "2023-04-28T20:54:28.772Z"
   },
   {
    "duration": 9,
    "start_time": "2023-04-28T20:54:28.783Z"
   },
   {
    "duration": 4,
    "start_time": "2023-04-28T20:54:28.793Z"
   },
   {
    "duration": 5,
    "start_time": "2023-04-28T20:54:28.799Z"
   },
   {
    "duration": 10,
    "start_time": "2023-04-28T20:54:28.805Z"
   },
   {
    "duration": 13,
    "start_time": "2023-04-28T20:54:28.816Z"
   },
   {
    "duration": 4,
    "start_time": "2023-04-28T20:54:28.833Z"
   },
   {
    "duration": 16,
    "start_time": "2023-04-28T20:54:28.838Z"
   },
   {
    "duration": 11,
    "start_time": "2023-04-28T20:54:28.855Z"
   },
   {
    "duration": 11,
    "start_time": "2023-04-28T20:54:28.867Z"
   },
   {
    "duration": 5,
    "start_time": "2023-04-28T20:54:28.880Z"
   },
   {
    "duration": 9,
    "start_time": "2023-04-28T20:54:28.887Z"
   },
   {
    "duration": 4,
    "start_time": "2023-04-28T20:54:28.898Z"
   },
   {
    "duration": 9,
    "start_time": "2023-04-28T20:54:28.903Z"
   },
   {
    "duration": 21,
    "start_time": "2023-04-28T20:54:28.913Z"
   },
   {
    "duration": 44,
    "start_time": "2023-04-28T20:54:28.935Z"
   },
   {
    "duration": 11,
    "start_time": "2023-04-28T20:54:28.980Z"
   },
   {
    "duration": 537,
    "start_time": "2023-04-28T20:54:28.992Z"
   },
   {
    "duration": 189,
    "start_time": "2023-04-28T20:54:29.531Z"
   },
   {
    "duration": 329,
    "start_time": "2023-04-28T20:54:29.722Z"
   },
   {
    "duration": 206,
    "start_time": "2023-04-28T20:54:30.052Z"
   },
   {
    "duration": 328,
    "start_time": "2023-04-28T20:54:30.260Z"
   },
   {
    "duration": 157,
    "start_time": "2023-04-28T20:54:30.590Z"
   },
   {
    "duration": 5,
    "start_time": "2023-04-28T20:54:30.749Z"
   },
   {
    "duration": 171,
    "start_time": "2023-04-28T20:54:30.755Z"
   },
   {
    "duration": 5,
    "start_time": "2023-04-28T20:54:30.928Z"
   },
   {
    "duration": 472,
    "start_time": "2023-04-28T20:54:30.934Z"
   },
   {
    "duration": 415,
    "start_time": "2023-04-28T20:54:31.408Z"
   },
   {
    "duration": 10,
    "start_time": "2023-04-28T20:54:31.825Z"
   },
   {
    "duration": 56,
    "start_time": "2023-04-28T20:54:31.837Z"
   },
   {
    "duration": 11,
    "start_time": "2023-04-28T20:54:31.895Z"
   },
   {
    "duration": 1040,
    "start_time": "2023-04-28T21:03:40.444Z"
   },
   {
    "duration": 79,
    "start_time": "2023-04-28T21:03:41.487Z"
   },
   {
    "duration": 13,
    "start_time": "2023-04-28T21:03:41.567Z"
   },
   {
    "duration": 11,
    "start_time": "2023-04-28T21:03:41.582Z"
   },
   {
    "duration": 13,
    "start_time": "2023-04-28T21:03:41.595Z"
   },
   {
    "duration": 5,
    "start_time": "2023-04-28T21:03:41.609Z"
   },
   {
    "duration": 5,
    "start_time": "2023-04-28T21:03:41.616Z"
   },
   {
    "duration": 16,
    "start_time": "2023-04-28T21:03:41.622Z"
   },
   {
    "duration": 18,
    "start_time": "2023-04-28T21:03:41.640Z"
   },
   {
    "duration": 17,
    "start_time": "2023-04-28T21:03:41.660Z"
   },
   {
    "duration": 14,
    "start_time": "2023-04-28T21:03:41.678Z"
   },
   {
    "duration": 9,
    "start_time": "2023-04-28T21:03:41.694Z"
   },
   {
    "duration": 9,
    "start_time": "2023-04-28T21:03:41.704Z"
   },
   {
    "duration": 18,
    "start_time": "2023-04-28T21:03:41.717Z"
   },
   {
    "duration": 13,
    "start_time": "2023-04-28T21:03:41.736Z"
   },
   {
    "duration": 7,
    "start_time": "2023-04-28T21:03:41.750Z"
   },
   {
    "duration": 12,
    "start_time": "2023-04-28T21:03:41.758Z"
   },
   {
    "duration": 10,
    "start_time": "2023-04-28T21:03:41.772Z"
   },
   {
    "duration": 76,
    "start_time": "2023-04-28T21:03:41.783Z"
   },
   {
    "duration": 13,
    "start_time": "2023-04-28T21:03:41.862Z"
   },
   {
    "duration": 574,
    "start_time": "2023-04-28T21:03:41.877Z"
   },
   {
    "duration": 199,
    "start_time": "2023-04-28T21:03:42.452Z"
   },
   {
    "duration": 297,
    "start_time": "2023-04-28T21:03:42.652Z"
   },
   {
    "duration": 241,
    "start_time": "2023-04-28T21:03:42.951Z"
   },
   {
    "duration": 355,
    "start_time": "2023-04-28T21:03:43.194Z"
   },
   {
    "duration": 149,
    "start_time": "2023-04-28T21:03:43.550Z"
   },
   {
    "duration": 6,
    "start_time": "2023-04-28T21:03:43.701Z"
   },
   {
    "duration": 174,
    "start_time": "2023-04-28T21:03:43.709Z"
   },
   {
    "duration": 6,
    "start_time": "2023-04-28T21:03:43.885Z"
   },
   {
    "duration": 529,
    "start_time": "2023-04-28T21:03:43.892Z"
   },
   {
    "duration": 439,
    "start_time": "2023-04-28T21:03:44.423Z"
   },
   {
    "duration": 7,
    "start_time": "2023-04-28T21:03:44.864Z"
   },
   {
    "duration": 35,
    "start_time": "2023-04-28T21:03:44.873Z"
   },
   {
    "duration": 12,
    "start_time": "2023-04-28T21:03:44.909Z"
   },
   {
    "duration": 5,
    "start_time": "2023-04-28T21:06:22.351Z"
   },
   {
    "duration": 3,
    "start_time": "2023-04-28T21:08:30.531Z"
   },
   {
    "duration": 4,
    "start_time": "2023-04-28T21:09:37.786Z"
   },
   {
    "duration": 1023,
    "start_time": "2023-04-28T21:10:25.483Z"
   },
   {
    "duration": 77,
    "start_time": "2023-04-28T21:10:26.508Z"
   },
   {
    "duration": 11,
    "start_time": "2023-04-28T21:10:26.587Z"
   },
   {
    "duration": 17,
    "start_time": "2023-04-28T21:10:26.600Z"
   },
   {
    "duration": 10,
    "start_time": "2023-04-28T21:10:26.620Z"
   },
   {
    "duration": 9,
    "start_time": "2023-04-28T21:10:26.632Z"
   },
   {
    "duration": 6,
    "start_time": "2023-04-28T21:10:26.643Z"
   },
   {
    "duration": 28,
    "start_time": "2023-04-28T21:10:26.651Z"
   },
   {
    "duration": 23,
    "start_time": "2023-04-28T21:10:26.681Z"
   },
   {
    "duration": 18,
    "start_time": "2023-04-28T21:10:26.706Z"
   },
   {
    "duration": 28,
    "start_time": "2023-04-28T21:10:26.726Z"
   },
   {
    "duration": 17,
    "start_time": "2023-04-28T21:10:26.756Z"
   },
   {
    "duration": 17,
    "start_time": "2023-04-28T21:10:26.775Z"
   },
   {
    "duration": 21,
    "start_time": "2023-04-28T21:10:26.796Z"
   },
   {
    "duration": 15,
    "start_time": "2023-04-28T21:10:26.819Z"
   },
   {
    "duration": 18,
    "start_time": "2023-04-28T21:10:26.836Z"
   },
   {
    "duration": 9,
    "start_time": "2023-04-28T21:10:26.856Z"
   },
   {
    "duration": 12,
    "start_time": "2023-04-28T21:10:26.867Z"
   },
   {
    "duration": 9,
    "start_time": "2023-04-28T21:10:26.881Z"
   },
   {
    "duration": 55,
    "start_time": "2023-04-28T21:10:26.892Z"
   },
   {
    "duration": 12,
    "start_time": "2023-04-28T21:10:26.949Z"
   },
   {
    "duration": 618,
    "start_time": "2023-04-28T21:10:26.963Z"
   },
   {
    "duration": 212,
    "start_time": "2023-04-28T21:10:27.582Z"
   },
   {
    "duration": 315,
    "start_time": "2023-04-28T21:10:27.796Z"
   },
   {
    "duration": 233,
    "start_time": "2023-04-28T21:10:28.113Z"
   },
   {
    "duration": 321,
    "start_time": "2023-04-28T21:10:28.347Z"
   },
   {
    "duration": 148,
    "start_time": "2023-04-28T21:10:28.670Z"
   },
   {
    "duration": 14,
    "start_time": "2023-04-28T21:10:28.820Z"
   },
   {
    "duration": 147,
    "start_time": "2023-04-28T21:10:28.835Z"
   },
   {
    "duration": 5,
    "start_time": "2023-04-28T21:10:28.984Z"
   },
   {
    "duration": 515,
    "start_time": "2023-04-28T21:10:28.990Z"
   },
   {
    "duration": 428,
    "start_time": "2023-04-28T21:10:29.507Z"
   },
   {
    "duration": 6,
    "start_time": "2023-04-28T21:10:29.937Z"
   },
   {
    "duration": 34,
    "start_time": "2023-04-28T21:10:29.945Z"
   },
   {
    "duration": 11,
    "start_time": "2023-04-28T21:10:29.981Z"
   },
   {
    "duration": 9,
    "start_time": "2023-04-28T21:13:06.289Z"
   },
   {
    "duration": 19,
    "start_time": "2023-04-28T21:14:29.662Z"
   },
   {
    "duration": 13,
    "start_time": "2023-04-28T21:15:59.843Z"
   },
   {
    "duration": 28,
    "start_time": "2023-04-28T21:16:21.839Z"
   },
   {
    "duration": 13,
    "start_time": "2023-04-28T21:16:40.052Z"
   },
   {
    "duration": 88,
    "start_time": "2023-04-28T21:16:54.623Z"
   },
   {
    "duration": 17,
    "start_time": "2023-04-28T21:17:26.915Z"
   },
   {
    "duration": 10,
    "start_time": "2023-04-28T21:17:45.560Z"
   },
   {
    "duration": 13,
    "start_time": "2023-04-28T21:17:51.050Z"
   },
   {
    "duration": 16,
    "start_time": "2023-04-28T21:19:02.857Z"
   },
   {
    "duration": 13,
    "start_time": "2023-04-28T21:19:14.730Z"
   },
   {
    "duration": 13,
    "start_time": "2023-04-28T21:20:08.987Z"
   },
   {
    "duration": 13,
    "start_time": "2023-04-28T21:20:53.450Z"
   },
   {
    "duration": 12,
    "start_time": "2023-04-28T21:21:00.423Z"
   },
   {
    "duration": 18,
    "start_time": "2023-04-28T21:22:34.041Z"
   },
   {
    "duration": 17,
    "start_time": "2023-04-28T21:24:46.547Z"
   },
   {
    "duration": 1092,
    "start_time": "2023-04-28T21:25:18.465Z"
   },
   {
    "duration": 78,
    "start_time": "2023-04-28T21:25:19.559Z"
   },
   {
    "duration": 13,
    "start_time": "2023-04-28T21:25:19.639Z"
   },
   {
    "duration": 17,
    "start_time": "2023-04-28T21:25:19.653Z"
   },
   {
    "duration": 22,
    "start_time": "2023-04-28T21:25:19.673Z"
   },
   {
    "duration": 5,
    "start_time": "2023-04-28T21:25:19.698Z"
   },
   {
    "duration": 16,
    "start_time": "2023-04-28T21:25:19.705Z"
   },
   {
    "duration": 19,
    "start_time": "2023-04-28T21:25:19.722Z"
   },
   {
    "duration": 17,
    "start_time": "2023-04-28T21:25:19.742Z"
   },
   {
    "duration": 7,
    "start_time": "2023-04-28T21:25:19.760Z"
   },
   {
    "duration": 15,
    "start_time": "2023-04-28T21:25:19.768Z"
   },
   {
    "duration": 9,
    "start_time": "2023-04-28T21:25:19.785Z"
   },
   {
    "duration": 9,
    "start_time": "2023-04-28T21:25:19.796Z"
   },
   {
    "duration": 28,
    "start_time": "2023-04-28T21:25:19.807Z"
   },
   {
    "duration": 4,
    "start_time": "2023-04-28T21:25:19.837Z"
   },
   {
    "duration": 15,
    "start_time": "2023-04-28T21:25:19.843Z"
   },
   {
    "duration": 9,
    "start_time": "2023-04-28T21:25:19.859Z"
   },
   {
    "duration": 13,
    "start_time": "2023-04-28T21:25:19.870Z"
   },
   {
    "duration": 16,
    "start_time": "2023-04-28T21:25:19.884Z"
   },
   {
    "duration": 109,
    "start_time": "2023-04-28T21:25:19.901Z"
   },
   {
    "duration": 0,
    "start_time": "2023-04-28T21:25:20.011Z"
   },
   {
    "duration": 0,
    "start_time": "2023-04-28T21:25:20.013Z"
   },
   {
    "duration": 0,
    "start_time": "2023-04-28T21:25:20.014Z"
   },
   {
    "duration": 0,
    "start_time": "2023-04-28T21:25:20.015Z"
   },
   {
    "duration": 0,
    "start_time": "2023-04-28T21:25:20.015Z"
   },
   {
    "duration": 0,
    "start_time": "2023-04-28T21:25:20.016Z"
   },
   {
    "duration": 0,
    "start_time": "2023-04-28T21:25:20.017Z"
   },
   {
    "duration": 0,
    "start_time": "2023-04-28T21:25:20.019Z"
   },
   {
    "duration": 0,
    "start_time": "2023-04-28T21:25:20.034Z"
   },
   {
    "duration": 0,
    "start_time": "2023-04-28T21:25:20.036Z"
   },
   {
    "duration": 0,
    "start_time": "2023-04-28T21:25:20.037Z"
   },
   {
    "duration": 0,
    "start_time": "2023-04-28T21:25:20.040Z"
   },
   {
    "duration": 0,
    "start_time": "2023-04-28T21:25:20.041Z"
   },
   {
    "duration": 0,
    "start_time": "2023-04-28T21:25:20.044Z"
   },
   {
    "duration": 0,
    "start_time": "2023-04-28T21:25:20.045Z"
   },
   {
    "duration": 0,
    "start_time": "2023-04-28T21:25:20.046Z"
   },
   {
    "duration": 9,
    "start_time": "2023-04-28T21:25:44.728Z"
   },
   {
    "duration": 55,
    "start_time": "2023-04-28T21:25:49.620Z"
   },
   {
    "duration": 18,
    "start_time": "2023-04-28T21:25:51.830Z"
   },
   {
    "duration": 22,
    "start_time": "2023-04-28T21:26:06.568Z"
   },
   {
    "duration": 12,
    "start_time": "2023-04-28T21:26:31.227Z"
   },
   {
    "duration": 18,
    "start_time": "2023-04-28T21:27:12.448Z"
   },
   {
    "duration": 23,
    "start_time": "2023-04-28T21:27:45.119Z"
   },
   {
    "duration": 13,
    "start_time": "2023-04-28T21:28:29.248Z"
   },
   {
    "duration": 4,
    "start_time": "2023-04-28T21:29:37.746Z"
   },
   {
    "duration": 12,
    "start_time": "2023-04-28T21:29:49.582Z"
   },
   {
    "duration": 12,
    "start_time": "2023-04-28T21:30:05.949Z"
   },
   {
    "duration": 12,
    "start_time": "2023-04-28T21:32:30.441Z"
   },
   {
    "duration": 3,
    "start_time": "2023-04-28T21:34:18.607Z"
   },
   {
    "duration": 9,
    "start_time": "2023-04-28T21:34:41.160Z"
   },
   {
    "duration": 11,
    "start_time": "2023-04-28T21:34:51.745Z"
   },
   {
    "duration": 14,
    "start_time": "2023-04-28T21:35:10.055Z"
   },
   {
    "duration": 74,
    "start_time": "2023-04-28T21:36:21.452Z"
   },
   {
    "duration": 17,
    "start_time": "2023-04-28T21:36:32.435Z"
   },
   {
    "duration": 4,
    "start_time": "2023-04-28T21:36:52.067Z"
   },
   {
    "duration": 14,
    "start_time": "2023-04-28T21:37:12.178Z"
   },
   {
    "duration": 15,
    "start_time": "2023-04-28T21:38:12.472Z"
   },
   {
    "duration": 8,
    "start_time": "2023-04-28T21:38:27.862Z"
   },
   {
    "duration": 19,
    "start_time": "2023-04-28T21:43:34.980Z"
   },
   {
    "duration": 16,
    "start_time": "2023-04-28T21:43:45.488Z"
   },
   {
    "duration": 10,
    "start_time": "2023-04-28T21:44:13.610Z"
   },
   {
    "duration": 15,
    "start_time": "2023-04-28T21:44:47.275Z"
   },
   {
    "duration": 14,
    "start_time": "2023-04-28T21:45:02.631Z"
   },
   {
    "duration": 75,
    "start_time": "2023-04-28T21:45:23.589Z"
   },
   {
    "duration": 15,
    "start_time": "2023-04-28T21:45:34.719Z"
   },
   {
    "duration": 16,
    "start_time": "2023-04-28T21:45:48.854Z"
   },
   {
    "duration": 13,
    "start_time": "2023-04-28T21:46:05.145Z"
   },
   {
    "duration": 12,
    "start_time": "2023-04-28T21:46:22.129Z"
   },
   {
    "duration": 9,
    "start_time": "2023-04-28T21:46:43.595Z"
   },
   {
    "duration": 12,
    "start_time": "2023-04-28T21:47:11.384Z"
   },
   {
    "duration": 10,
    "start_time": "2023-04-28T21:47:20.263Z"
   },
   {
    "duration": 17,
    "start_time": "2023-04-28T21:47:46.713Z"
   },
   {
    "duration": 1057,
    "start_time": "2023-04-28T21:48:16.042Z"
   },
   {
    "duration": 77,
    "start_time": "2023-04-28T21:48:17.101Z"
   },
   {
    "duration": 12,
    "start_time": "2023-04-28T21:48:17.179Z"
   },
   {
    "duration": 23,
    "start_time": "2023-04-28T21:48:17.193Z"
   },
   {
    "duration": 30,
    "start_time": "2023-04-28T21:48:17.218Z"
   },
   {
    "duration": 8,
    "start_time": "2023-04-28T21:48:17.249Z"
   },
   {
    "duration": 21,
    "start_time": "2023-04-28T21:48:17.258Z"
   },
   {
    "duration": 25,
    "start_time": "2023-04-28T21:48:17.280Z"
   },
   {
    "duration": 36,
    "start_time": "2023-04-28T21:48:17.306Z"
   },
   {
    "duration": 13,
    "start_time": "2023-04-28T21:48:17.345Z"
   },
   {
    "duration": 10,
    "start_time": "2023-04-28T21:48:17.360Z"
   },
   {
    "duration": 10,
    "start_time": "2023-04-28T21:48:17.371Z"
   },
   {
    "duration": 10,
    "start_time": "2023-04-28T21:48:17.382Z"
   },
   {
    "duration": 13,
    "start_time": "2023-04-28T21:48:17.394Z"
   },
   {
    "duration": 6,
    "start_time": "2023-04-28T21:48:17.409Z"
   },
   {
    "duration": 9,
    "start_time": "2023-04-28T21:48:17.417Z"
   },
   {
    "duration": 9,
    "start_time": "2023-04-28T21:48:17.428Z"
   },
   {
    "duration": 6,
    "start_time": "2023-04-28T21:48:17.439Z"
   },
   {
    "duration": 7,
    "start_time": "2023-04-28T21:48:17.446Z"
   },
   {
    "duration": 10,
    "start_time": "2023-04-28T21:48:17.454Z"
   },
   {
    "duration": 48,
    "start_time": "2023-04-28T21:48:17.465Z"
   },
   {
    "duration": 27,
    "start_time": "2023-04-28T21:48:17.514Z"
   },
   {
    "duration": 564,
    "start_time": "2023-04-28T21:48:17.543Z"
   },
   {
    "duration": 198,
    "start_time": "2023-04-28T21:48:18.109Z"
   },
   {
    "duration": 348,
    "start_time": "2023-04-28T21:48:18.309Z"
   },
   {
    "duration": 229,
    "start_time": "2023-04-28T21:48:18.658Z"
   },
   {
    "duration": 313,
    "start_time": "2023-04-28T21:48:18.888Z"
   },
   {
    "duration": 145,
    "start_time": "2023-04-28T21:48:19.204Z"
   },
   {
    "duration": 6,
    "start_time": "2023-04-28T21:48:19.351Z"
   },
   {
    "duration": 175,
    "start_time": "2023-04-28T21:48:19.358Z"
   },
   {
    "duration": 6,
    "start_time": "2023-04-28T21:48:19.535Z"
   },
   {
    "duration": 541,
    "start_time": "2023-04-28T21:48:19.543Z"
   },
   {
    "duration": 440,
    "start_time": "2023-04-28T21:48:20.086Z"
   },
   {
    "duration": 10,
    "start_time": "2023-04-28T21:48:20.528Z"
   },
   {
    "duration": 32,
    "start_time": "2023-04-28T21:48:20.540Z"
   },
   {
    "duration": 12,
    "start_time": "2023-04-28T21:48:20.574Z"
   },
   {
    "duration": 1045,
    "start_time": "2023-04-28T21:50:21.404Z"
   },
   {
    "duration": 77,
    "start_time": "2023-04-28T21:50:22.451Z"
   },
   {
    "duration": 11,
    "start_time": "2023-04-28T21:50:22.529Z"
   },
   {
    "duration": 10,
    "start_time": "2023-04-28T21:50:22.542Z"
   },
   {
    "duration": 10,
    "start_time": "2023-04-28T21:50:22.554Z"
   },
   {
    "duration": 6,
    "start_time": "2023-04-28T21:50:22.565Z"
   },
   {
    "duration": 19,
    "start_time": "2023-04-28T21:50:22.572Z"
   },
   {
    "duration": 15,
    "start_time": "2023-04-28T21:50:22.593Z"
   },
   {
    "duration": 13,
    "start_time": "2023-04-28T21:50:22.610Z"
   },
   {
    "duration": 15,
    "start_time": "2023-04-28T21:50:22.625Z"
   },
   {
    "duration": 19,
    "start_time": "2023-04-28T21:50:22.642Z"
   },
   {
    "duration": 6,
    "start_time": "2023-04-28T21:50:22.663Z"
   },
   {
    "duration": 7,
    "start_time": "2023-04-28T21:50:22.670Z"
   },
   {
    "duration": 12,
    "start_time": "2023-04-28T21:50:22.680Z"
   },
   {
    "duration": 4,
    "start_time": "2023-04-28T21:50:22.693Z"
   },
   {
    "duration": 10,
    "start_time": "2023-04-28T21:50:22.698Z"
   },
   {
    "duration": 24,
    "start_time": "2023-04-28T21:50:22.710Z"
   },
   {
    "duration": 10,
    "start_time": "2023-04-28T21:50:22.736Z"
   },
   {
    "duration": 5,
    "start_time": "2023-04-28T21:50:22.747Z"
   },
   {
    "duration": 14,
    "start_time": "2023-04-28T21:50:22.754Z"
   },
   {
    "duration": 50,
    "start_time": "2023-04-28T21:50:22.770Z"
   },
   {
    "duration": 21,
    "start_time": "2023-04-28T21:50:22.821Z"
   },
   {
    "duration": 542,
    "start_time": "2023-04-28T21:50:22.843Z"
   },
   {
    "duration": 212,
    "start_time": "2023-04-28T21:50:23.387Z"
   },
   {
    "duration": 342,
    "start_time": "2023-04-28T21:50:23.601Z"
   },
   {
    "duration": 233,
    "start_time": "2023-04-28T21:50:23.945Z"
   },
   {
    "duration": 310,
    "start_time": "2023-04-28T21:50:24.180Z"
   },
   {
    "duration": 146,
    "start_time": "2023-04-28T21:50:24.493Z"
   },
   {
    "duration": 5,
    "start_time": "2023-04-28T21:50:24.641Z"
   },
   {
    "duration": 179,
    "start_time": "2023-04-28T21:50:24.648Z"
   },
   {
    "duration": 9,
    "start_time": "2023-04-28T21:50:24.828Z"
   },
   {
    "duration": 642,
    "start_time": "2023-04-28T21:50:24.839Z"
   },
   {
    "duration": 506,
    "start_time": "2023-04-28T21:50:25.483Z"
   },
   {
    "duration": 8,
    "start_time": "2023-04-28T21:50:25.991Z"
   },
   {
    "duration": 56,
    "start_time": "2023-04-28T21:50:26.001Z"
   },
   {
    "duration": 17,
    "start_time": "2023-04-28T21:50:26.059Z"
   },
   {
    "duration": 160,
    "start_time": "2023-04-28T21:55:23.459Z"
   },
   {
    "duration": 238,
    "start_time": "2023-04-28T21:55:39.759Z"
   },
   {
    "duration": 250,
    "start_time": "2023-04-28T21:55:58.941Z"
   },
   {
    "duration": 237,
    "start_time": "2023-04-28T21:56:17.902Z"
   },
   {
    "duration": 167,
    "start_time": "2023-04-28T21:56:37.490Z"
   },
   {
    "duration": 154,
    "start_time": "2023-04-28T21:56:46.271Z"
   },
   {
    "duration": 172,
    "start_time": "2023-04-28T21:57:06.104Z"
   },
   {
    "duration": 149,
    "start_time": "2023-04-28T21:57:30.774Z"
   },
   {
    "duration": 5,
    "start_time": "2023-04-28T21:59:29.940Z"
   },
   {
    "duration": 6,
    "start_time": "2023-04-28T22:00:14.430Z"
   },
   {
    "duration": 6,
    "start_time": "2023-04-28T22:01:20.669Z"
   },
   {
    "duration": 102,
    "start_time": "2023-04-28T22:01:47.776Z"
   },
   {
    "duration": 5,
    "start_time": "2023-04-28T22:02:38.684Z"
   },
   {
    "duration": 9,
    "start_time": "2023-04-28T22:02:45.635Z"
   },
   {
    "duration": 7,
    "start_time": "2023-04-28T22:03:06.004Z"
   },
   {
    "duration": 26,
    "start_time": "2023-04-28T22:03:10.809Z"
   },
   {
    "duration": 5,
    "start_time": "2023-04-28T22:03:32.774Z"
   },
   {
    "duration": 5,
    "start_time": "2023-04-28T22:03:40.417Z"
   },
   {
    "duration": 1028,
    "start_time": "2023-04-28T22:04:05.191Z"
   },
   {
    "duration": 78,
    "start_time": "2023-04-28T22:04:06.221Z"
   },
   {
    "duration": 10,
    "start_time": "2023-04-28T22:04:06.301Z"
   },
   {
    "duration": 12,
    "start_time": "2023-04-28T22:04:06.313Z"
   },
   {
    "duration": 12,
    "start_time": "2023-04-28T22:04:06.327Z"
   },
   {
    "duration": 11,
    "start_time": "2023-04-28T22:04:06.340Z"
   },
   {
    "duration": 11,
    "start_time": "2023-04-28T22:04:06.353Z"
   },
   {
    "duration": 10,
    "start_time": "2023-04-28T22:04:06.365Z"
   },
   {
    "duration": 15,
    "start_time": "2023-04-28T22:04:06.377Z"
   },
   {
    "duration": 9,
    "start_time": "2023-04-28T22:04:06.394Z"
   },
   {
    "duration": 9,
    "start_time": "2023-04-28T22:04:06.404Z"
   },
   {
    "duration": 17,
    "start_time": "2023-04-28T22:04:06.415Z"
   },
   {
    "duration": 16,
    "start_time": "2023-04-28T22:04:06.434Z"
   },
   {
    "duration": 12,
    "start_time": "2023-04-28T22:04:06.453Z"
   },
   {
    "duration": 5,
    "start_time": "2023-04-28T22:04:06.466Z"
   },
   {
    "duration": 15,
    "start_time": "2023-04-28T22:04:06.472Z"
   },
   {
    "duration": 12,
    "start_time": "2023-04-28T22:04:06.489Z"
   },
   {
    "duration": 10,
    "start_time": "2023-04-28T22:04:06.502Z"
   },
   {
    "duration": 13,
    "start_time": "2023-04-28T22:04:06.514Z"
   },
   {
    "duration": 12,
    "start_time": "2023-04-28T22:04:06.529Z"
   },
   {
    "duration": 62,
    "start_time": "2023-04-28T22:04:06.542Z"
   },
   {
    "duration": 16,
    "start_time": "2023-04-28T22:04:06.606Z"
   },
   {
    "duration": 580,
    "start_time": "2023-04-28T22:04:06.624Z"
   },
   {
    "duration": 208,
    "start_time": "2023-04-28T22:04:07.206Z"
   },
   {
    "duration": 321,
    "start_time": "2023-04-28T22:04:07.416Z"
   },
   {
    "duration": 221,
    "start_time": "2023-04-28T22:04:07.738Z"
   },
   {
    "duration": 329,
    "start_time": "2023-04-28T22:04:07.961Z"
   },
   {
    "duration": 145,
    "start_time": "2023-04-28T22:04:08.292Z"
   },
   {
    "duration": 4,
    "start_time": "2023-04-28T22:04:08.439Z"
   },
   {
    "duration": 156,
    "start_time": "2023-04-28T22:04:08.445Z"
   },
   {
    "duration": 215,
    "start_time": "2023-04-28T22:04:08.602Z"
   },
   {
    "duration": 99,
    "start_time": "2023-04-28T22:04:08.819Z"
   },
   {
    "duration": 0,
    "start_time": "2023-04-28T22:04:08.920Z"
   },
   {
    "duration": 0,
    "start_time": "2023-04-28T22:04:08.921Z"
   },
   {
    "duration": 0,
    "start_time": "2023-04-28T22:04:08.922Z"
   },
   {
    "duration": 0,
    "start_time": "2023-04-28T22:04:08.923Z"
   },
   {
    "duration": 0,
    "start_time": "2023-04-28T22:04:08.925Z"
   },
   {
    "duration": 5,
    "start_time": "2023-04-28T22:04:30.757Z"
   },
   {
    "duration": 1042,
    "start_time": "2023-04-28T22:04:37.915Z"
   },
   {
    "duration": 76,
    "start_time": "2023-04-28T22:04:38.959Z"
   },
   {
    "duration": 13,
    "start_time": "2023-04-28T22:04:39.037Z"
   },
   {
    "duration": 9,
    "start_time": "2023-04-28T22:04:39.051Z"
   },
   {
    "duration": 9,
    "start_time": "2023-04-28T22:04:39.063Z"
   },
   {
    "duration": 6,
    "start_time": "2023-04-28T22:04:39.073Z"
   },
   {
    "duration": 9,
    "start_time": "2023-04-28T22:04:39.080Z"
   },
   {
    "duration": 9,
    "start_time": "2023-04-28T22:04:39.090Z"
   },
   {
    "duration": 36,
    "start_time": "2023-04-28T22:04:39.101Z"
   },
   {
    "duration": 4,
    "start_time": "2023-04-28T22:04:39.139Z"
   },
   {
    "duration": 12,
    "start_time": "2023-04-28T22:04:39.145Z"
   },
   {
    "duration": 7,
    "start_time": "2023-04-28T22:04:39.158Z"
   },
   {
    "duration": 7,
    "start_time": "2023-04-28T22:04:39.166Z"
   },
   {
    "duration": 9,
    "start_time": "2023-04-28T22:04:39.175Z"
   },
   {
    "duration": 4,
    "start_time": "2023-04-28T22:04:39.186Z"
   },
   {
    "duration": 9,
    "start_time": "2023-04-28T22:04:39.192Z"
   },
   {
    "duration": 31,
    "start_time": "2023-04-28T22:04:39.203Z"
   },
   {
    "duration": 7,
    "start_time": "2023-04-28T22:04:39.235Z"
   },
   {
    "duration": 15,
    "start_time": "2023-04-28T22:04:39.243Z"
   },
   {
    "duration": 11,
    "start_time": "2023-04-28T22:04:39.260Z"
   },
   {
    "duration": 47,
    "start_time": "2023-04-28T22:04:39.273Z"
   },
   {
    "duration": 21,
    "start_time": "2023-04-28T22:04:39.321Z"
   },
   {
    "duration": 520,
    "start_time": "2023-04-28T22:04:39.343Z"
   },
   {
    "duration": 198,
    "start_time": "2023-04-28T22:04:39.865Z"
   },
   {
    "duration": 281,
    "start_time": "2023-04-28T22:04:40.065Z"
   },
   {
    "duration": 213,
    "start_time": "2023-04-28T22:04:40.348Z"
   },
   {
    "duration": 307,
    "start_time": "2023-04-28T22:04:40.563Z"
   },
   {
    "duration": 145,
    "start_time": "2023-04-28T22:04:40.872Z"
   },
   {
    "duration": 5,
    "start_time": "2023-04-28T22:04:41.018Z"
   },
   {
    "duration": 144,
    "start_time": "2023-04-28T22:04:41.033Z"
   },
   {
    "duration": 212,
    "start_time": "2023-04-28T22:04:41.178Z"
   },
   {
    "duration": 5,
    "start_time": "2023-04-28T22:04:41.392Z"
   },
   {
    "duration": 442,
    "start_time": "2023-04-28T22:04:41.398Z"
   },
   {
    "duration": 436,
    "start_time": "2023-04-28T22:04:41.841Z"
   },
   {
    "duration": 8,
    "start_time": "2023-04-28T22:04:42.278Z"
   },
   {
    "duration": 27,
    "start_time": "2023-04-28T22:04:42.287Z"
   },
   {
    "duration": 20,
    "start_time": "2023-04-28T22:04:42.315Z"
   },
   {
    "duration": 3,
    "start_time": "2023-04-28T22:11:47.093Z"
   },
   {
    "duration": 417,
    "start_time": "2023-04-28T22:12:38.643Z"
   },
   {
    "duration": 502,
    "start_time": "2023-04-28T22:12:51.709Z"
   },
   {
    "duration": 89,
    "start_time": "2023-04-28T22:13:10.560Z"
   },
   {
    "duration": 444,
    "start_time": "2023-04-28T22:15:12.315Z"
   },
   {
    "duration": 14,
    "start_time": "2023-04-28T22:16:12.069Z"
   },
   {
    "duration": 971,
    "start_time": "2023-04-28T22:16:20.483Z"
   },
   {
    "duration": 80,
    "start_time": "2023-04-28T22:16:21.456Z"
   },
   {
    "duration": 11,
    "start_time": "2023-04-28T22:16:21.538Z"
   },
   {
    "duration": 10,
    "start_time": "2023-04-28T22:16:21.550Z"
   },
   {
    "duration": 11,
    "start_time": "2023-04-28T22:16:21.562Z"
   },
   {
    "duration": 4,
    "start_time": "2023-04-28T22:16:21.574Z"
   },
   {
    "duration": 4,
    "start_time": "2023-04-28T22:16:21.580Z"
   },
   {
    "duration": 13,
    "start_time": "2023-04-28T22:16:21.585Z"
   },
   {
    "duration": 44,
    "start_time": "2023-04-28T22:16:21.600Z"
   },
   {
    "duration": 21,
    "start_time": "2023-04-28T22:16:21.646Z"
   },
   {
    "duration": 31,
    "start_time": "2023-04-28T22:16:21.668Z"
   },
   {
    "duration": 15,
    "start_time": "2023-04-28T22:16:21.701Z"
   },
   {
    "duration": 14,
    "start_time": "2023-04-28T22:16:21.717Z"
   },
   {
    "duration": 20,
    "start_time": "2023-04-28T22:16:21.733Z"
   },
   {
    "duration": 11,
    "start_time": "2023-04-28T22:16:21.755Z"
   },
   {
    "duration": 24,
    "start_time": "2023-04-28T22:16:21.767Z"
   },
   {
    "duration": 8,
    "start_time": "2023-04-28T22:16:21.793Z"
   },
   {
    "duration": 11,
    "start_time": "2023-04-28T22:16:21.803Z"
   },
   {
    "duration": 11,
    "start_time": "2023-04-28T22:16:21.815Z"
   },
   {
    "duration": 12,
    "start_time": "2023-04-28T22:16:21.828Z"
   },
   {
    "duration": 46,
    "start_time": "2023-04-28T22:16:21.842Z"
   },
   {
    "duration": 13,
    "start_time": "2023-04-28T22:16:21.889Z"
   },
   {
    "duration": 550,
    "start_time": "2023-04-28T22:16:21.903Z"
   },
   {
    "duration": 200,
    "start_time": "2023-04-28T22:16:22.455Z"
   },
   {
    "duration": 314,
    "start_time": "2023-04-28T22:16:22.657Z"
   },
   {
    "duration": 242,
    "start_time": "2023-04-28T22:16:22.973Z"
   },
   {
    "duration": 357,
    "start_time": "2023-04-28T22:16:23.217Z"
   },
   {
    "duration": 158,
    "start_time": "2023-04-28T22:16:23.576Z"
   },
   {
    "duration": 5,
    "start_time": "2023-04-28T22:16:23.736Z"
   },
   {
    "duration": 153,
    "start_time": "2023-04-28T22:16:23.743Z"
   },
   {
    "duration": 237,
    "start_time": "2023-04-28T22:16:23.898Z"
   },
   {
    "duration": 5,
    "start_time": "2023-04-28T22:16:24.137Z"
   },
   {
    "duration": 6,
    "start_time": "2023-04-28T22:16:24.143Z"
   },
   {
    "duration": 437,
    "start_time": "2023-04-28T22:16:24.151Z"
   },
   {
    "duration": 414,
    "start_time": "2023-04-28T22:16:24.590Z"
   },
   {
    "duration": 7,
    "start_time": "2023-04-28T22:16:25.006Z"
   },
   {
    "duration": 41,
    "start_time": "2023-04-28T22:16:25.014Z"
   },
   {
    "duration": 14,
    "start_time": "2023-04-28T22:16:25.057Z"
   },
   {
    "duration": 318,
    "start_time": "2023-04-28T22:19:59.445Z"
   },
   {
    "duration": 7,
    "start_time": "2023-04-28T22:24:14.211Z"
   },
   {
    "duration": 26,
    "start_time": "2023-04-28T22:24:17.449Z"
   },
   {
    "duration": 1053,
    "start_time": "2023-04-28T22:25:52.708Z"
   },
   {
    "duration": 79,
    "start_time": "2023-04-28T22:25:53.763Z"
   },
   {
    "duration": 12,
    "start_time": "2023-04-28T22:25:53.843Z"
   },
   {
    "duration": 26,
    "start_time": "2023-04-28T22:25:53.857Z"
   },
   {
    "duration": 25,
    "start_time": "2023-04-28T22:25:53.885Z"
   },
   {
    "duration": 24,
    "start_time": "2023-04-28T22:25:53.912Z"
   },
   {
    "duration": 14,
    "start_time": "2023-04-28T22:25:53.938Z"
   },
   {
    "duration": 28,
    "start_time": "2023-04-28T22:25:53.953Z"
   },
   {
    "duration": 26,
    "start_time": "2023-04-28T22:25:53.983Z"
   },
   {
    "duration": 18,
    "start_time": "2023-04-28T22:25:54.011Z"
   },
   {
    "duration": 37,
    "start_time": "2023-04-28T22:25:54.032Z"
   },
   {
    "duration": 14,
    "start_time": "2023-04-28T22:25:54.071Z"
   },
   {
    "duration": 22,
    "start_time": "2023-04-28T22:25:54.086Z"
   },
   {
    "duration": 14,
    "start_time": "2023-04-28T22:25:54.111Z"
   },
   {
    "duration": 17,
    "start_time": "2023-04-28T22:25:54.126Z"
   },
   {
    "duration": 14,
    "start_time": "2023-04-28T22:25:54.145Z"
   },
   {
    "duration": 19,
    "start_time": "2023-04-28T22:25:54.160Z"
   },
   {
    "duration": 18,
    "start_time": "2023-04-28T22:25:54.180Z"
   },
   {
    "duration": 21,
    "start_time": "2023-04-28T22:25:54.199Z"
   },
   {
    "duration": 17,
    "start_time": "2023-04-28T22:25:54.221Z"
   },
   {
    "duration": 52,
    "start_time": "2023-04-28T22:25:54.239Z"
   },
   {
    "duration": 11,
    "start_time": "2023-04-28T22:25:54.292Z"
   },
   {
    "duration": 553,
    "start_time": "2023-04-28T22:25:54.305Z"
   },
   {
    "duration": 242,
    "start_time": "2023-04-28T22:25:54.860Z"
   },
   {
    "duration": 350,
    "start_time": "2023-04-28T22:25:55.104Z"
   },
   {
    "duration": 246,
    "start_time": "2023-04-28T22:25:55.456Z"
   },
   {
    "duration": 373,
    "start_time": "2023-04-28T22:25:55.704Z"
   },
   {
    "duration": 164,
    "start_time": "2023-04-28T22:25:56.079Z"
   },
   {
    "duration": 5,
    "start_time": "2023-04-28T22:25:56.245Z"
   },
   {
    "duration": 172,
    "start_time": "2023-04-28T22:25:56.252Z"
   },
   {
    "duration": 274,
    "start_time": "2023-04-28T22:25:56.425Z"
   },
   {
    "duration": 7,
    "start_time": "2023-04-28T22:25:56.701Z"
   },
   {
    "duration": 20,
    "start_time": "2023-04-28T22:25:56.710Z"
   },
   {
    "duration": 469,
    "start_time": "2023-04-28T22:25:56.732Z"
   },
   {
    "duration": 442,
    "start_time": "2023-04-28T22:25:57.203Z"
   },
   {
    "duration": 8,
    "start_time": "2023-04-28T22:25:57.646Z"
   },
   {
    "duration": 40,
    "start_time": "2023-04-28T22:25:57.656Z"
   },
   {
    "duration": 14,
    "start_time": "2023-04-28T22:25:57.697Z"
   },
   {
    "duration": 1222,
    "start_time": "2023-04-29T05:54:11.514Z"
   },
   {
    "duration": 192,
    "start_time": "2023-04-29T05:54:12.738Z"
   },
   {
    "duration": 13,
    "start_time": "2023-04-29T05:54:12.932Z"
   },
   {
    "duration": 65,
    "start_time": "2023-04-29T05:54:12.947Z"
   },
   {
    "duration": 26,
    "start_time": "2023-04-29T05:54:13.013Z"
   },
   {
    "duration": 26,
    "start_time": "2023-04-29T05:54:13.042Z"
   },
   {
    "duration": 25,
    "start_time": "2023-04-29T05:54:13.070Z"
   },
   {
    "duration": 28,
    "start_time": "2023-04-29T05:54:13.097Z"
   },
   {
    "duration": 32,
    "start_time": "2023-04-29T05:54:13.127Z"
   },
   {
    "duration": 32,
    "start_time": "2023-04-29T05:54:13.162Z"
   },
   {
    "duration": 32,
    "start_time": "2023-04-29T05:54:13.196Z"
   },
   {
    "duration": 21,
    "start_time": "2023-04-29T05:54:13.230Z"
   },
   {
    "duration": 34,
    "start_time": "2023-04-29T05:54:13.253Z"
   },
   {
    "duration": 40,
    "start_time": "2023-04-29T05:54:13.288Z"
   },
   {
    "duration": 41,
    "start_time": "2023-04-29T05:54:13.330Z"
   },
   {
    "duration": 33,
    "start_time": "2023-04-29T05:54:13.373Z"
   },
   {
    "duration": 18,
    "start_time": "2023-04-29T05:54:13.408Z"
   },
   {
    "duration": 32,
    "start_time": "2023-04-29T05:54:13.427Z"
   },
   {
    "duration": 15,
    "start_time": "2023-04-29T05:54:13.460Z"
   },
   {
    "duration": 23,
    "start_time": "2023-04-29T05:54:13.476Z"
   },
   {
    "duration": 61,
    "start_time": "2023-04-29T05:54:13.500Z"
   },
   {
    "duration": 12,
    "start_time": "2023-04-29T05:54:13.562Z"
   },
   {
    "duration": 541,
    "start_time": "2023-04-29T05:54:13.576Z"
   },
   {
    "duration": 209,
    "start_time": "2023-04-29T05:54:14.119Z"
   },
   {
    "duration": 314,
    "start_time": "2023-04-29T05:54:14.329Z"
   },
   {
    "duration": 234,
    "start_time": "2023-04-29T05:54:14.644Z"
   },
   {
    "duration": 335,
    "start_time": "2023-04-29T05:54:14.883Z"
   },
   {
    "duration": 157,
    "start_time": "2023-04-29T05:54:15.221Z"
   },
   {
    "duration": 4,
    "start_time": "2023-04-29T05:54:15.383Z"
   },
   {
    "duration": 184,
    "start_time": "2023-04-29T05:54:15.389Z"
   },
   {
    "duration": 228,
    "start_time": "2023-04-29T05:54:15.574Z"
   },
   {
    "duration": 6,
    "start_time": "2023-04-29T05:54:15.804Z"
   },
   {
    "duration": 7,
    "start_time": "2023-04-29T05:54:15.811Z"
   },
   {
    "duration": 453,
    "start_time": "2023-04-29T05:54:15.820Z"
   },
   {
    "duration": 436,
    "start_time": "2023-04-29T05:54:16.275Z"
   },
   {
    "duration": 8,
    "start_time": "2023-04-29T05:54:16.713Z"
   },
   {
    "duration": 29,
    "start_time": "2023-04-29T05:54:16.722Z"
   },
   {
    "duration": 12,
    "start_time": "2023-04-29T05:54:16.752Z"
   },
   {
    "duration": 1149,
    "start_time": "2023-04-29T22:26:28.357Z"
   },
   {
    "duration": 182,
    "start_time": "2023-04-29T22:26:29.508Z"
   },
   {
    "duration": 10,
    "start_time": "2023-04-29T22:26:29.691Z"
   },
   {
    "duration": 9,
    "start_time": "2023-04-29T22:26:29.702Z"
   },
   {
    "duration": 9,
    "start_time": "2023-04-29T22:26:29.713Z"
   },
   {
    "duration": 3,
    "start_time": "2023-04-29T22:26:29.723Z"
   },
   {
    "duration": 3,
    "start_time": "2023-04-29T22:26:29.728Z"
   },
   {
    "duration": 8,
    "start_time": "2023-04-29T22:26:29.732Z"
   },
   {
    "duration": 14,
    "start_time": "2023-04-29T22:26:29.742Z"
   },
   {
    "duration": 7,
    "start_time": "2023-04-29T22:26:29.758Z"
   },
   {
    "duration": 8,
    "start_time": "2023-04-29T22:26:29.767Z"
   },
   {
    "duration": 5,
    "start_time": "2023-04-29T22:26:29.776Z"
   },
   {
    "duration": 7,
    "start_time": "2023-04-29T22:26:29.782Z"
   },
   {
    "duration": 10,
    "start_time": "2023-04-29T22:26:29.791Z"
   },
   {
    "duration": 4,
    "start_time": "2023-04-29T22:26:29.802Z"
   },
   {
    "duration": 10,
    "start_time": "2023-04-29T22:26:29.808Z"
   },
   {
    "duration": 4,
    "start_time": "2023-04-29T22:26:29.820Z"
   },
   {
    "duration": 5,
    "start_time": "2023-04-29T22:26:29.826Z"
   },
   {
    "duration": 4,
    "start_time": "2023-04-29T22:26:29.832Z"
   },
   {
    "duration": 34,
    "start_time": "2023-04-29T22:26:29.838Z"
   },
   {
    "duration": 91,
    "start_time": "2023-04-29T22:26:29.874Z"
   },
   {
    "duration": 0,
    "start_time": "2023-04-29T22:26:29.972Z"
   },
   {
    "duration": 0,
    "start_time": "2023-04-29T22:26:29.973Z"
   },
   {
    "duration": 0,
    "start_time": "2023-04-29T22:26:29.974Z"
   },
   {
    "duration": 0,
    "start_time": "2023-04-29T22:26:29.975Z"
   },
   {
    "duration": 0,
    "start_time": "2023-04-29T22:26:29.976Z"
   },
   {
    "duration": 0,
    "start_time": "2023-04-29T22:26:29.977Z"
   },
   {
    "duration": 0,
    "start_time": "2023-04-29T22:26:29.978Z"
   },
   {
    "duration": 0,
    "start_time": "2023-04-29T22:26:29.979Z"
   },
   {
    "duration": 0,
    "start_time": "2023-04-29T22:26:29.980Z"
   },
   {
    "duration": 0,
    "start_time": "2023-04-29T22:26:29.981Z"
   },
   {
    "duration": 0,
    "start_time": "2023-04-29T22:26:29.982Z"
   },
   {
    "duration": 0,
    "start_time": "2023-04-29T22:26:29.983Z"
   },
   {
    "duration": 0,
    "start_time": "2023-04-29T22:26:29.984Z"
   },
   {
    "duration": 0,
    "start_time": "2023-04-29T22:26:29.984Z"
   },
   {
    "duration": 0,
    "start_time": "2023-04-29T22:26:29.985Z"
   },
   {
    "duration": 0,
    "start_time": "2023-04-29T22:26:29.986Z"
   },
   {
    "duration": 0,
    "start_time": "2023-04-29T22:26:29.987Z"
   },
   {
    "duration": 0,
    "start_time": "2023-04-29T22:26:29.988Z"
   },
   {
    "duration": 0,
    "start_time": "2023-04-29T22:26:29.989Z"
   },
   {
    "duration": 965,
    "start_time": "2023-04-29T22:26:56.013Z"
   },
   {
    "duration": 76,
    "start_time": "2023-04-29T22:26:56.980Z"
   },
   {
    "duration": 12,
    "start_time": "2023-04-29T22:26:57.058Z"
   },
   {
    "duration": 14,
    "start_time": "2023-04-29T22:26:57.073Z"
   },
   {
    "duration": 16,
    "start_time": "2023-04-29T22:26:57.089Z"
   },
   {
    "duration": 6,
    "start_time": "2023-04-29T22:26:57.107Z"
   },
   {
    "duration": 6,
    "start_time": "2023-04-29T22:26:57.114Z"
   },
   {
    "duration": 11,
    "start_time": "2023-04-29T22:26:57.122Z"
   },
   {
    "duration": 20,
    "start_time": "2023-04-29T22:26:57.135Z"
   },
   {
    "duration": 7,
    "start_time": "2023-04-29T22:26:57.157Z"
   },
   {
    "duration": 12,
    "start_time": "2023-04-29T22:26:57.166Z"
   },
   {
    "duration": 6,
    "start_time": "2023-04-29T22:26:57.179Z"
   },
   {
    "duration": 6,
    "start_time": "2023-04-29T22:26:57.186Z"
   },
   {
    "duration": 8,
    "start_time": "2023-04-29T22:26:57.193Z"
   },
   {
    "duration": 7,
    "start_time": "2023-04-29T22:26:57.203Z"
   },
   {
    "duration": 15,
    "start_time": "2023-04-29T22:26:57.211Z"
   },
   {
    "duration": 9,
    "start_time": "2023-04-29T22:26:57.227Z"
   },
   {
    "duration": 6,
    "start_time": "2023-04-29T22:26:57.237Z"
   },
   {
    "duration": 7,
    "start_time": "2023-04-29T22:26:57.244Z"
   },
   {
    "duration": 11,
    "start_time": "2023-04-29T22:26:57.273Z"
   },
   {
    "duration": 98,
    "start_time": "2023-04-29T22:26:57.285Z"
   },
   {
    "duration": 0,
    "start_time": "2023-04-29T22:26:57.385Z"
   },
   {
    "duration": 0,
    "start_time": "2023-04-29T22:26:57.386Z"
   },
   {
    "duration": 0,
    "start_time": "2023-04-29T22:26:57.387Z"
   },
   {
    "duration": 0,
    "start_time": "2023-04-29T22:26:57.388Z"
   },
   {
    "duration": 0,
    "start_time": "2023-04-29T22:26:57.388Z"
   },
   {
    "duration": 0,
    "start_time": "2023-04-29T22:26:57.390Z"
   },
   {
    "duration": 0,
    "start_time": "2023-04-29T22:26:57.390Z"
   },
   {
    "duration": 0,
    "start_time": "2023-04-29T22:26:57.391Z"
   },
   {
    "duration": 0,
    "start_time": "2023-04-29T22:26:57.392Z"
   },
   {
    "duration": 0,
    "start_time": "2023-04-29T22:26:57.393Z"
   },
   {
    "duration": 0,
    "start_time": "2023-04-29T22:26:57.394Z"
   },
   {
    "duration": 0,
    "start_time": "2023-04-29T22:26:57.395Z"
   },
   {
    "duration": 0,
    "start_time": "2023-04-29T22:26:57.396Z"
   },
   {
    "duration": 0,
    "start_time": "2023-04-29T22:26:57.397Z"
   },
   {
    "duration": 0,
    "start_time": "2023-04-29T22:26:57.398Z"
   },
   {
    "duration": 0,
    "start_time": "2023-04-29T22:26:57.399Z"
   },
   {
    "duration": 0,
    "start_time": "2023-04-29T22:26:57.400Z"
   },
   {
    "duration": 0,
    "start_time": "2023-04-29T22:26:57.401Z"
   },
   {
    "duration": 14,
    "start_time": "2023-04-29T22:27:15.588Z"
   },
   {
    "duration": 10,
    "start_time": "2023-04-29T22:28:06.052Z"
   },
   {
    "duration": 11,
    "start_time": "2023-04-29T22:28:11.700Z"
   },
   {
    "duration": 109,
    "start_time": "2023-04-29T22:35:03.488Z"
   },
   {
    "duration": 13,
    "start_time": "2023-04-29T22:35:09.622Z"
   },
   {
    "duration": 8,
    "start_time": "2023-04-29T22:37:27.490Z"
   },
   {
    "duration": 8,
    "start_time": "2023-04-29T22:37:33.994Z"
   },
   {
    "duration": 4,
    "start_time": "2023-04-29T22:39:16.149Z"
   },
   {
    "duration": 1150,
    "start_time": "2023-04-29T22:39:23.588Z"
   },
   {
    "duration": 77,
    "start_time": "2023-04-29T22:39:24.740Z"
   },
   {
    "duration": 12,
    "start_time": "2023-04-29T22:39:24.819Z"
   },
   {
    "duration": 10,
    "start_time": "2023-04-29T22:39:24.832Z"
   },
   {
    "duration": 10,
    "start_time": "2023-04-29T22:39:24.844Z"
   },
   {
    "duration": 5,
    "start_time": "2023-04-29T22:39:24.856Z"
   },
   {
    "duration": 5,
    "start_time": "2023-04-29T22:39:24.862Z"
   },
   {
    "duration": 30,
    "start_time": "2023-04-29T22:39:24.868Z"
   },
   {
    "duration": 11,
    "start_time": "2023-04-29T22:39:24.900Z"
   },
   {
    "duration": 16,
    "start_time": "2023-04-29T22:39:24.913Z"
   },
   {
    "duration": 9,
    "start_time": "2023-04-29T22:39:24.931Z"
   },
   {
    "duration": 11,
    "start_time": "2023-04-29T22:39:24.942Z"
   },
   {
    "duration": 16,
    "start_time": "2023-04-29T22:39:24.955Z"
   },
   {
    "duration": 18,
    "start_time": "2023-04-29T22:39:24.976Z"
   },
   {
    "duration": 6,
    "start_time": "2023-04-29T22:39:24.996Z"
   },
   {
    "duration": 9,
    "start_time": "2023-04-29T22:39:25.003Z"
   },
   {
    "duration": 7,
    "start_time": "2023-04-29T22:39:25.014Z"
   },
   {
    "duration": 26,
    "start_time": "2023-04-29T22:39:25.023Z"
   },
   {
    "duration": 6,
    "start_time": "2023-04-29T22:39:25.051Z"
   },
   {
    "duration": 16,
    "start_time": "2023-04-29T22:39:25.058Z"
   },
   {
    "duration": 18,
    "start_time": "2023-04-29T22:39:25.077Z"
   },
   {
    "duration": 4,
    "start_time": "2023-04-29T22:39:25.097Z"
   },
   {
    "duration": 55,
    "start_time": "2023-04-29T22:39:25.103Z"
   },
   {
    "duration": 24,
    "start_time": "2023-04-29T22:39:25.159Z"
   },
   {
    "duration": 575,
    "start_time": "2023-04-29T22:39:25.185Z"
   },
   {
    "duration": 250,
    "start_time": "2023-04-29T22:39:25.763Z"
   },
   {
    "duration": 298,
    "start_time": "2023-04-29T22:39:26.015Z"
   },
   {
    "duration": 236,
    "start_time": "2023-04-29T22:39:26.314Z"
   },
   {
    "duration": 350,
    "start_time": "2023-04-29T22:39:26.552Z"
   },
   {
    "duration": 195,
    "start_time": "2023-04-29T22:39:26.903Z"
   },
   {
    "duration": 7,
    "start_time": "2023-04-29T22:39:27.100Z"
   },
   {
    "duration": 171,
    "start_time": "2023-04-29T22:39:27.109Z"
   },
   {
    "duration": 246,
    "start_time": "2023-04-29T22:39:27.282Z"
   },
   {
    "duration": 5,
    "start_time": "2023-04-29T22:39:27.530Z"
   },
   {
    "duration": 3,
    "start_time": "2023-04-29T22:39:27.537Z"
   },
   {
    "duration": 470,
    "start_time": "2023-04-29T22:39:27.541Z"
   },
   {
    "duration": 421,
    "start_time": "2023-04-29T22:39:28.013Z"
   },
   {
    "duration": 7,
    "start_time": "2023-04-29T22:39:28.435Z"
   },
   {
    "duration": 60,
    "start_time": "2023-04-29T22:39:28.443Z"
   },
   {
    "duration": 168,
    "start_time": "2023-04-29T22:39:28.504Z"
   },
   {
    "duration": 1319,
    "start_time": "2023-04-30T06:48:26.553Z"
   },
   {
    "duration": 206,
    "start_time": "2023-04-30T06:48:27.874Z"
   },
   {
    "duration": 15,
    "start_time": "2023-04-30T06:48:28.082Z"
   },
   {
    "duration": 15,
    "start_time": "2023-04-30T06:48:28.099Z"
   },
   {
    "duration": 20,
    "start_time": "2023-04-30T06:48:28.116Z"
   },
   {
    "duration": 12,
    "start_time": "2023-04-30T06:48:28.137Z"
   },
   {
    "duration": 5,
    "start_time": "2023-04-30T06:48:28.150Z"
   },
   {
    "duration": 10,
    "start_time": "2023-04-30T06:48:28.156Z"
   },
   {
    "duration": 20,
    "start_time": "2023-04-30T06:48:28.167Z"
   },
   {
    "duration": 6,
    "start_time": "2023-04-30T06:48:28.190Z"
   },
   {
    "duration": 12,
    "start_time": "2023-04-30T06:48:28.197Z"
   },
   {
    "duration": 8,
    "start_time": "2023-04-30T06:48:28.210Z"
   },
   {
    "duration": 8,
    "start_time": "2023-04-30T06:48:28.219Z"
   },
   {
    "duration": 15,
    "start_time": "2023-04-30T06:48:28.228Z"
   },
   {
    "duration": 5,
    "start_time": "2023-04-30T06:48:28.245Z"
   },
   {
    "duration": 10,
    "start_time": "2023-04-30T06:48:28.285Z"
   },
   {
    "duration": 13,
    "start_time": "2023-04-30T06:48:28.297Z"
   },
   {
    "duration": 16,
    "start_time": "2023-04-30T06:48:28.312Z"
   },
   {
    "duration": 11,
    "start_time": "2023-04-30T06:48:28.330Z"
   },
   {
    "duration": 13,
    "start_time": "2023-04-30T06:48:28.342Z"
   },
   {
    "duration": 17,
    "start_time": "2023-04-30T06:48:28.357Z"
   },
   {
    "duration": 4,
    "start_time": "2023-04-30T06:48:28.385Z"
   },
   {
    "duration": 69,
    "start_time": "2023-04-30T06:48:28.391Z"
   },
   {
    "duration": 25,
    "start_time": "2023-04-30T06:48:28.462Z"
   },
   {
    "duration": 572,
    "start_time": "2023-04-30T06:48:28.489Z"
   },
   {
    "duration": 225,
    "start_time": "2023-04-30T06:48:29.063Z"
   },
   {
    "duration": 352,
    "start_time": "2023-04-30T06:48:29.289Z"
   },
   {
    "duration": 230,
    "start_time": "2023-04-30T06:48:29.644Z"
   },
   {
    "duration": 343,
    "start_time": "2023-04-30T06:48:29.875Z"
   },
   {
    "duration": 188,
    "start_time": "2023-04-30T06:48:30.220Z"
   },
   {
    "duration": 5,
    "start_time": "2023-04-30T06:48:30.409Z"
   },
   {
    "duration": 199,
    "start_time": "2023-04-30T06:48:30.416Z"
   },
   {
    "duration": 255,
    "start_time": "2023-04-30T06:48:30.616Z"
   },
   {
    "duration": 13,
    "start_time": "2023-04-30T06:48:30.873Z"
   },
   {
    "duration": 19,
    "start_time": "2023-04-30T06:48:30.888Z"
   },
   {
    "duration": 492,
    "start_time": "2023-04-30T06:48:30.909Z"
   },
   {
    "duration": 465,
    "start_time": "2023-04-30T06:48:31.404Z"
   },
   {
    "duration": 18,
    "start_time": "2023-04-30T06:48:31.871Z"
   },
   {
    "duration": 32,
    "start_time": "2023-04-30T06:48:31.891Z"
   },
   {
    "duration": 15,
    "start_time": "2023-04-30T06:48:31.924Z"
   }
  ],
  "kernelspec": {
   "display_name": "Python 3 (ipykernel)",
   "language": "python",
   "name": "python3"
  },
  "language_info": {
   "codemirror_mode": {
    "name": "ipython",
    "version": 3
   },
   "file_extension": ".py",
   "mimetype": "text/x-python",
   "name": "python",
   "nbconvert_exporter": "python",
   "pygments_lexer": "ipython3",
   "version": "3.9.13"
  },
  "toc": {
   "base_numbering": 1,
   "nav_menu": {},
   "number_sections": true,
   "sideBar": true,
   "skip_h1_title": true,
   "title_cell": "Table of Contents",
   "title_sidebar": "Contents",
   "toc_cell": false,
   "toc_position": {},
   "toc_section_display": true,
   "toc_window_display": false
  }
 },
 "nbformat": 4,
 "nbformat_minor": 2
}
